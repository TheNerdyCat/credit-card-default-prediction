{
 "cells": [
  {
   "cell_type": "markdown",
   "metadata": {},
   "source": [
    "# ML Project - Predicting Bad Cases - Sprint 2\n",
    "    19-04-23 15:19\n",
    "    Edward Sims\n",
    "    Credit Team\n",
    "\n",
    "\n",
    "\n",
    "## Introduction\n",
    "The aim of this project is to attempt to predict bad cases using the Lender data. The deliverables of this project are not only to predict the bad cases themselves, but also to see which features are most important in making these predictions. \n",
    "\n",
    "In the previous sprint 1, we achieved an accuracy of 96% and a recall of 11%. The main objective of sprint 2 is to boost the recall value as much as possible, to be able to provide more meaningful results.\n",
    "\n",
    "Bad cases in this project are considered to be any loan reference that is in arrears of over 30 days.\n",
    "\n",
    "The Lender Portal download will be used as our dataset for the time being. \n",
    "\n",
    "High level aims of the project are to then take the results of the predictors and use them to help fine tune the Decision Engine.\n",
    "\n",
    "\n",
    "## Exploratory Data Analysis\n",
    "The goal of this section is to gain an understanding of our data in order to inform what we do in the feature engineering section.\n",
    "\n",
    "We begin our exploratory data analysis by loading our standard modules. We then proceed to do some initial tidying of our data before looking at the features one by one. "
   ]
  },
  {
   "cell_type": "code",
   "execution_count": 1,
   "metadata": {},
   "outputs": [
    {
     "name": "stderr",
     "output_type": "stream",
     "text": [
      "C:\\Users\\Edward Sims\\Anaconda3\\lib\\site-packages\\sklearn\\ensemble\\weight_boosting.py:29: DeprecationWarning: numpy.core.umath_tests is an internal NumPy module and should not be imported. It will be removed in a future NumPy release.\n",
      "  from numpy.core.umath_tests import inner1d\n"
     ]
    }
   ],
   "source": [
    "import pandas as pd\n",
    "import numpy as np\n",
    "import seaborn as sns\n",
    "import matplotlib.pyplot as plt\n",
    "%matplotlib inline\n",
    "\n",
    "import time\n",
    "import ipaddress\n",
    "from datetime import date\n",
    "import datetime as dt\n",
    "from pandas.tseries.offsets import BMonthEnd\n",
    "import gc\n",
    "import os\n",
    "\n",
    "from imblearn.over_sampling import SMOTE\n",
    "\n",
    "from sklearn.feature_selection import VarianceThreshold\n",
    "from sklearn.model_selection import train_test_split, GridSearchCV, StratifiedKFold, cross_val_predict\n",
    "from sklearn.ensemble import RandomForestClassifier\n",
    "\n",
    "from sklearn.metrics import confusion_matrix, recall_score, precision_score, accuracy_score, roc_curve\n",
    "from sklearn.utils.multiclass import unique_labels"
   ]
  },
  {
   "cell_type": "markdown",
   "metadata": {},
   "source": [
    "We then load the data, which we have downloaded from duoBI."
   ]
  },
  {
   "cell_type": "code",
   "execution_count": 2,
   "metadata": {},
   "outputs": [
    {
     "name": "stdout",
     "output_type": "stream",
     "text": [
      "Raw data shape: (80749, 90)\n",
      "Removed 49588 records that were not activated, accepted or signed.\n"
     ]
    }
   ],
   "source": [
    "lender_data_raw = pd.read_csv('input/Lender_Raw_Data.csv')\n",
    "print(\"Raw data shape: \" + str(lender_data_raw.shape))\n",
    "\n",
    "# Only select Activated, Accepted and Signed cases\n",
    "print(\"Removed \" + str(len(lender_data_raw[~((lender_data_raw['Status.1'] == 'ACTIVATED') | (lender_data_raw['Status.1'] == 'ACCEPTED') | (lender_data_raw['Status.1'] == 'SIGNED'))])) + \" records that were not activated, accepted or signed.\")\n",
    "lender_data = lender_data_raw[(lender_data_raw['Status.1'] == 'ACTIVATED') | (lender_data_raw['Status.1'] == 'ACCEPTED') | (lender_data_raw['Status.1'] == 'SIGNED')]"
   ]
  },
  {
   "cell_type": "code",
   "execution_count": 3,
   "metadata": {},
   "outputs": [
    {
     "data": {
      "text/plain": [
       "(31161, 90)"
      ]
     },
     "execution_count": 3,
     "metadata": {},
     "output_type": "execute_result"
    }
   ],
   "source": [
    "lender_data.shape"
   ]
  },
  {
   "cell_type": "markdown",
   "metadata": {},
   "source": [
    "Next we need to upload a Multi-tier dataset to match records by."
   ]
  },
  {
   "cell_type": "code",
   "execution_count": 4,
   "metadata": {},
   "outputs": [
    {
     "name": "stdout",
     "output_type": "stream",
     "text": [
      "1136 m-tier records\n"
     ]
    },
    {
     "name": "stderr",
     "output_type": "stream",
     "text": [
      "C:\\Users\\Edward Sims\\Anaconda3\\lib\\site-packages\\ipykernel_launcher.py:2: SettingWithCopyWarning: \n",
      "A value is trying to be set on a copy of a slice from a DataFrame.\n",
      "Try using .loc[row_indexer,col_indexer] = value instead\n",
      "\n",
      "See the caveats in the documentation: http://pandas.pydata.org/pandas-docs/stable/indexing.html#indexing-view-versus-copy\n",
      "  \n"
     ]
    }
   ],
   "source": [
    "mtier_data = pd.read_csv('input/mtier 19-04-12.csv')\n",
    "lender_data['mtier'] = pd.Series(lender_data['LoanRef'].isin(mtier_data['AgreementRef']).astype(int))\n",
    "print(str(sum(lender_data['mtier'])) + \" m-tier records\")"
   ]
  },
  {
   "cell_type": "markdown",
   "metadata": {},
   "source": [
    "We then remove all records that are too young to have arrears. As payments are made monthly, the minimum arrears possible is one month, meaning any application younger than a month is pointless."
   ]
  },
  {
   "cell_type": "code",
   "execution_count": 5,
   "metadata": {},
   "outputs": [
    {
     "name": "stdout",
     "output_type": "stream",
     "text": [
      "Removed 9158 records under 91 days old\n"
     ]
    }
   ],
   "source": [
    "print(\"Removed \" + str(sum((date.today() - pd.to_datetime(lender_data['CreatedAt'], format='%Y-%m-%d %H:%M:%S').dt.date) < \"91 days\")) + \" records under 91 days old\")\n",
    "lender_data = lender_data[~((date.today() - pd.to_datetime(lender_data['CreatedAt'], format='%Y-%m-%d %H:%M:%S').dt.date) < \"91 days\")]"
   ]
  },
  {
   "cell_type": "markdown",
   "metadata": {},
   "source": [
    "Now we've done our initial data work, we upload our arrears data to get labels from. This is the full historic dataset of all loans gone bad at each month end, so includes duplicated Loan References (for loans that have remained bad over the months). We'll remove duplicate loan references, retaining records with the bad case label. We'll also make sure to save the arrears dataset WITH duplicates for future use in the oversampling section."
   ]
  },
  {
   "cell_type": "code",
   "execution_count": 6,
   "metadata": {},
   "outputs": [],
   "source": [
    "# Import Arrears data\n",
    "arrears_data = pd.read_csv('input/arrears_history.csv',\n",
    "                           #engine = 'python', # Only need to use this for the skipfooter arg\n",
    "                           skiprows = 1,\n",
    "                           #skipfooter = 3,\n",
    "                           thousands = ',', # Recognise thousand separator\n",
    "                           decimal = '.', # Recognise decimal point\n",
    "                           usecols = [3,7,8,9,10,11,12],\n",
    "                           names = ['LoanRef','1-30','31-60','61-90','91-180','181-270','271-365']\n",
    "                          )"
   ]
  },
  {
   "cell_type": "code",
   "execution_count": 7,
   "metadata": {},
   "outputs": [],
   "source": [
    "def map_bad_case(row):\n",
    "    \"\"\"\n",
    "    Map the arrears columns to our bad case labels\n",
    "    \"\"\"\n",
    "    if row['31-60'] > 12:\n",
    "        val = 1\n",
    "    elif row['61-90'] > 12:\n",
    "        val = 1\n",
    "    elif row['91-180'] > 12:\n",
    "        val = 1\n",
    "    elif row['181-270'] > 12:\n",
    "        val = 1\n",
    "    elif row['271-365'] > 12:\n",
    "        val = 1\n",
    "    else:\n",
    "        val = 0\n",
    "    return val"
   ]
  },
  {
   "cell_type": "code",
   "execution_count": 8,
   "metadata": {},
   "outputs": [],
   "source": [
    "# Map arrears data to bad case label\n",
    "arrears_data['bad_case'] = arrears_data.apply(map_bad_case, axis = 1)"
   ]
  },
  {
   "cell_type": "code",
   "execution_count": 9,
   "metadata": {},
   "outputs": [],
   "source": [
    "# Subset arrears_data to only bad cases\n",
    "arrears_data_with_dupes = arrears_data[arrears_data['bad_case'] == 1]"
   ]
  },
  {
   "cell_type": "code",
   "execution_count": 10,
   "metadata": {},
   "outputs": [
    {
     "name": "stdout",
     "output_type": "stream",
     "text": [
      "Number of arrears bad cases: 1569 (Unique records)\n"
     ]
    }
   ],
   "source": [
    "# Subset arrears_data to just LoanRef and labels, and save \n",
    "arrears_data_no_dupes = arrears_data_with_dupes.drop_duplicates('LoanRef')\n",
    "arrears_data_no_dupes = arrears_data_no_dupes.iloc[:, [0,7]]\n",
    "\n",
    "print(\"Number of arrears bad cases: \" + str(len(arrears_data_no_dupes)) + \" (Unique records)\")"
   ]
  },
  {
   "cell_type": "code",
   "execution_count": 11,
   "metadata": {},
   "outputs": [],
   "source": [
    "df = lender_data.merge(arrears_data_no_dupes, on='LoanRef', how='left')\n",
    "df['bad_case'].fillna(0, inplace = True)"
   ]
  },
  {
   "cell_type": "code",
   "execution_count": 12,
   "metadata": {},
   "outputs": [
    {
     "name": "stdout",
     "output_type": "stream",
     "text": [
      "arrears data bad cases: 1569\n",
      "df records: 22003\n",
      "df bad cases: 1380.0  //  0.06271872017452165\n"
     ]
    }
   ],
   "source": [
    "print(\"arrears data bad cases: \" + str(len(arrears_data_no_dupes)))\n",
    "\n",
    "print(\"df records: \" + str(len(df)))\n",
    "print(\"df bad cases: \" + str(sum(df['bad_case'])) + \"  //  \" + str(sum(df['bad_case'])/len(df)))"
   ]
  },
  {
   "cell_type": "code",
   "execution_count": 13,
   "metadata": {},
   "outputs": [],
   "source": [
    "# Save the datasets so far\n",
    "df.to_csv('df_before_feature_engineering.csv')\n",
    "arrears_data_no_dupes.to_csv('final_arrears_data.csv')"
   ]
  },
  {
   "cell_type": "markdown",
   "metadata": {},
   "source": [
    "First, let's take a look at the shape and summary of all the data. Immediately, we note that several features have nulls that we'll have to deal with."
   ]
  },
  {
   "cell_type": "code",
   "execution_count": 14,
   "metadata": {},
   "outputs": [
    {
     "data": {
      "text/plain": [
       "(22003, 92)"
      ]
     },
     "execution_count": 14,
     "metadata": {},
     "output_type": "execute_result"
    }
   ],
   "source": [
    "df.shape"
   ]
  },
  {
   "cell_type": "code",
   "execution_count": 15,
   "metadata": {
    "scrolled": true
   },
   "outputs": [
    {
     "name": "stdout",
     "output_type": "stream",
     "text": [
      "<class 'pandas.core.frame.DataFrame'>\n",
      "Int64Index: 22003 entries, 0 to 22002\n",
      "Data columns (total 92 columns):\n",
      "ApplicationID                         22003 non-null object\n",
      "ActiveCAIS3Applicant                  21826 non-null object\n",
      "ActiveCAIS3AssociateID                10197 non-null object\n",
      "ApplicantinIVA                        21844 non-null object\n",
      "BankClosedWarning                     21898 non-null object\n",
      "BankEnhancedScore                     0 non-null float64\n",
      "BankruptcyInformationApplicant        21844 non-null float64\n",
      "BankruptcyInformationAssociate        10844 non-null float64\n",
      "CAISSpecialInstructionSet             21774 non-null object\n",
      "ConfirmatoryDobs                      21889 non-null float64\n",
      "ConfirmedOnVotersRoll                 21845 non-null object\n",
      "CreditScore                           21845 non-null float64\n",
      "DeceasedWarning                       21897 non-null object\n",
      "DefaultCAISApplicant                  21844 non-null object\n",
      "DefaultCAISAssociate                  2530 non-null object\n",
      "DeviceRisk                            0 non-null object\n",
      "EmailCreated                          1378 non-null object\n",
      "EmailDomainStatusIsActive             21682 non-null object\n",
      "EmailStatusisActive                   21682 non-null object\n",
      "EmailageScore                         21682 non-null float64\n",
      "EmploymentStatus                      22003 non-null object\n",
      "Gender                                22003 non-null object\n",
      "GrossIncome                           21995 non-null float64\n",
      "HasactivePaydayLoan                   0 non-null float64\n",
      "HasappliedforPaydayLoan               21844 non-null object\n",
      "HasCCJ                                21889 non-null object\n",
      "Householdincome                       0 non-null float64\n",
      "IncomeConfidenceFactor                3780 non-null float64\n",
      "IncomeDebtRatios                      4136 non-null float64\n",
      "IncomeMaxID                           3805 non-null object\n",
      "IndebtednessScore                     4180 non-null float64\n",
      "IPAddress                             22003 non-null object\n",
      "JudgementApplicant                    0 non-null float64\n",
      "JudgementAssociate                    0 non-null float64\n",
      "MatchLevel                            21894 non-null object\n",
      "MobileRiskNumStatus                   21834 non-null object\n",
      "MobileRiskPhoneType                   21904 non-null float64\n",
      "MobileRiskRegLocation                 21893 non-null object\n",
      "MobileRiskScore                       21904 non-null float64\n",
      "NumberofActiveCIFASRecords            21897 non-null float64\n",
      "NumberOfActivePaydayLoans             21844 non-null float64\n",
      "NumberofBankruptcies                  0 non-null float64\n",
      "NumberofNoticesofCorrection           21844 non-null float64\n",
      "NumberofNoticesofDispute              21844 non-null float64\n",
      "OccupancyStatus                       22003 non-null object\n",
      "PepWarning                            21897 non-null object\n",
      "PercentageOfTotalPayments             4180 non-null object\n",
      "PrimaryChecksReturned                 21889 non-null float64\n",
      "RatioOfIncomeChangeOverThreeMonths    3740 non-null float64\n",
      "SanctionsWarning                      21897 non-null object\n",
      "SDNWarning                            21897 non-null object\n",
      "Status                                22003 non-null int64\n",
      "StatusBriefing                        21890 non-null object\n",
      "MerchantID                            22003 non-null object\n",
      "MerchantName                          22003 non-null object\n",
      "MerchantSector                        0 non-null float64\n",
      "Country                               22003 non-null object\n",
      "Currency                              22003 non-null object\n",
      "Status.1                              22003 non-null object\n",
      "Reference                             19487 non-null object\n",
      "CreatedAt                             22003 non-null object\n",
      "AcceptedAt                            22003 non-null object\n",
      "DeclinedAt                            126 non-null object\n",
      "DepositPaidAt                         9301 non-null object\n",
      "SignedAt                              13484 non-null object\n",
      "ActivatedAt                           19816 non-null object\n",
      "InfoNeededAt                          6 non-null object\n",
      "AwaitingActivationAt                  532 non-null object\n",
      "Channel                               21778 non-null object\n",
      "ChannelType                           21778 non-null object\n",
      "FinanceDescription                    22003 non-null object\n",
      "FinanceID                             22003 non-null object\n",
      "Lender                                22003 non-null object\n",
      "LoanRef                               21988 non-null object\n",
      "CreditAmount                          22003 non-null float64\n",
      "DepositAmount                         22003 non-null float64\n",
      "DepositStatus                         21778 non-null object\n",
      "CustomerName                          22003 non-null object\n",
      "DOB                                   22003 non-null object\n",
      "Email                                 22003 non-null object\n",
      "PhoneNumber                           22003 non-null object\n",
      "Nationality                           0 non-null float64\n",
      "BuildingNumber                        19097 non-null object\n",
      "Street                                22003 non-null object\n",
      "City                                  22003 non-null object\n",
      "Postcode                              22003 non-null object\n",
      "IsDuplicated                          22003 non-null int64\n",
      "AddedToWatchlist                      551 non-null object\n",
      "PGVariable                            0 non-null float64\n",
      "Comments                              103 non-null object\n",
      "mtier                                 22003 non-null int32\n",
      "bad_case                              22003 non-null float64\n",
      "dtypes: float64(29), int32(1), int64(2), object(60)\n",
      "memory usage: 15.5+ MB\n"
     ]
    }
   ],
   "source": [
    "df.info()"
   ]
  },
  {
   "cell_type": "markdown",
   "metadata": {},
   "source": [
    "It appears that we can drop all the ID features as these will be useless*. We've removed all empty features too. \n",
    "\n",
    "We've also removed the Status columns, as we've already filtered them to only show Activated records, as well as any other features that are rendered void since this filter. \n",
    "\n",
    "**We've kept the LoanRef field just for later use in oversampling.*"
   ]
  },
  {
   "cell_type": "code",
   "execution_count": 16,
   "metadata": {},
   "outputs": [],
   "source": [
    "cols_remove = ['BankEnhancedScore','DeviceRisk','HasactivePaydayLoan','Householdincome','JudgementApplicant', \n",
    "               'JudgementAssociate','NumberofBankruptcies','MerchantSector','Nationality','ApplicationID',\n",
    "               'Status', 'Status.1','StatusBriefing','MerchantID','DeclinedAt','InfoNeededAt',\n",
    "                'DepositPaidAt', 'FinanceID', 'Reference', 'ActivatedAt', 'SignedAt', 'LoanRef',\n",
    "               'AwaitingActivationAt','AddedToWatchlist','PGVariable','AddedToWatchlist','Comments'\n",
    "              ]\n",
    "df = df.drop(cols_remove, 1)"
   ]
  },
  {
   "cell_type": "markdown",
   "metadata": {},
   "source": [
    "### Bad Cases\n",
    "We need to add labels to our dataset for the Bad Cases. A 1 will signify a Bad Case, and a 0 will signify all others. "
   ]
  },
  {
   "cell_type": "code",
   "execution_count": 17,
   "metadata": {},
   "outputs": [
    {
     "data": {
      "text/plain": [
       "0.0    0.937281\n",
       "1.0    0.062719\n",
       "Name: bad_case, dtype: float64"
      ]
     },
     "execution_count": 17,
     "metadata": {},
     "output_type": "execute_result"
    }
   ],
   "source": [
    "df.bad_case.value_counts(normalize=True)"
   ]
  },
  {
   "cell_type": "code",
   "execution_count": 18,
   "metadata": {
    "scrolled": true
   },
   "outputs": [
    {
     "data": {
      "image/png": "[encoded data removed]",
      "text/plain": [
       "<Figure size 432x288 with 1 Axes>"
      ]
     },
     "metadata": {
      "needs_background": "light"
     },
     "output_type": "display_data"
    }
   ],
   "source": [
    "sns.countplot(df.bad_case)\n",
    "plt.show()"
   ]
  },
  {
   "cell_type": "markdown",
   "metadata": {},
   "source": [
    "As expected, the data is really skewed towards the non-bad cases. We'll need to figure out the best way to fix this. "
   ]
  },
  {
   "cell_type": "markdown",
   "metadata": {},
   "source": [
    "### ActiveCAIS3Applicant\n",
    "This variable is in part numerical. We'll need to map the Default (D) and Unknown (U) cases into numerical values. Looks like there is some useful information to be extracted here in terms of bad cases - higher numbers of D values have bad cases than others. We'll map D = 10, and U = 0."
   ]
  },
  {
   "cell_type": "code",
   "execution_count": 19,
   "metadata": {
    "scrolled": false
   },
   "outputs": [
    {
     "name": "stdout",
     "output_type": "stream",
     "text": [
      "bad_case summarised for each ActiveCAIS3Applicant\n"
     ]
    },
    {
     "data": {
      "text/html": [
       "<div>\n",
       "<style scoped>\n",
       "    .dataframe tbody tr th:only-of-type {\n",
       "        vertical-align: middle;\n",
       "    }\n",
       "\n",
       "    .dataframe tbody tr th {\n",
       "        vertical-align: top;\n",
       "    }\n",
       "\n",
       "    .dataframe thead th {\n",
       "        text-align: right;\n",
       "    }\n",
       "</style>\n",
       "<table border=\"1\" class=\"dataframe\">\n",
       "  <thead>\n",
       "    <tr style=\"text-align: right;\">\n",
       "      <th></th>\n",
       "      <th>mean</th>\n",
       "      <th>count</th>\n",
       "    </tr>\n",
       "    <tr>\n",
       "      <th>ActiveCAIS3Applicant</th>\n",
       "      <th></th>\n",
       "      <th></th>\n",
       "    </tr>\n",
       "  </thead>\n",
       "  <tbody>\n",
       "    <tr>\n",
       "      <th>0</th>\n",
       "      <td>0.050136</td>\n",
       "      <td>3690</td>\n",
       "    </tr>\n",
       "    <tr>\n",
       "      <th>1</th>\n",
       "      <td>0.057650</td>\n",
       "      <td>3608</td>\n",
       "    </tr>\n",
       "    <tr>\n",
       "      <th>2</th>\n",
       "      <td>0.110756</td>\n",
       "      <td>939</td>\n",
       "    </tr>\n",
       "    <tr>\n",
       "      <th>3</th>\n",
       "      <td>0.086111</td>\n",
       "      <td>360</td>\n",
       "    </tr>\n",
       "    <tr>\n",
       "      <th>4</th>\n",
       "      <td>0.098765</td>\n",
       "      <td>162</td>\n",
       "    </tr>\n",
       "    <tr>\n",
       "      <th>5</th>\n",
       "      <td>0.060000</td>\n",
       "      <td>100</td>\n",
       "    </tr>\n",
       "    <tr>\n",
       "      <th>6</th>\n",
       "      <td>0.096774</td>\n",
       "      <td>248</td>\n",
       "    </tr>\n",
       "    <tr>\n",
       "      <th>D</th>\n",
       "      <td>0.202696</td>\n",
       "      <td>2077</td>\n",
       "    </tr>\n",
       "    <tr>\n",
       "      <th>U</th>\n",
       "      <td>0.035050</td>\n",
       "      <td>10642</td>\n",
       "    </tr>\n",
       "  </tbody>\n",
       "</table>\n",
       "</div>"
      ],
      "text/plain": [
       "                          mean  count\n",
       "ActiveCAIS3Applicant                 \n",
       "0                     0.050136   3690\n",
       "1                     0.057650   3608\n",
       "2                     0.110756    939\n",
       "3                     0.086111    360\n",
       "4                     0.098765    162\n",
       "5                     0.060000    100\n",
       "6                     0.096774    248\n",
       "D                     0.202696   2077\n",
       "U                     0.035050  10642"
      ]
     },
     "execution_count": 19,
     "metadata": {},
     "output_type": "execute_result"
    }
   ],
   "source": [
    "print('bad_case summarised for each ActiveCAIS3Applicant')\n",
    "df.bad_case.groupby(df.ActiveCAIS3Applicant).agg(['mean', 'count'])"
   ]
  },
  {
   "cell_type": "markdown",
   "metadata": {},
   "source": [
    "NaNs will be considered U, as as far as I'm concerned they are the same thing."
   ]
  },
  {
   "cell_type": "code",
   "execution_count": 20,
   "metadata": {},
   "outputs": [],
   "source": [
    "df['ActiveCAIS3Applicant'].fillna('U', inplace = True)"
   ]
  },
  {
   "cell_type": "code",
   "execution_count": 234,
   "metadata": {
    "collapsed": true
   },
   "outputs": [
    {
     "ename": "SyntaxError",
     "evalue": "EOL while scanning string literal (<ipython-input-234-522f16557d2a>, line 2)",
     "output_type": "error",
     "traceback": [
      "\u001b[1;36m  File \u001b[1;32m\"<ipython-input-234-522f16557d2a>\"\u001b[1;36m, line \u001b[1;32m2\u001b[0m\n\u001b[1;33m    df.loc[df.ActiveCAIS3Applicant == 'D', 'ActiveCAIS3Applicant'] = 10'/.;;;;;;;;;;;;;;;;eeeeeeeeeeeeeeeeeeeeeeeeeeeeeeeeeeeeeeeeeeeeeeeeeeeeeeeeee#\u001b[0m\n\u001b[1;37m                                                                                                                                                     ^\u001b[0m\n\u001b[1;31mSyntaxError\u001b[0m\u001b[1;31m:\u001b[0m EOL while scanning string literal\n"
     ]
    }
   ],
   "source": [
    "# Replace 'D' values with 10\n",
    "df.loc[df.ActiveCAIS3Applicant == 'D', 'ActiveCAIS3Applicant'] = 10"
   ]
  },
  {
   "cell_type": "code",
   "execution_count": null,
   "metadata": {},
   "outputs": [],
   "source": [
    "# Replace 'U' values with 0\n",
    "df.loc[df.ActiveCAIS3Applicant == 'U', 'ActiveCAIS3Applicant'] = 0"
   ]
  },
  {
   "cell_type": "code",
   "execution_count": 23,
   "metadata": {},
   "outputs": [],
   "source": [
    "# Make col numeric\n",
    "df['ActiveCAIS3Applicant'] = pd.to_numeric(df['ActiveCAIS3Applicant'])"
   ]
  },
  {
   "cell_type": "code",
   "execution_count": 24,
   "metadata": {
    "scrolled": true
   },
   "outputs": [
    {
     "data": {
      "text/plain": [
       "<matplotlib.axes._subplots.AxesSubplot at 0x1841dc90b70>"
      ]
     },
     "execution_count": 24,
     "metadata": {},
     "output_type": "execute_result"
    },
    {
     "data": {
      "image/png": "[encoded data removed]",
      "text/plain": [
       "<Figure size 432x288 with 1 Axes>"
      ]
     },
     "metadata": {
      "needs_background": "light"
     },
     "output_type": "display_data"
    }
   ],
   "source": [
    "sns.countplot(df['ActiveCAIS3Applicant'], hue = df['bad_case'])"
   ]
  },
  {
   "cell_type": "markdown",
   "metadata": {},
   "source": [
    "### ActiveCAIS3AssociateID\n",
    "Similar to ActiveCAIS3Applicant - we'll need to map the Default (D) and Unknown (U) cases into 10 and 0. "
   ]
  },
  {
   "cell_type": "code",
   "execution_count": 25,
   "metadata": {
    "scrolled": false
   },
   "outputs": [
    {
     "name": "stdout",
     "output_type": "stream",
     "text": [
      "bad_case summarised for each ActiveCAIS3AssociateID\n"
     ]
    },
    {
     "data": {
      "text/html": [
       "<div>\n",
       "<style scoped>\n",
       "    .dataframe tbody tr th:only-of-type {\n",
       "        vertical-align: middle;\n",
       "    }\n",
       "\n",
       "    .dataframe tbody tr th {\n",
       "        vertical-align: top;\n",
       "    }\n",
       "\n",
       "    .dataframe thead th {\n",
       "        text-align: right;\n",
       "    }\n",
       "</style>\n",
       "<table border=\"1\" class=\"dataframe\">\n",
       "  <thead>\n",
       "    <tr style=\"text-align: right;\">\n",
       "      <th></th>\n",
       "      <th>mean</th>\n",
       "      <th>count</th>\n",
       "    </tr>\n",
       "    <tr>\n",
       "      <th>ActiveCAIS3AssociateID</th>\n",
       "      <th></th>\n",
       "      <th></th>\n",
       "    </tr>\n",
       "  </thead>\n",
       "  <tbody>\n",
       "    <tr>\n",
       "      <th>0</th>\n",
       "      <td>0.026033</td>\n",
       "      <td>2420</td>\n",
       "    </tr>\n",
       "    <tr>\n",
       "      <th>1</th>\n",
       "      <td>0.032600</td>\n",
       "      <td>1319</td>\n",
       "    </tr>\n",
       "    <tr>\n",
       "      <th>2</th>\n",
       "      <td>0.061433</td>\n",
       "      <td>293</td>\n",
       "    </tr>\n",
       "    <tr>\n",
       "      <th>3</th>\n",
       "      <td>0.090226</td>\n",
       "      <td>133</td>\n",
       "    </tr>\n",
       "    <tr>\n",
       "      <th>4</th>\n",
       "      <td>0.081967</td>\n",
       "      <td>61</td>\n",
       "    </tr>\n",
       "    <tr>\n",
       "      <th>5</th>\n",
       "      <td>0.090909</td>\n",
       "      <td>44</td>\n",
       "    </tr>\n",
       "    <tr>\n",
       "      <th>6</th>\n",
       "      <td>0.067227</td>\n",
       "      <td>119</td>\n",
       "    </tr>\n",
       "    <tr>\n",
       "      <th>D</th>\n",
       "      <td>0.114010</td>\n",
       "      <td>1035</td>\n",
       "    </tr>\n",
       "    <tr>\n",
       "      <th>U</th>\n",
       "      <td>0.020113</td>\n",
       "      <td>4773</td>\n",
       "    </tr>\n",
       "  </tbody>\n",
       "</table>\n",
       "</div>"
      ],
      "text/plain": [
       "                            mean  count\n",
       "ActiveCAIS3AssociateID                 \n",
       "0                       0.026033   2420\n",
       "1                       0.032600   1319\n",
       "2                       0.061433    293\n",
       "3                       0.090226    133\n",
       "4                       0.081967     61\n",
       "5                       0.090909     44\n",
       "6                       0.067227    119\n",
       "D                       0.114010   1035\n",
       "U                       0.020113   4773"
      ]
     },
     "execution_count": 25,
     "metadata": {},
     "output_type": "execute_result"
    }
   ],
   "source": [
    "print('bad_case summarised for each ActiveCAIS3AssociateID')\n",
    "df.bad_case.groupby(df.ActiveCAIS3AssociateID).agg(['mean', 'count'])"
   ]
  },
  {
   "cell_type": "markdown",
   "metadata": {},
   "source": [
    "NaNs will again be considered U."
   ]
  },
  {
   "cell_type": "code",
   "execution_count": 26,
   "metadata": {},
   "outputs": [],
   "source": [
    "df['ActiveCAIS3AssociateID'].fillna('U', inplace = True)"
   ]
  },
  {
   "cell_type": "code",
   "execution_count": 27,
   "metadata": {},
   "outputs": [],
   "source": [
    "# Replace 'D' values with 10\n",
    "df.loc[df.ActiveCAIS3AssociateID == 'D', 'ActiveCAIS3AssociateID'] = 10"
   ]
  },
  {
   "cell_type": "code",
   "execution_count": 28,
   "metadata": {},
   "outputs": [],
   "source": [
    "# Replace 'U' values with 0\n",
    "df.loc[df.ActiveCAIS3AssociateID == 'U', 'ActiveCAIS3AssociateID'] = 0"
   ]
  },
  {
   "cell_type": "code",
   "execution_count": 29,
   "metadata": {},
   "outputs": [],
   "source": [
    "# Make col numeric\n",
    "df['ActiveCAIS3AssociateID'] = pd.to_numeric(df['ActiveCAIS3AssociateID'])"
   ]
  },
  {
   "cell_type": "code",
   "execution_count": 30,
   "metadata": {
    "scrolled": true
   },
   "outputs": [
    {
     "data": {
      "text/plain": [
       "<matplotlib.axes._subplots.AxesSubplot at 0x1841f508a20>"
      ]
     },
     "execution_count": 30,
     "metadata": {},
     "output_type": "execute_result"
    },
    {
     "data": {
      "image/png": "[encoded data removed]",
      "text/plain": [
       "<Figure size 432x288 with 1 Axes>"
      ]
     },
     "metadata": {
      "needs_background": "light"
     },
     "output_type": "display_data"
    }
   ],
   "source": [
    "sns.countplot(df['ActiveCAIS3AssociateID'], hue = df['bad_case'])"
   ]
  },
  {
   "cell_type": "markdown",
   "metadata": {},
   "source": [
    "### ApplicantinIVA\n",
    "This feature doesn't seem to be too useful given that all records but 116 are False, and there are currently no True values. We'll get rid of this one. "
   ]
  },
  {
   "cell_type": "code",
   "execution_count": 31,
   "metadata": {
    "scrolled": false
   },
   "outputs": [
    {
     "data": {
      "text/html": [
       "<div>\n",
       "<style scoped>\n",
       "    .dataframe tbody tr th:only-of-type {\n",
       "        vertical-align: middle;\n",
       "    }\n",
       "\n",
       "    .dataframe tbody tr th {\n",
       "        vertical-align: top;\n",
       "    }\n",
       "\n",
       "    .dataframe thead th {\n",
       "        text-align: right;\n",
       "    }\n",
       "</style>\n",
       "<table border=\"1\" class=\"dataframe\">\n",
       "  <thead>\n",
       "    <tr style=\"text-align: right;\">\n",
       "      <th></th>\n",
       "      <th>mean</th>\n",
       "      <th>count</th>\n",
       "    </tr>\n",
       "    <tr>\n",
       "      <th>ApplicantinIVA</th>\n",
       "      <th></th>\n",
       "      <th></th>\n",
       "    </tr>\n",
       "  </thead>\n",
       "  <tbody>\n",
       "    <tr>\n",
       "      <th>False</th>\n",
       "      <td>0.062809</td>\n",
       "      <td>21844</td>\n",
       "    </tr>\n",
       "  </tbody>\n",
       "</table>\n",
       "</div>"
      ],
      "text/plain": [
       "                    mean  count\n",
       "ApplicantinIVA                 \n",
       "False           0.062809  21844"
      ]
     },
     "execution_count": 31,
     "metadata": {},
     "output_type": "execute_result"
    }
   ],
   "source": [
    "df.bad_case.groupby(df.ApplicantinIVA).agg(['mean', 'count'])"
   ]
  },
  {
   "cell_type": "code",
   "execution_count": 32,
   "metadata": {
    "scrolled": true
   },
   "outputs": [
    {
     "name": "stdout",
     "output_type": "stream",
     "text": [
      "Count of NaNs:  159\n"
     ]
    }
   ],
   "source": [
    "print('Count of NaNs: ',df['ApplicantinIVA'].isna().sum())"
   ]
  },
  {
   "cell_type": "code",
   "execution_count": 33,
   "metadata": {},
   "outputs": [],
   "source": [
    "cols_remove_2 = ['ApplicantinIVA']"
   ]
  },
  {
   "cell_type": "markdown",
   "metadata": {},
   "source": [
    "### BankClosedWarning\n",
    "Sparse feature - we'll get rid of this. "
   ]
  },
  {
   "cell_type": "code",
   "execution_count": 34,
   "metadata": {},
   "outputs": [
    {
     "data": {
      "text/html": [
       "<div>\n",
       "<style scoped>\n",
       "    .dataframe tbody tr th:only-of-type {\n",
       "        vertical-align: middle;\n",
       "    }\n",
       "\n",
       "    .dataframe tbody tr th {\n",
       "        vertical-align: top;\n",
       "    }\n",
       "\n",
       "    .dataframe thead th {\n",
       "        text-align: right;\n",
       "    }\n",
       "</style>\n",
       "<table border=\"1\" class=\"dataframe\">\n",
       "  <thead>\n",
       "    <tr style=\"text-align: right;\">\n",
       "      <th></th>\n",
       "      <th>mean</th>\n",
       "      <th>count</th>\n",
       "    </tr>\n",
       "    <tr>\n",
       "      <th>BankClosedWarning</th>\n",
       "      <th></th>\n",
       "      <th></th>\n",
       "    </tr>\n",
       "  </thead>\n",
       "  <tbody>\n",
       "    <tr>\n",
       "      <th>False</th>\n",
       "      <td>0.062745</td>\n",
       "      <td>21898</td>\n",
       "    </tr>\n",
       "  </tbody>\n",
       "</table>\n",
       "</div>"
      ],
      "text/plain": [
       "                       mean  count\n",
       "BankClosedWarning                 \n",
       "False              0.062745  21898"
      ]
     },
     "execution_count": 34,
     "metadata": {},
     "output_type": "execute_result"
    }
   ],
   "source": [
    "df.bad_case.groupby(df.BankClosedWarning).agg(['mean', 'count'])"
   ]
  },
  {
   "cell_type": "code",
   "execution_count": 35,
   "metadata": {
    "scrolled": true
   },
   "outputs": [
    {
     "name": "stdout",
     "output_type": "stream",
     "text": [
      "Count of NaNs:  105\n"
     ]
    }
   ],
   "source": [
    "print('Count of NaNs: ',df['BankClosedWarning'].isna().sum())"
   ]
  },
  {
   "cell_type": "code",
   "execution_count": 36,
   "metadata": {},
   "outputs": [],
   "source": [
    "cols_remove_2.append('BankClosedWarning')"
   ]
  },
  {
   "cell_type": "markdown",
   "metadata": {},
   "source": [
    "### BankruptcyInformationApplicant\n",
    "Sparse feature - makes sense as we are very unlikely to be lending to people who have had bankrupcies. We'll get rid of this feature. "
   ]
  },
  {
   "cell_type": "code",
   "execution_count": 37,
   "metadata": {
    "scrolled": false
   },
   "outputs": [
    {
     "data": {
      "text/html": [
       "<div>\n",
       "<style scoped>\n",
       "    .dataframe tbody tr th:only-of-type {\n",
       "        vertical-align: middle;\n",
       "    }\n",
       "\n",
       "    .dataframe tbody tr th {\n",
       "        vertical-align: top;\n",
       "    }\n",
       "\n",
       "    .dataframe thead th {\n",
       "        text-align: right;\n",
       "    }\n",
       "</style>\n",
       "<table border=\"1\" class=\"dataframe\">\n",
       "  <thead>\n",
       "    <tr style=\"text-align: right;\">\n",
       "      <th></th>\n",
       "      <th>mean</th>\n",
       "      <th>count</th>\n",
       "    </tr>\n",
       "    <tr>\n",
       "      <th>BankruptcyInformationApplicant</th>\n",
       "      <th></th>\n",
       "      <th></th>\n",
       "    </tr>\n",
       "  </thead>\n",
       "  <tbody>\n",
       "    <tr>\n",
       "      <th>0.0</th>\n",
       "      <td>0.062809</td>\n",
       "      <td>21844</td>\n",
       "    </tr>\n",
       "  </tbody>\n",
       "</table>\n",
       "</div>"
      ],
      "text/plain": [
       "                                    mean  count\n",
       "BankruptcyInformationApplicant                 \n",
       "0.0                             0.062809  21844"
      ]
     },
     "execution_count": 37,
     "metadata": {},
     "output_type": "execute_result"
    }
   ],
   "source": [
    "df.bad_case.groupby(df.BankruptcyInformationApplicant).agg(['mean', 'count'])"
   ]
  },
  {
   "cell_type": "code",
   "execution_count": 38,
   "metadata": {},
   "outputs": [
    {
     "name": "stdout",
     "output_type": "stream",
     "text": [
      "Count of NaNs:  159\n"
     ]
    }
   ],
   "source": [
    "print('Count of NaNs: ',df['BankruptcyInformationApplicant'].isna().sum())"
   ]
  },
  {
   "cell_type": "code",
   "execution_count": 39,
   "metadata": {},
   "outputs": [],
   "source": [
    "cols_remove_2.append('BankruptcyInformationApplicant')"
   ]
  },
  {
   "cell_type": "markdown",
   "metadata": {},
   "source": [
    "### BankruptcyInformationAssociate\n",
    "This is an interesting variable - There is potential use in keeping this feature as there are so many more bad cases for NaN records that for others. We will engineer the feature to be `is_BankruptcyInformationAssociate` and map to 0 = False, 1 = Unknown, 2 = True."
   ]
  },
  {
   "cell_type": "code",
   "execution_count": 40,
   "metadata": {},
   "outputs": [
    {
     "data": {
      "text/plain": [
       "BankruptcyInformationAssociate\n",
       "False    0.036795\n",
       "True     0.087911\n",
       "Name: bad_case, dtype: float64"
      ]
     },
     "execution_count": 40,
     "metadata": {},
     "output_type": "execute_result"
    }
   ],
   "source": [
    "df['bad_case'].groupby(df['BankruptcyInformationAssociate'].isnull()).mean()"
   ]
  },
  {
   "cell_type": "code",
   "execution_count": 41,
   "metadata": {},
   "outputs": [
    {
     "data": {
      "text/html": [
       "<div>\n",
       "<style scoped>\n",
       "    .dataframe tbody tr th:only-of-type {\n",
       "        vertical-align: middle;\n",
       "    }\n",
       "\n",
       "    .dataframe tbody tr th {\n",
       "        vertical-align: top;\n",
       "    }\n",
       "\n",
       "    .dataframe thead th {\n",
       "        text-align: right;\n",
       "    }\n",
       "</style>\n",
       "<table border=\"1\" class=\"dataframe\">\n",
       "  <thead>\n",
       "    <tr style=\"text-align: right;\">\n",
       "      <th></th>\n",
       "      <th>mean</th>\n",
       "      <th>count</th>\n",
       "    </tr>\n",
       "    <tr>\n",
       "      <th>BankruptcyInformationAssociate</th>\n",
       "      <th></th>\n",
       "      <th></th>\n",
       "    </tr>\n",
       "  </thead>\n",
       "  <tbody>\n",
       "    <tr>\n",
       "      <th>0.0</th>\n",
       "      <td>0.036326</td>\n",
       "      <td>10736</td>\n",
       "    </tr>\n",
       "    <tr>\n",
       "      <th>1.0</th>\n",
       "      <td>0.084906</td>\n",
       "      <td>106</td>\n",
       "    </tr>\n",
       "    <tr>\n",
       "      <th>2.0</th>\n",
       "      <td>0.000000</td>\n",
       "      <td>2</td>\n",
       "    </tr>\n",
       "  </tbody>\n",
       "</table>\n",
       "</div>"
      ],
      "text/plain": [
       "                                    mean  count\n",
       "BankruptcyInformationAssociate                 \n",
       "0.0                             0.036326  10736\n",
       "1.0                             0.084906    106\n",
       "2.0                             0.000000      2"
      ]
     },
     "execution_count": 41,
     "metadata": {},
     "output_type": "execute_result"
    }
   ],
   "source": [
    "df.bad_case.groupby(df.BankruptcyInformationAssociate).agg(['mean', 'count'])"
   ]
  },
  {
   "cell_type": "code",
   "execution_count": 42,
   "metadata": {},
   "outputs": [
    {
     "data": {
      "text/plain": [
       "<matplotlib.axes._subplots.AxesSubplot at 0x1841ee28048>"
      ]
     },
     "execution_count": 42,
     "metadata": {},
     "output_type": "execute_result"
    },
    {
     "data": {
      "image/png": "[encoded data removed]",
      "text/plain": [
       "<Figure size 432x288 with 1 Axes>"
      ]
     },
     "metadata": {
      "needs_background": "light"
     },
     "output_type": "display_data"
    }
   ],
   "source": [
    "sns.countplot(df['BankruptcyInformationAssociate'], hue = df['bad_case'])"
   ]
  },
  {
   "cell_type": "markdown",
   "metadata": {},
   "source": [
    "### CAISSpecialInstructionSet\n",
    "Sparse feature - we'll get rid of this."
   ]
  },
  {
   "cell_type": "code",
   "execution_count": 43,
   "metadata": {
    "scrolled": true
   },
   "outputs": [
    {
     "data": {
      "text/html": [
       "<div>\n",
       "<style scoped>\n",
       "    .dataframe tbody tr th:only-of-type {\n",
       "        vertical-align: middle;\n",
       "    }\n",
       "\n",
       "    .dataframe tbody tr th {\n",
       "        vertical-align: top;\n",
       "    }\n",
       "\n",
       "    .dataframe thead th {\n",
       "        text-align: right;\n",
       "    }\n",
       "</style>\n",
       "<table border=\"1\" class=\"dataframe\">\n",
       "  <thead>\n",
       "    <tr style=\"text-align: right;\">\n",
       "      <th></th>\n",
       "      <th>mean</th>\n",
       "      <th>count</th>\n",
       "    </tr>\n",
       "    <tr>\n",
       "      <th>CAISSpecialInstructionSet</th>\n",
       "      <th></th>\n",
       "      <th></th>\n",
       "    </tr>\n",
       "  </thead>\n",
       "  <tbody>\n",
       "    <tr>\n",
       "      <th>G</th>\n",
       "      <td>0.000000</td>\n",
       "      <td>1</td>\n",
       "    </tr>\n",
       "    <tr>\n",
       "      <th>N</th>\n",
       "      <td>0.062003</td>\n",
       "      <td>21773</td>\n",
       "    </tr>\n",
       "  </tbody>\n",
       "</table>\n",
       "</div>"
      ],
      "text/plain": [
       "                               mean  count\n",
       "CAISSpecialInstructionSet                 \n",
       "G                          0.000000      1\n",
       "N                          0.062003  21773"
      ]
     },
     "execution_count": 43,
     "metadata": {},
     "output_type": "execute_result"
    }
   ],
   "source": [
    "df.bad_case.groupby(df.CAISSpecialInstructionSet).agg(['mean', 'count'])"
   ]
  },
  {
   "cell_type": "code",
   "execution_count": 44,
   "metadata": {
    "scrolled": true
   },
   "outputs": [
    {
     "name": "stdout",
     "output_type": "stream",
     "text": [
      "Count of NaNs:  229\n"
     ]
    }
   ],
   "source": [
    "print('Count of NaNs: ',df['CAISSpecialInstructionSet'].isna().sum())"
   ]
  },
  {
   "cell_type": "code",
   "execution_count": 45,
   "metadata": {},
   "outputs": [],
   "source": [
    "cols_remove_2.append('CAISSpecialInstructionSet')"
   ]
  },
  {
   "cell_type": "markdown",
   "metadata": {},
   "source": [
    "### ConfirmatoryDobs\n",
    "Quite normally distributed, and a noticeable amount of bad cases for NaN values. We will make a null_flag feature for this. "
   ]
  },
  {
   "cell_type": "code",
   "execution_count": 46,
   "metadata": {},
   "outputs": [
    {
     "data": {
      "text/plain": [
       "<matplotlib.axes._subplots.AxesSubplot at 0x1841ee7f630>"
      ]
     },
     "execution_count": 46,
     "metadata": {},
     "output_type": "execute_result"
    },
    {
     "data": {
      "image/png": "[encoded data removed]",
      "text/plain": [
       "<Figure size 432x288 with 1 Axes>"
      ]
     },
     "metadata": {
      "needs_background": "light"
     },
     "output_type": "display_data"
    }
   ],
   "source": [
    "sns.countplot(df['ConfirmatoryDobs'], hue = df['bad_case'])"
   ]
  },
  {
   "cell_type": "code",
   "execution_count": 47,
   "metadata": {},
   "outputs": [
    {
     "data": {
      "text/html": [
       "<div>\n",
       "<style scoped>\n",
       "    .dataframe tbody tr th:only-of-type {\n",
       "        vertical-align: middle;\n",
       "    }\n",
       "\n",
       "    .dataframe tbody tr th {\n",
       "        vertical-align: top;\n",
       "    }\n",
       "\n",
       "    .dataframe thead th {\n",
       "        text-align: right;\n",
       "    }\n",
       "</style>\n",
       "<table border=\"1\" class=\"dataframe\">\n",
       "  <thead>\n",
       "    <tr style=\"text-align: right;\">\n",
       "      <th></th>\n",
       "      <th>mean</th>\n",
       "      <th>count</th>\n",
       "    </tr>\n",
       "    <tr>\n",
       "      <th>ConfirmatoryDobs</th>\n",
       "      <th></th>\n",
       "      <th></th>\n",
       "    </tr>\n",
       "  </thead>\n",
       "  <tbody>\n",
       "    <tr>\n",
       "      <th>0.0</th>\n",
       "      <td>0.062500</td>\n",
       "      <td>32</td>\n",
       "    </tr>\n",
       "    <tr>\n",
       "      <th>1.0</th>\n",
       "      <td>0.106653</td>\n",
       "      <td>947</td>\n",
       "    </tr>\n",
       "    <tr>\n",
       "      <th>2.0</th>\n",
       "      <td>0.096262</td>\n",
       "      <td>1953</td>\n",
       "    </tr>\n",
       "    <tr>\n",
       "      <th>3.0</th>\n",
       "      <td>0.076329</td>\n",
       "      <td>2332</td>\n",
       "    </tr>\n",
       "    <tr>\n",
       "      <th>4.0</th>\n",
       "      <td>0.057615</td>\n",
       "      <td>2482</td>\n",
       "    </tr>\n",
       "    <tr>\n",
       "      <th>5.0</th>\n",
       "      <td>0.070258</td>\n",
       "      <td>2562</td>\n",
       "    </tr>\n",
       "    <tr>\n",
       "      <th>6.0</th>\n",
       "      <td>0.047794</td>\n",
       "      <td>2448</td>\n",
       "    </tr>\n",
       "    <tr>\n",
       "      <th>7.0</th>\n",
       "      <td>0.051467</td>\n",
       "      <td>2079</td>\n",
       "    </tr>\n",
       "    <tr>\n",
       "      <th>8.0</th>\n",
       "      <td>0.056818</td>\n",
       "      <td>1760</td>\n",
       "    </tr>\n",
       "    <tr>\n",
       "      <th>9.0</th>\n",
       "      <td>0.058739</td>\n",
       "      <td>1396</td>\n",
       "    </tr>\n",
       "    <tr>\n",
       "      <th>10.0</th>\n",
       "      <td>0.041293</td>\n",
       "      <td>1114</td>\n",
       "    </tr>\n",
       "    <tr>\n",
       "      <th>11.0</th>\n",
       "      <td>0.045244</td>\n",
       "      <td>862</td>\n",
       "    </tr>\n",
       "    <tr>\n",
       "      <th>12.0</th>\n",
       "      <td>0.055000</td>\n",
       "      <td>600</td>\n",
       "    </tr>\n",
       "    <tr>\n",
       "      <th>13.0</th>\n",
       "      <td>0.032333</td>\n",
       "      <td>433</td>\n",
       "    </tr>\n",
       "    <tr>\n",
       "      <th>14.0</th>\n",
       "      <td>0.048701</td>\n",
       "      <td>308</td>\n",
       "    </tr>\n",
       "    <tr>\n",
       "      <th>15.0</th>\n",
       "      <td>0.066298</td>\n",
       "      <td>181</td>\n",
       "    </tr>\n",
       "    <tr>\n",
       "      <th>16.0</th>\n",
       "      <td>0.048780</td>\n",
       "      <td>164</td>\n",
       "    </tr>\n",
       "    <tr>\n",
       "      <th>17.0</th>\n",
       "      <td>0.000000</td>\n",
       "      <td>81</td>\n",
       "    </tr>\n",
       "    <tr>\n",
       "      <th>18.0</th>\n",
       "      <td>0.060000</td>\n",
       "      <td>50</td>\n",
       "    </tr>\n",
       "    <tr>\n",
       "      <th>19.0</th>\n",
       "      <td>0.088235</td>\n",
       "      <td>34</td>\n",
       "    </tr>\n",
       "    <tr>\n",
       "      <th>20.0</th>\n",
       "      <td>0.000000</td>\n",
       "      <td>29</td>\n",
       "    </tr>\n",
       "    <tr>\n",
       "      <th>21.0</th>\n",
       "      <td>0.142857</td>\n",
       "      <td>7</td>\n",
       "    </tr>\n",
       "    <tr>\n",
       "      <th>22.0</th>\n",
       "      <td>0.000000</td>\n",
       "      <td>8</td>\n",
       "    </tr>\n",
       "    <tr>\n",
       "      <th>23.0</th>\n",
       "      <td>0.111111</td>\n",
       "      <td>9</td>\n",
       "    </tr>\n",
       "    <tr>\n",
       "      <th>24.0</th>\n",
       "      <td>0.250000</td>\n",
       "      <td>4</td>\n",
       "    </tr>\n",
       "    <tr>\n",
       "      <th>25.0</th>\n",
       "      <td>0.000000</td>\n",
       "      <td>6</td>\n",
       "    </tr>\n",
       "    <tr>\n",
       "      <th>26.0</th>\n",
       "      <td>0.000000</td>\n",
       "      <td>3</td>\n",
       "    </tr>\n",
       "    <tr>\n",
       "      <th>27.0</th>\n",
       "      <td>0.000000</td>\n",
       "      <td>2</td>\n",
       "    </tr>\n",
       "    <tr>\n",
       "      <th>29.0</th>\n",
       "      <td>0.000000</td>\n",
       "      <td>3</td>\n",
       "    </tr>\n",
       "  </tbody>\n",
       "</table>\n",
       "</div>"
      ],
      "text/plain": [
       "                      mean  count\n",
       "ConfirmatoryDobs                 \n",
       "0.0               0.062500     32\n",
       "1.0               0.106653    947\n",
       "2.0               0.096262   1953\n",
       "3.0               0.076329   2332\n",
       "4.0               0.057615   2482\n",
       "5.0               0.070258   2562\n",
       "6.0               0.047794   2448\n",
       "7.0               0.051467   2079\n",
       "8.0               0.056818   1760\n",
       "9.0               0.058739   1396\n",
       "10.0              0.041293   1114\n",
       "11.0              0.045244    862\n",
       "12.0              0.055000    600\n",
       "13.0              0.032333    433\n",
       "14.0              0.048701    308\n",
       "15.0              0.066298    181\n",
       "16.0              0.048780    164\n",
       "17.0              0.000000     81\n",
       "18.0              0.060000     50\n",
       "19.0              0.088235     34\n",
       "20.0              0.000000     29\n",
       "21.0              0.142857      7\n",
       "22.0              0.000000      8\n",
       "23.0              0.111111      9\n",
       "24.0              0.250000      4\n",
       "25.0              0.000000      6\n",
       "26.0              0.000000      3\n",
       "27.0              0.000000      2\n",
       "29.0              0.000000      3"
      ]
     },
     "execution_count": 47,
     "metadata": {},
     "output_type": "execute_result"
    }
   ],
   "source": [
    "df.bad_case.groupby(df.ConfirmatoryDobs).agg(['mean', 'count'])"
   ]
  },
  {
   "cell_type": "code",
   "execution_count": 48,
   "metadata": {
    "scrolled": true
   },
   "outputs": [
    {
     "data": {
      "text/html": [
       "<div>\n",
       "<style scoped>\n",
       "    .dataframe tbody tr th:only-of-type {\n",
       "        vertical-align: middle;\n",
       "    }\n",
       "\n",
       "    .dataframe tbody tr th {\n",
       "        vertical-align: top;\n",
       "    }\n",
       "\n",
       "    .dataframe thead th {\n",
       "        text-align: right;\n",
       "    }\n",
       "</style>\n",
       "<table border=\"1\" class=\"dataframe\">\n",
       "  <thead>\n",
       "    <tr style=\"text-align: right;\">\n",
       "      <th></th>\n",
       "      <th>mean</th>\n",
       "      <th>count</th>\n",
       "    </tr>\n",
       "    <tr>\n",
       "      <th>ConfirmatoryDobs</th>\n",
       "      <th></th>\n",
       "      <th></th>\n",
       "    </tr>\n",
       "  </thead>\n",
       "  <tbody>\n",
       "    <tr>\n",
       "      <th>False</th>\n",
       "      <td>0.062771</td>\n",
       "      <td>21889</td>\n",
       "    </tr>\n",
       "    <tr>\n",
       "      <th>True</th>\n",
       "      <td>0.052632</td>\n",
       "      <td>114</td>\n",
       "    </tr>\n",
       "  </tbody>\n",
       "</table>\n",
       "</div>"
      ],
      "text/plain": [
       "                      mean  count\n",
       "ConfirmatoryDobs                 \n",
       "False             0.062771  21889\n",
       "True              0.052632    114"
      ]
     },
     "execution_count": 48,
     "metadata": {},
     "output_type": "execute_result"
    }
   ],
   "source": [
    "df['bad_case'].groupby(df['ConfirmatoryDobs'].isnull()).agg(['mean', 'count'])"
   ]
  },
  {
   "cell_type": "markdown",
   "metadata": {},
   "source": [
    "### ConfirmedOnVotersRoll\n",
    "This feature seems overall pretty useless - we'll get rid of this one. "
   ]
  },
  {
   "cell_type": "code",
   "execution_count": 49,
   "metadata": {
    "scrolled": false
   },
   "outputs": [
    {
     "data": {
      "text/html": [
       "<div>\n",
       "<style scoped>\n",
       "    .dataframe tbody tr th:only-of-type {\n",
       "        vertical-align: middle;\n",
       "    }\n",
       "\n",
       "    .dataframe tbody tr th {\n",
       "        vertical-align: top;\n",
       "    }\n",
       "\n",
       "    .dataframe thead th {\n",
       "        text-align: right;\n",
       "    }\n",
       "</style>\n",
       "<table border=\"1\" class=\"dataframe\">\n",
       "  <thead>\n",
       "    <tr style=\"text-align: right;\">\n",
       "      <th></th>\n",
       "      <th>mean</th>\n",
       "      <th>count</th>\n",
       "    </tr>\n",
       "    <tr>\n",
       "      <th>ConfirmedOnVotersRoll</th>\n",
       "      <th></th>\n",
       "      <th></th>\n",
       "    </tr>\n",
       "  </thead>\n",
       "  <tbody>\n",
       "    <tr>\n",
       "      <th>I1</th>\n",
       "      <td>0.062818</td>\n",
       "      <td>21841</td>\n",
       "    </tr>\n",
       "    <tr>\n",
       "      <th>I2</th>\n",
       "      <td>0.000000</td>\n",
       "      <td>3</td>\n",
       "    </tr>\n",
       "    <tr>\n",
       "      <th>S1</th>\n",
       "      <td>0.000000</td>\n",
       "      <td>1</td>\n",
       "    </tr>\n",
       "  </tbody>\n",
       "</table>\n",
       "</div>"
      ],
      "text/plain": [
       "                           mean  count\n",
       "ConfirmedOnVotersRoll                 \n",
       "I1                     0.062818  21841\n",
       "I2                     0.000000      3\n",
       "S1                     0.000000      1"
      ]
     },
     "execution_count": 49,
     "metadata": {},
     "output_type": "execute_result"
    }
   ],
   "source": [
    "df.bad_case.groupby(df.ConfirmedOnVotersRoll).agg(['mean', 'count'])"
   ]
  },
  {
   "cell_type": "code",
   "execution_count": 50,
   "metadata": {},
   "outputs": [
    {
     "name": "stdout",
     "output_type": "stream",
     "text": [
      "Count of NaNs:  158\n"
     ]
    }
   ],
   "source": [
    "print('Count of NaNs: ',df['ConfirmedOnVotersRoll'].isna().sum())"
   ]
  },
  {
   "cell_type": "code",
   "execution_count": 51,
   "metadata": {},
   "outputs": [],
   "source": [
    "cols_remove_2.append('ConfirmedOnVotersRoll')"
   ]
  },
  {
   "cell_type": "markdown",
   "metadata": {},
   "source": [
    "### CreditScore\n",
    "A really useful indicator. There are 115 nulls for CreditScore, and they interestingly have a lower bad case rate than the non-nulls. Before imputing values for the nulls, we will include a CreditScoreNull flag just to make sure we can account for this characteristic of the data."
   ]
  },
  {
   "cell_type": "code",
   "execution_count": 52,
   "metadata": {},
   "outputs": [
    {
     "name": "stdout",
     "output_type": "stream",
     "text": [
      "Count of NaNs:  158\n"
     ]
    }
   ],
   "source": [
    "print('Count of NaNs: ',df['CreditScore'].isnull().sum())"
   ]
  },
  {
   "cell_type": "code",
   "execution_count": 53,
   "metadata": {
    "scrolled": true
   },
   "outputs": [
    {
     "data": {
      "text/html": [
       "<div>\n",
       "<style scoped>\n",
       "    .dataframe tbody tr th:only-of-type {\n",
       "        vertical-align: middle;\n",
       "    }\n",
       "\n",
       "    .dataframe tbody tr th {\n",
       "        vertical-align: top;\n",
       "    }\n",
       "\n",
       "    .dataframe thead th {\n",
       "        text-align: right;\n",
       "    }\n",
       "</style>\n",
       "<table border=\"1\" class=\"dataframe\">\n",
       "  <thead>\n",
       "    <tr style=\"text-align: right;\">\n",
       "      <th></th>\n",
       "      <th>mean</th>\n",
       "      <th>count</th>\n",
       "    </tr>\n",
       "    <tr>\n",
       "      <th>CreditScore</th>\n",
       "      <th></th>\n",
       "      <th></th>\n",
       "    </tr>\n",
       "  </thead>\n",
       "  <tbody>\n",
       "    <tr>\n",
       "      <th>False</th>\n",
       "      <td>0.062806</td>\n",
       "      <td>21845</td>\n",
       "    </tr>\n",
       "    <tr>\n",
       "      <th>True</th>\n",
       "      <td>0.050633</td>\n",
       "      <td>158</td>\n",
       "    </tr>\n",
       "  </tbody>\n",
       "</table>\n",
       "</div>"
      ],
      "text/plain": [
       "                 mean  count\n",
       "CreditScore                 \n",
       "False        0.062806  21845\n",
       "True         0.050633    158"
      ]
     },
     "execution_count": 53,
     "metadata": {},
     "output_type": "execute_result"
    }
   ],
   "source": [
    "df['bad_case'].groupby(df['CreditScore'].isnull()).agg(['mean', 'count'])"
   ]
  },
  {
   "cell_type": "code",
   "execution_count": 54,
   "metadata": {
    "scrolled": true
   },
   "outputs": [
    {
     "data": {
      "text/plain": [
       "CreditScore\n",
       "(500.999, 584.0]    0.181300\n",
       "(584.0, 616.0]      0.060063\n",
       "(616.0, 644.0]      0.036944\n",
       "(644.0, 671.0]      0.019205\n",
       "(671.0, 731.0]      0.015341\n",
       "Name: bad_case, dtype: float64"
      ]
     },
     "execution_count": 54,
     "metadata": {},
     "output_type": "execute_result"
    }
   ],
   "source": [
    "df['bad_case'].groupby(pd.qcut(df['CreditScore'],5)).mean()"
   ]
  },
  {
   "cell_type": "code",
   "execution_count": 55,
   "metadata": {
    "scrolled": true
   },
   "outputs": [
    {
     "data": {
      "text/plain": [
       "(644.0, 671.0]      4426\n",
       "(584.0, 616.0]      4412\n",
       "(616.0, 644.0]      4385\n",
       "(500.999, 584.0]    4385\n",
       "(671.0, 731.0]      4237\n",
       "Name: CreditScore, dtype: int64"
      ]
     },
     "execution_count": 55,
     "metadata": {},
     "output_type": "execute_result"
    }
   ],
   "source": [
    "pd.qcut(df['CreditScore'],5).value_counts()"
   ]
  },
  {
   "cell_type": "markdown",
   "metadata": {},
   "source": [
    "### DeceasedWarning\n",
    "Sparse feature - we'll remove this. "
   ]
  },
  {
   "cell_type": "code",
   "execution_count": 56,
   "metadata": {
    "scrolled": false
   },
   "outputs": [
    {
     "data": {
      "text/html": [
       "<div>\n",
       "<style scoped>\n",
       "    .dataframe tbody tr th:only-of-type {\n",
       "        vertical-align: middle;\n",
       "    }\n",
       "\n",
       "    .dataframe tbody tr th {\n",
       "        vertical-align: top;\n",
       "    }\n",
       "\n",
       "    .dataframe thead th {\n",
       "        text-align: right;\n",
       "    }\n",
       "</style>\n",
       "<table border=\"1\" class=\"dataframe\">\n",
       "  <thead>\n",
       "    <tr style=\"text-align: right;\">\n",
       "      <th></th>\n",
       "      <th>mean</th>\n",
       "      <th>count</th>\n",
       "    </tr>\n",
       "    <tr>\n",
       "      <th>DeceasedWarning</th>\n",
       "      <th></th>\n",
       "      <th></th>\n",
       "    </tr>\n",
       "  </thead>\n",
       "  <tbody>\n",
       "    <tr>\n",
       "      <th>False</th>\n",
       "      <td>0.062751</td>\n",
       "      <td>21896</td>\n",
       "    </tr>\n",
       "    <tr>\n",
       "      <th>True</th>\n",
       "      <td>0.000000</td>\n",
       "      <td>1</td>\n",
       "    </tr>\n",
       "  </tbody>\n",
       "</table>\n",
       "</div>"
      ],
      "text/plain": [
       "                     mean  count\n",
       "DeceasedWarning                 \n",
       "False            0.062751  21896\n",
       "True             0.000000      1"
      ]
     },
     "execution_count": 56,
     "metadata": {},
     "output_type": "execute_result"
    }
   ],
   "source": [
    "df.bad_case.groupby(df.DeceasedWarning).agg(['mean', 'count'])"
   ]
  },
  {
   "cell_type": "code",
   "execution_count": 57,
   "metadata": {
    "scrolled": true
   },
   "outputs": [
    {
     "name": "stdout",
     "output_type": "stream",
     "text": [
      "Count of NaNs:  106\n"
     ]
    }
   ],
   "source": [
    "print('Count of NaNs: ',df['DeceasedWarning'].isna().sum())"
   ]
  },
  {
   "cell_type": "code",
   "execution_count": 58,
   "metadata": {},
   "outputs": [],
   "source": [
    "cols_remove_2.append('DeceasedWarning')"
   ]
  },
  {
   "cell_type": "markdown",
   "metadata": {},
   "source": [
    "### DefaultCAISApplicant\n",
    "This is a useful feature - NaNs and U values mapped to 0 and D mapped to 10."
   ]
  },
  {
   "cell_type": "code",
   "execution_count": 59,
   "metadata": {},
   "outputs": [
    {
     "data": {
      "text/html": [
       "<div>\n",
       "<style scoped>\n",
       "    .dataframe tbody tr th:only-of-type {\n",
       "        vertical-align: middle;\n",
       "    }\n",
       "\n",
       "    .dataframe tbody tr th {\n",
       "        vertical-align: top;\n",
       "    }\n",
       "\n",
       "    .dataframe thead th {\n",
       "        text-align: right;\n",
       "    }\n",
       "</style>\n",
       "<table border=\"1\" class=\"dataframe\">\n",
       "  <thead>\n",
       "    <tr style=\"text-align: right;\">\n",
       "      <th></th>\n",
       "      <th>mean</th>\n",
       "      <th>count</th>\n",
       "    </tr>\n",
       "    <tr>\n",
       "      <th>DefaultCAISApplicant</th>\n",
       "      <th></th>\n",
       "      <th></th>\n",
       "    </tr>\n",
       "  </thead>\n",
       "  <tbody>\n",
       "    <tr>\n",
       "      <th>0</th>\n",
       "      <td>0.053864</td>\n",
       "      <td>4827</td>\n",
       "    </tr>\n",
       "    <tr>\n",
       "      <th>1</th>\n",
       "      <td>0.124343</td>\n",
       "      <td>571</td>\n",
       "    </tr>\n",
       "    <tr>\n",
       "      <th>2</th>\n",
       "      <td>0.178378</td>\n",
       "      <td>185</td>\n",
       "    </tr>\n",
       "    <tr>\n",
       "      <th>3</th>\n",
       "      <td>0.120000</td>\n",
       "      <td>75</td>\n",
       "    </tr>\n",
       "    <tr>\n",
       "      <th>4</th>\n",
       "      <td>0.137255</td>\n",
       "      <td>51</td>\n",
       "    </tr>\n",
       "    <tr>\n",
       "      <th>5</th>\n",
       "      <td>0.129032</td>\n",
       "      <td>31</td>\n",
       "    </tr>\n",
       "    <tr>\n",
       "      <th>6</th>\n",
       "      <td>0.113208</td>\n",
       "      <td>106</td>\n",
       "    </tr>\n",
       "    <tr>\n",
       "      <th>D</th>\n",
       "      <td>0.163587</td>\n",
       "      <td>2922</td>\n",
       "    </tr>\n",
       "    <tr>\n",
       "      <th>U</th>\n",
       "      <td>0.038085</td>\n",
       "      <td>13076</td>\n",
       "    </tr>\n",
       "  </tbody>\n",
       "</table>\n",
       "</div>"
      ],
      "text/plain": [
       "                          mean  count\n",
       "DefaultCAISApplicant                 \n",
       "0                     0.053864   4827\n",
       "1                     0.124343    571\n",
       "2                     0.178378    185\n",
       "3                     0.120000     75\n",
       "4                     0.137255     51\n",
       "5                     0.129032     31\n",
       "6                     0.113208    106\n",
       "D                     0.163587   2922\n",
       "U                     0.038085  13076"
      ]
     },
     "execution_count": 59,
     "metadata": {},
     "output_type": "execute_result"
    }
   ],
   "source": [
    "df.bad_case.groupby(df.DefaultCAISApplicant).agg(['mean', 'count'])"
   ]
  },
  {
   "cell_type": "code",
   "execution_count": 60,
   "metadata": {
    "scrolled": true
   },
   "outputs": [
    {
     "name": "stdout",
     "output_type": "stream",
     "text": [
      "Count of NaNs:  159\n"
     ]
    }
   ],
   "source": [
    "print('Count of NaNs: ',df['DefaultCAISApplicant'].isna().sum())"
   ]
  },
  {
   "cell_type": "code",
   "execution_count": 61,
   "metadata": {},
   "outputs": [],
   "source": [
    "df['DefaultCAISApplicant'].fillna('U', inplace = True)"
   ]
  },
  {
   "cell_type": "code",
   "execution_count": 62,
   "metadata": {},
   "outputs": [],
   "source": [
    "# Replace 'D' values with 10\n",
    "df.loc[df.DefaultCAISApplicant == 'D', 'DefaultCAISApplicant'] = 10"
   ]
  },
  {
   "cell_type": "code",
   "execution_count": 63,
   "metadata": {},
   "outputs": [],
   "source": [
    "# Replace 'U' values with 0\n",
    "df.loc[df.DefaultCAISApplicant == 'U', 'DefaultCAISApplicant'] = 0"
   ]
  },
  {
   "cell_type": "code",
   "execution_count": 64,
   "metadata": {},
   "outputs": [],
   "source": [
    "# Make col numeric\n",
    "df['DefaultCAISApplicant'] = pd.to_numeric(df['DefaultCAISApplicant'])"
   ]
  },
  {
   "cell_type": "code",
   "execution_count": 65,
   "metadata": {
    "scrolled": true
   },
   "outputs": [
    {
     "data": {
      "text/plain": [
       "<matplotlib.axes._subplots.AxesSubplot at 0x1841efd7898>"
      ]
     },
     "execution_count": 65,
     "metadata": {},
     "output_type": "execute_result"
    },
    {
     "data": {
      "image/png": "[encoded data removed]",
      "text/plain": [
       "<Figure size 432x288 with 1 Axes>"
      ]
     },
     "metadata": {
      "needs_background": "light"
     },
     "output_type": "display_data"
    }
   ],
   "source": [
    "sns.countplot(df['DefaultCAISApplicant'], hue = df['bad_case'])"
   ]
  },
  {
   "cell_type": "markdown",
   "metadata": {},
   "source": [
    "### DefaultCAISAssociate\n",
    "There's too little data in this feature. We'll remove this one."
   ]
  },
  {
   "cell_type": "code",
   "execution_count": 66,
   "metadata": {
    "scrolled": true
   },
   "outputs": [
    {
     "data": {
      "text/html": [
       "<div>\n",
       "<style scoped>\n",
       "    .dataframe tbody tr th:only-of-type {\n",
       "        vertical-align: middle;\n",
       "    }\n",
       "\n",
       "    .dataframe tbody tr th {\n",
       "        vertical-align: top;\n",
       "    }\n",
       "\n",
       "    .dataframe thead th {\n",
       "        text-align: right;\n",
       "    }\n",
       "</style>\n",
       "<table border=\"1\" class=\"dataframe\">\n",
       "  <thead>\n",
       "    <tr style=\"text-align: right;\">\n",
       "      <th></th>\n",
       "      <th>mean</th>\n",
       "      <th>count</th>\n",
       "    </tr>\n",
       "    <tr>\n",
       "      <th>DefaultCAISAssociate</th>\n",
       "      <th></th>\n",
       "      <th></th>\n",
       "    </tr>\n",
       "  </thead>\n",
       "  <tbody>\n",
       "    <tr>\n",
       "      <th>0</th>\n",
       "      <td>0.040127</td>\n",
       "      <td>947</td>\n",
       "    </tr>\n",
       "    <tr>\n",
       "      <th>1</th>\n",
       "      <td>0.090909</td>\n",
       "      <td>22</td>\n",
       "    </tr>\n",
       "    <tr>\n",
       "      <th>2</th>\n",
       "      <td>0.000000</td>\n",
       "      <td>12</td>\n",
       "    </tr>\n",
       "    <tr>\n",
       "      <th>3</th>\n",
       "      <td>0.000000</td>\n",
       "      <td>7</td>\n",
       "    </tr>\n",
       "    <tr>\n",
       "      <th>4</th>\n",
       "      <td>0.000000</td>\n",
       "      <td>7</td>\n",
       "    </tr>\n",
       "    <tr>\n",
       "      <th>6</th>\n",
       "      <td>0.000000</td>\n",
       "      <td>12</td>\n",
       "    </tr>\n",
       "    <tr>\n",
       "      <th>D</th>\n",
       "      <td>0.103659</td>\n",
       "      <td>328</td>\n",
       "    </tr>\n",
       "    <tr>\n",
       "      <th>U</th>\n",
       "      <td>0.044351</td>\n",
       "      <td>1195</td>\n",
       "    </tr>\n",
       "  </tbody>\n",
       "</table>\n",
       "</div>"
      ],
      "text/plain": [
       "                          mean  count\n",
       "DefaultCAISAssociate                 \n",
       "0                     0.040127    947\n",
       "1                     0.090909     22\n",
       "2                     0.000000     12\n",
       "3                     0.000000      7\n",
       "4                     0.000000      7\n",
       "6                     0.000000     12\n",
       "D                     0.103659    328\n",
       "U                     0.044351   1195"
      ]
     },
     "execution_count": 66,
     "metadata": {},
     "output_type": "execute_result"
    }
   ],
   "source": [
    "df.bad_case.groupby(df.DefaultCAISAssociate).agg(['mean', 'count'])"
   ]
  },
  {
   "cell_type": "code",
   "execution_count": 67,
   "metadata": {
    "scrolled": true
   },
   "outputs": [
    {
     "name": "stdout",
     "output_type": "stream",
     "text": [
      "Count of NaNs:  19473\n"
     ]
    }
   ],
   "source": [
    "print('Count of NaNs: ',df['DefaultCAISAssociate'].isna().sum())"
   ]
  },
  {
   "cell_type": "code",
   "execution_count": 68,
   "metadata": {},
   "outputs": [],
   "source": [
    "cols_remove_2.append('DefaultCAISAssociate')"
   ]
  },
  {
   "cell_type": "markdown",
   "metadata": {},
   "source": [
    "### EmailCreated\n",
    "If this feature was less sparse, we could create a useful feature out of it - such as how long the email has been created for. But we're going to get rid of it as it is too sparse."
   ]
  },
  {
   "cell_type": "code",
   "execution_count": 69,
   "metadata": {
    "scrolled": true
   },
   "outputs": [
    {
     "name": "stdout",
     "output_type": "stream",
     "text": [
      "Count of NaNs:  20625\n"
     ]
    }
   ],
   "source": [
    "print('Count of NaNs: ',df['EmailCreated'].isna().sum())"
   ]
  },
  {
   "cell_type": "code",
   "execution_count": 70,
   "metadata": {},
   "outputs": [],
   "source": [
    "cols_remove_2.append('EmailCreated')"
   ]
  },
  {
   "cell_type": "markdown",
   "metadata": {},
   "source": [
    "### EmailDomainStatusIsActive\n",
    "Some useful stuff here - we'll keep this variable. NaNs have been mapped to Unknown. We'll create an ordinal scale here for Active = 2, Unknown = 1 and Inactive = 0."
   ]
  },
  {
   "cell_type": "code",
   "execution_count": 71,
   "metadata": {},
   "outputs": [],
   "source": [
    "df['EmailDomainStatusIsActive'].fillna('Unknown', inplace = True)"
   ]
  },
  {
   "cell_type": "code",
   "execution_count": 72,
   "metadata": {},
   "outputs": [
    {
     "data": {
      "text/html": [
       "<div>\n",
       "<style scoped>\n",
       "    .dataframe tbody tr th:only-of-type {\n",
       "        vertical-align: middle;\n",
       "    }\n",
       "\n",
       "    .dataframe tbody tr th {\n",
       "        vertical-align: top;\n",
       "    }\n",
       "\n",
       "    .dataframe thead th {\n",
       "        text-align: right;\n",
       "    }\n",
       "</style>\n",
       "<table border=\"1\" class=\"dataframe\">\n",
       "  <thead>\n",
       "    <tr style=\"text-align: right;\">\n",
       "      <th></th>\n",
       "      <th>mean</th>\n",
       "      <th>count</th>\n",
       "    </tr>\n",
       "    <tr>\n",
       "      <th>EmailDomainStatusIsActive</th>\n",
       "      <th></th>\n",
       "      <th></th>\n",
       "    </tr>\n",
       "  </thead>\n",
       "  <tbody>\n",
       "    <tr>\n",
       "      <th>Active</th>\n",
       "      <td>0.062694</td>\n",
       "      <td>21629</td>\n",
       "    </tr>\n",
       "    <tr>\n",
       "      <th>Inactive</th>\n",
       "      <td>0.045455</td>\n",
       "      <td>44</td>\n",
       "    </tr>\n",
       "    <tr>\n",
       "      <th>Unknown</th>\n",
       "      <td>0.066667</td>\n",
       "      <td>330</td>\n",
       "    </tr>\n",
       "  </tbody>\n",
       "</table>\n",
       "</div>"
      ],
      "text/plain": [
       "                               mean  count\n",
       "EmailDomainStatusIsActive                 \n",
       "Active                     0.062694  21629\n",
       "Inactive                   0.045455     44\n",
       "Unknown                    0.066667    330"
      ]
     },
     "execution_count": 72,
     "metadata": {},
     "output_type": "execute_result"
    }
   ],
   "source": [
    "df.bad_case.groupby(df.EmailDomainStatusIsActive).agg(['mean', 'count'])"
   ]
  },
  {
   "cell_type": "code",
   "execution_count": 73,
   "metadata": {
    "scrolled": true
   },
   "outputs": [
    {
     "data": {
      "text/plain": [
       "<matplotlib.axes._subplots.AxesSubplot at 0x1841f07dc88>"
      ]
     },
     "execution_count": 73,
     "metadata": {},
     "output_type": "execute_result"
    },
    {
     "data": {
      "image/png": "[encoded data removed]",
      "text/plain": [
       "<Figure size 432x288 with 1 Axes>"
      ]
     },
     "metadata": {
      "needs_background": "light"
     },
     "output_type": "display_data"
    }
   ],
   "source": [
    "sns.countplot(df['EmailDomainStatusIsActive'], hue = df['bad_case'])"
   ]
  },
  {
   "cell_type": "markdown",
   "metadata": {},
   "source": [
    "### EmailStatusisActive\n",
    "We've mapped Expired to Inactive and NaNs to Unknown. We'll create an ordinal scale for this feature where Active = 2, Unknown = 1 and Inactive = 0."
   ]
  },
  {
   "cell_type": "code",
   "execution_count": 74,
   "metadata": {},
   "outputs": [],
   "source": [
    "df['EmailStatusisActive'].fillna('Unknown', inplace = True)"
   ]
  },
  {
   "cell_type": "code",
   "execution_count": 75,
   "metadata": {},
   "outputs": [],
   "source": [
    "df.loc[df.EmailStatusisActive == 'Expired', 'EmailStatusisActive'] = 'Inactive'"
   ]
  },
  {
   "cell_type": "code",
   "execution_count": 76,
   "metadata": {},
   "outputs": [
    {
     "data": {
      "text/html": [
       "<div>\n",
       "<style scoped>\n",
       "    .dataframe tbody tr th:only-of-type {\n",
       "        vertical-align: middle;\n",
       "    }\n",
       "\n",
       "    .dataframe tbody tr th {\n",
       "        vertical-align: top;\n",
       "    }\n",
       "\n",
       "    .dataframe thead th {\n",
       "        text-align: right;\n",
       "    }\n",
       "</style>\n",
       "<table border=\"1\" class=\"dataframe\">\n",
       "  <thead>\n",
       "    <tr style=\"text-align: right;\">\n",
       "      <th></th>\n",
       "      <th>mean</th>\n",
       "      <th>count</th>\n",
       "    </tr>\n",
       "    <tr>\n",
       "      <th>EmailStatusisActive</th>\n",
       "      <th></th>\n",
       "      <th></th>\n",
       "    </tr>\n",
       "  </thead>\n",
       "  <tbody>\n",
       "    <tr>\n",
       "      <th>Active</th>\n",
       "      <td>0.063203</td>\n",
       "      <td>20711</td>\n",
       "    </tr>\n",
       "    <tr>\n",
       "      <th>Inactive</th>\n",
       "      <td>0.074074</td>\n",
       "      <td>108</td>\n",
       "    </tr>\n",
       "    <tr>\n",
       "      <th>Unknown</th>\n",
       "      <td>0.053209</td>\n",
       "      <td>1184</td>\n",
       "    </tr>\n",
       "  </tbody>\n",
       "</table>\n",
       "</div>"
      ],
      "text/plain": [
       "                         mean  count\n",
       "EmailStatusisActive                 \n",
       "Active               0.063203  20711\n",
       "Inactive             0.074074    108\n",
       "Unknown              0.053209   1184"
      ]
     },
     "execution_count": 76,
     "metadata": {},
     "output_type": "execute_result"
    }
   ],
   "source": [
    "df.bad_case.groupby(df.EmailStatusisActive).agg(['mean', 'count'])"
   ]
  },
  {
   "cell_type": "code",
   "execution_count": 77,
   "metadata": {},
   "outputs": [
    {
     "data": {
      "text/plain": [
       "<matplotlib.axes._subplots.AxesSubplot at 0x1841f0ebf98>"
      ]
     },
     "execution_count": 77,
     "metadata": {},
     "output_type": "execute_result"
    },
    {
     "data": {
      "image/png": "[encoded data removed]",
      "text/plain": [
       "<Figure size 432x288 with 1 Axes>"
      ]
     },
     "metadata": {
      "needs_background": "light"
     },
     "output_type": "display_data"
    }
   ],
   "source": [
    "sns.countplot(df['EmailStatusisActive'], hue = df['bad_case'])"
   ]
  },
  {
   "cell_type": "markdown",
   "metadata": {},
   "source": [
    "### EmailageScore\n",
    "Looks like it could be a really useful indicator I think - we'll divide the values by ten and round just so it scales better. There are some nulls in there that we'll need to impute, but we should definitely create a null_flag for the feature."
   ]
  },
  {
   "cell_type": "code",
   "execution_count": 78,
   "metadata": {
    "scrolled": true
   },
   "outputs": [
    {
     "name": "stdout",
     "output_type": "stream",
     "text": [
      "Count of NaNs:  321\n"
     ]
    }
   ],
   "source": [
    "print('Count of NaNs: ',df['EmailageScore'].isna().sum())"
   ]
  },
  {
   "cell_type": "code",
   "execution_count": 79,
   "metadata": {
    "scrolled": false
   },
   "outputs": [
    {
     "data": {
      "text/html": [
       "<div>\n",
       "<style scoped>\n",
       "    .dataframe tbody tr th:only-of-type {\n",
       "        vertical-align: middle;\n",
       "    }\n",
       "\n",
       "    .dataframe tbody tr th {\n",
       "        vertical-align: top;\n",
       "    }\n",
       "\n",
       "    .dataframe thead th {\n",
       "        text-align: right;\n",
       "    }\n",
       "</style>\n",
       "<table border=\"1\" class=\"dataframe\">\n",
       "  <thead>\n",
       "    <tr style=\"text-align: right;\">\n",
       "      <th></th>\n",
       "      <th>mean</th>\n",
       "      <th>count</th>\n",
       "    </tr>\n",
       "    <tr>\n",
       "      <th>EmailageScore</th>\n",
       "      <th></th>\n",
       "      <th></th>\n",
       "    </tr>\n",
       "  </thead>\n",
       "  <tbody>\n",
       "    <tr>\n",
       "      <th>False</th>\n",
       "      <td>0.062633</td>\n",
       "      <td>21682</td>\n",
       "    </tr>\n",
       "    <tr>\n",
       "      <th>True</th>\n",
       "      <td>0.068536</td>\n",
       "      <td>321</td>\n",
       "    </tr>\n",
       "  </tbody>\n",
       "</table>\n",
       "</div>"
      ],
      "text/plain": [
       "                   mean  count\n",
       "EmailageScore                 \n",
       "False          0.062633  21682\n",
       "True           0.068536    321"
      ]
     },
     "execution_count": 79,
     "metadata": {},
     "output_type": "execute_result"
    }
   ],
   "source": [
    "df['bad_case'].groupby(df['EmailageScore'].isnull()).agg(['mean', 'count'])"
   ]
  },
  {
   "cell_type": "code",
   "execution_count": 80,
   "metadata": {
    "scrolled": true
   },
   "outputs": [
    {
     "data": {
      "text/plain": [
       "EmailageScore\n",
       "(18.999, 78.0]    0.042269\n",
       "(78.0, 94.0]      0.047409\n",
       "(94.0, 145.0]     0.059081\n",
       "(145.0, 244.0]    0.069600\n",
       "(244.0, 906.0]    0.095238\n",
       "Name: bad_case, dtype: float64"
      ]
     },
     "execution_count": 80,
     "metadata": {},
     "output_type": "execute_result"
    }
   ],
   "source": [
    "df['bad_case'].groupby(pd.qcut(df['EmailageScore'],5)).mean()"
   ]
  },
  {
   "cell_type": "code",
   "execution_count": 81,
   "metadata": {
    "scrolled": false
   },
   "outputs": [
    {
     "data": {
      "text/plain": [
       "(18.999, 78.0]    4424\n",
       "(94.0, 145.0]     4333\n",
       "(244.0, 906.0]    4326\n",
       "(78.0, 94.0]      4303\n",
       "(145.0, 244.0]    4296\n",
       "Name: EmailageScore, dtype: int64"
      ]
     },
     "execution_count": 81,
     "metadata": {},
     "output_type": "execute_result"
    }
   ],
   "source": [
    "pd.qcut(df['EmailageScore'],5).value_counts()"
   ]
  },
  {
   "cell_type": "markdown",
   "metadata": {},
   "source": [
    "### EmploymentStatus\n",
    "A really useful feature. We'll one hot encode this."
   ]
  },
  {
   "cell_type": "code",
   "execution_count": 82,
   "metadata": {},
   "outputs": [
    {
     "data": {
      "text/html": [
       "<div>\n",
       "<style scoped>\n",
       "    .dataframe tbody tr th:only-of-type {\n",
       "        vertical-align: middle;\n",
       "    }\n",
       "\n",
       "    .dataframe tbody tr th {\n",
       "        vertical-align: top;\n",
       "    }\n",
       "\n",
       "    .dataframe thead th {\n",
       "        text-align: right;\n",
       "    }\n",
       "</style>\n",
       "<table border=\"1\" class=\"dataframe\">\n",
       "  <thead>\n",
       "    <tr style=\"text-align: right;\">\n",
       "      <th></th>\n",
       "      <th>mean</th>\n",
       "      <th>count</th>\n",
       "    </tr>\n",
       "    <tr>\n",
       "      <th>EmploymentStatus</th>\n",
       "      <th></th>\n",
       "      <th></th>\n",
       "    </tr>\n",
       "  </thead>\n",
       "  <tbody>\n",
       "    <tr>\n",
       "      <th>armed_forces</th>\n",
       "      <td>0.000000</td>\n",
       "      <td>32</td>\n",
       "    </tr>\n",
       "    <tr>\n",
       "      <th>benefits</th>\n",
       "      <td>0.171233</td>\n",
       "      <td>438</td>\n",
       "    </tr>\n",
       "    <tr>\n",
       "      <th>full_time</th>\n",
       "      <td>0.058548</td>\n",
       "      <td>16004</td>\n",
       "    </tr>\n",
       "    <tr>\n",
       "      <th>house_person</th>\n",
       "      <td>0.149856</td>\n",
       "      <td>347</td>\n",
       "    </tr>\n",
       "    <tr>\n",
       "      <th>part_time</th>\n",
       "      <td>0.075926</td>\n",
       "      <td>540</td>\n",
       "    </tr>\n",
       "    <tr>\n",
       "      <th>retired</th>\n",
       "      <td>0.036959</td>\n",
       "      <td>1894</td>\n",
       "    </tr>\n",
       "    <tr>\n",
       "      <th>self_employed</th>\n",
       "      <td>0.071045</td>\n",
       "      <td>2604</td>\n",
       "    </tr>\n",
       "    <tr>\n",
       "      <th>student</th>\n",
       "      <td>0.138462</td>\n",
       "      <td>130</td>\n",
       "    </tr>\n",
       "    <tr>\n",
       "      <th>temporary_employment</th>\n",
       "      <td>0.142857</td>\n",
       "      <td>14</td>\n",
       "    </tr>\n",
       "  </tbody>\n",
       "</table>\n",
       "</div>"
      ],
      "text/plain": [
       "                          mean  count\n",
       "EmploymentStatus                     \n",
       "armed_forces          0.000000     32\n",
       "benefits              0.171233    438\n",
       "full_time             0.058548  16004\n",
       "house_person          0.149856    347\n",
       "part_time             0.075926    540\n",
       "retired               0.036959   1894\n",
       "self_employed         0.071045   2604\n",
       "student               0.138462    130\n",
       "temporary_employment  0.142857     14"
      ]
     },
     "execution_count": 82,
     "metadata": {},
     "output_type": "execute_result"
    }
   ],
   "source": [
    "df.bad_case.groupby(df.EmploymentStatus).agg(['mean', 'count'])"
   ]
  },
  {
   "cell_type": "markdown",
   "metadata": {},
   "source": [
    "### Gender\n",
    "Could be useful, we'll one-hot encode this feature."
   ]
  },
  {
   "cell_type": "code",
   "execution_count": 83,
   "metadata": {
    "scrolled": true
   },
   "outputs": [
    {
     "data": {
      "text/html": [
       "<div>\n",
       "<style scoped>\n",
       "    .dataframe tbody tr th:only-of-type {\n",
       "        vertical-align: middle;\n",
       "    }\n",
       "\n",
       "    .dataframe tbody tr th {\n",
       "        vertical-align: top;\n",
       "    }\n",
       "\n",
       "    .dataframe thead th {\n",
       "        text-align: right;\n",
       "    }\n",
       "</style>\n",
       "<table border=\"1\" class=\"dataframe\">\n",
       "  <thead>\n",
       "    <tr style=\"text-align: right;\">\n",
       "      <th></th>\n",
       "      <th>mean</th>\n",
       "      <th>count</th>\n",
       "    </tr>\n",
       "    <tr>\n",
       "      <th>Gender</th>\n",
       "      <th></th>\n",
       "      <th></th>\n",
       "    </tr>\n",
       "  </thead>\n",
       "  <tbody>\n",
       "    <tr>\n",
       "      <th>female</th>\n",
       "      <td>0.059734</td>\n",
       "      <td>10664</td>\n",
       "    </tr>\n",
       "    <tr>\n",
       "      <th>male</th>\n",
       "      <td>0.065526</td>\n",
       "      <td>11339</td>\n",
       "    </tr>\n",
       "  </tbody>\n",
       "</table>\n",
       "</div>"
      ],
      "text/plain": [
       "            mean  count\n",
       "Gender                 \n",
       "female  0.059734  10664\n",
       "male    0.065526  11339"
      ]
     },
     "execution_count": 83,
     "metadata": {},
     "output_type": "execute_result"
    }
   ],
   "source": [
    "df.bad_case.groupby(df.Gender).agg(['mean', 'count'])"
   ]
  },
  {
   "cell_type": "markdown",
   "metadata": {},
   "source": [
    "### GrossIncome\n",
    "Obviously will be a useful feature. We'll log transform this for better performance.\n",
    "\n",
    "`fcc_survey_df['Income_log'] = np.log((1+ fcc_survey_df['Income'])`\n",
    "\n",
    "`income_log_mean = np.round(np.mean(fcc_survey_df['Income_log']), 2)\n",
    "fig, ax = plt.subplots()\n",
    "fcc_survey_df['Income_log'].hist(bins=30, color='#A9C5D3', \n",
    "                                 edgecolor='black', grid=False)\n",
    "plt.axvline(income_log_mean, color='r')\n",
    "ax.set_title('Developer Income Histogram after Log Transform', \n",
    "             fontsize=12)\n",
    "ax.set_xlabel('Developer Income (log scale)', fontsize=12)\n",
    "ax.set_ylabel('Frequency', fontsize=12)\n",
    "ax.text(11.5, 450, r'$\\mu$='+str(income_log_mean), fontsize=10)`"
   ]
  },
  {
   "cell_type": "code",
   "execution_count": 84,
   "metadata": {
    "scrolled": true
   },
   "outputs": [
    {
     "name": "stdout",
     "output_type": "stream",
     "text": [
      "Count of NaNs:  8\n"
     ]
    }
   ],
   "source": [
    "print('Count of NaNs: ',df['GrossIncome'].isna().sum())"
   ]
  },
  {
   "cell_type": "code",
   "execution_count": 85,
   "metadata": {
    "scrolled": true
   },
   "outputs": [
    {
     "data": {
      "text/plain": [
       "GrossIncome\n",
       "(4999.999, 15000.0]      0.078577\n",
       "(15000.0, 20000.0]       0.070403\n",
       "(20000.0, 30000.0]       0.064597\n",
       "(30000.0, 40000.0]       0.047170\n",
       "(40000.0, 16000000.0]    0.044095\n",
       "Name: bad_case, dtype: float64"
      ]
     },
     "execution_count": 85,
     "metadata": {},
     "output_type": "execute_result"
    }
   ],
   "source": [
    "df['bad_case'].groupby(pd.qcut(df['GrossIncome'],5)).mean()"
   ]
  },
  {
   "cell_type": "code",
   "execution_count": 86,
   "metadata": {
    "scrolled": false
   },
   "outputs": [
    {
     "data": {
      "text/plain": [
       "(20000.0, 30000.0]       5991\n",
       "(4999.999, 15000.0]      5256\n",
       "(40000.0, 16000000.0]    3946\n",
       "(15000.0, 20000.0]       3622\n",
       "(30000.0, 40000.0]       3180\n",
       "Name: GrossIncome, dtype: int64"
      ]
     },
     "execution_count": 86,
     "metadata": {},
     "output_type": "execute_result"
    }
   ],
   "source": [
    "pd.qcut(df['GrossIncome'],5).value_counts()"
   ]
  },
  {
   "cell_type": "markdown",
   "metadata": {},
   "source": [
    "### HasappliedforPaydayLoan\n",
    "Sparse feature - we'll get rid of this. "
   ]
  },
  {
   "cell_type": "code",
   "execution_count": 87,
   "metadata": {
    "scrolled": true
   },
   "outputs": [
    {
     "data": {
      "text/html": [
       "<div>\n",
       "<style scoped>\n",
       "    .dataframe tbody tr th:only-of-type {\n",
       "        vertical-align: middle;\n",
       "    }\n",
       "\n",
       "    .dataframe tbody tr th {\n",
       "        vertical-align: top;\n",
       "    }\n",
       "\n",
       "    .dataframe thead th {\n",
       "        text-align: right;\n",
       "    }\n",
       "</style>\n",
       "<table border=\"1\" class=\"dataframe\">\n",
       "  <thead>\n",
       "    <tr style=\"text-align: right;\">\n",
       "      <th></th>\n",
       "      <th>mean</th>\n",
       "      <th>count</th>\n",
       "    </tr>\n",
       "    <tr>\n",
       "      <th>HasappliedforPaydayLoan</th>\n",
       "      <th></th>\n",
       "      <th></th>\n",
       "    </tr>\n",
       "  </thead>\n",
       "  <tbody>\n",
       "    <tr>\n",
       "      <th>False</th>\n",
       "      <td>0.062815</td>\n",
       "      <td>21842</td>\n",
       "    </tr>\n",
       "    <tr>\n",
       "      <th>True</th>\n",
       "      <td>0.000000</td>\n",
       "      <td>2</td>\n",
       "    </tr>\n",
       "  </tbody>\n",
       "</table>\n",
       "</div>"
      ],
      "text/plain": [
       "                             mean  count\n",
       "HasappliedforPaydayLoan                 \n",
       "False                    0.062815  21842\n",
       "True                     0.000000      2"
      ]
     },
     "execution_count": 87,
     "metadata": {},
     "output_type": "execute_result"
    }
   ],
   "source": [
    "df.bad_case.groupby(df.HasappliedforPaydayLoan).agg(['mean', 'count'])"
   ]
  },
  {
   "cell_type": "code",
   "execution_count": 88,
   "metadata": {},
   "outputs": [],
   "source": [
    "cols_remove_2.append('HasappliedforPaydayLoan')"
   ]
  },
  {
   "cell_type": "markdown",
   "metadata": {},
   "source": [
    "### HasCCJ\n",
    "We'll map the NaNs to False for now, I'm pretty sure we'd know if there was a CCJ. This may be really bad practise, but we'll see what happens. "
   ]
  },
  {
   "cell_type": "code",
   "execution_count": 89,
   "metadata": {},
   "outputs": [],
   "source": [
    "df['HasCCJ'].fillna(False, inplace = True)"
   ]
  },
  {
   "cell_type": "code",
   "execution_count": 90,
   "metadata": {
    "scrolled": true
   },
   "outputs": [
    {
     "data": {
      "text/html": [
       "<div>\n",
       "<style scoped>\n",
       "    .dataframe tbody tr th:only-of-type {\n",
       "        vertical-align: middle;\n",
       "    }\n",
       "\n",
       "    .dataframe tbody tr th {\n",
       "        vertical-align: top;\n",
       "    }\n",
       "\n",
       "    .dataframe thead th {\n",
       "        text-align: right;\n",
       "    }\n",
       "</style>\n",
       "<table border=\"1\" class=\"dataframe\">\n",
       "  <thead>\n",
       "    <tr style=\"text-align: right;\">\n",
       "      <th></th>\n",
       "      <th>mean</th>\n",
       "      <th>count</th>\n",
       "    </tr>\n",
       "    <tr>\n",
       "      <th>HasCCJ</th>\n",
       "      <th></th>\n",
       "      <th></th>\n",
       "    </tr>\n",
       "  </thead>\n",
       "  <tbody>\n",
       "    <tr>\n",
       "      <th>False</th>\n",
       "      <td>0.062408</td>\n",
       "      <td>21808</td>\n",
       "    </tr>\n",
       "    <tr>\n",
       "      <th>True</th>\n",
       "      <td>0.097436</td>\n",
       "      <td>195</td>\n",
       "    </tr>\n",
       "  </tbody>\n",
       "</table>\n",
       "</div>"
      ],
      "text/plain": [
       "            mean  count\n",
       "HasCCJ                 \n",
       "False   0.062408  21808\n",
       "True    0.097436    195"
      ]
     },
     "execution_count": 90,
     "metadata": {},
     "output_type": "execute_result"
    }
   ],
   "source": [
    "df.bad_case.groupby(df.HasCCJ).agg(['mean', 'count'])"
   ]
  },
  {
   "cell_type": "markdown",
   "metadata": {},
   "source": [
    "### IncomeConfidenceFactor\n",
    "This feature is too sparse - we'll have to get rid of it. "
   ]
  },
  {
   "cell_type": "code",
   "execution_count": 91,
   "metadata": {},
   "outputs": [
    {
     "name": "stdout",
     "output_type": "stream",
     "text": [
      "Count of NaNs:  18223\n"
     ]
    }
   ],
   "source": [
    "print('Count of NaNs: ',df['IncomeConfidenceFactor'].isna().sum())"
   ]
  },
  {
   "cell_type": "code",
   "execution_count": 92,
   "metadata": {},
   "outputs": [
    {
     "data": {
      "text/html": [
       "<div>\n",
       "<style scoped>\n",
       "    .dataframe tbody tr th:only-of-type {\n",
       "        vertical-align: middle;\n",
       "    }\n",
       "\n",
       "    .dataframe tbody tr th {\n",
       "        vertical-align: top;\n",
       "    }\n",
       "\n",
       "    .dataframe thead th {\n",
       "        text-align: right;\n",
       "    }\n",
       "</style>\n",
       "<table border=\"1\" class=\"dataframe\">\n",
       "  <thead>\n",
       "    <tr style=\"text-align: right;\">\n",
       "      <th></th>\n",
       "      <th>mean</th>\n",
       "      <th>count</th>\n",
       "    </tr>\n",
       "    <tr>\n",
       "      <th>IncomeConfidenceFactor</th>\n",
       "      <th></th>\n",
       "      <th></th>\n",
       "    </tr>\n",
       "  </thead>\n",
       "  <tbody>\n",
       "    <tr>\n",
       "      <th>1.0</th>\n",
       "      <td>0.069767</td>\n",
       "      <td>86</td>\n",
       "    </tr>\n",
       "    <tr>\n",
       "      <th>2.0</th>\n",
       "      <td>0.060268</td>\n",
       "      <td>448</td>\n",
       "    </tr>\n",
       "    <tr>\n",
       "      <th>3.0</th>\n",
       "      <td>0.172840</td>\n",
       "      <td>81</td>\n",
       "    </tr>\n",
       "    <tr>\n",
       "      <th>4.0</th>\n",
       "      <td>0.022222</td>\n",
       "      <td>45</td>\n",
       "    </tr>\n",
       "    <tr>\n",
       "      <th>5.0</th>\n",
       "      <td>0.119816</td>\n",
       "      <td>217</td>\n",
       "    </tr>\n",
       "    <tr>\n",
       "      <th>6.0</th>\n",
       "      <td>0.046404</td>\n",
       "      <td>431</td>\n",
       "    </tr>\n",
       "    <tr>\n",
       "      <th>7.0</th>\n",
       "      <td>0.084967</td>\n",
       "      <td>765</td>\n",
       "    </tr>\n",
       "    <tr>\n",
       "      <th>8.0</th>\n",
       "      <td>0.057447</td>\n",
       "      <td>940</td>\n",
       "    </tr>\n",
       "    <tr>\n",
       "      <th>9.0</th>\n",
       "      <td>0.062581</td>\n",
       "      <td>767</td>\n",
       "    </tr>\n",
       "  </tbody>\n",
       "</table>\n",
       "</div>"
      ],
      "text/plain": [
       "                            mean  count\n",
       "IncomeConfidenceFactor                 \n",
       "1.0                     0.069767     86\n",
       "2.0                     0.060268    448\n",
       "3.0                     0.172840     81\n",
       "4.0                     0.022222     45\n",
       "5.0                     0.119816    217\n",
       "6.0                     0.046404    431\n",
       "7.0                     0.084967    765\n",
       "8.0                     0.057447    940\n",
       "9.0                     0.062581    767"
      ]
     },
     "execution_count": 92,
     "metadata": {},
     "output_type": "execute_result"
    }
   ],
   "source": [
    "df.bad_case.groupby(df.IncomeConfidenceFactor).agg(['mean', 'count'])"
   ]
  },
  {
   "cell_type": "code",
   "execution_count": 93,
   "metadata": {},
   "outputs": [],
   "source": [
    "cols_remove_2.append('IncomeConfidenceFactor')"
   ]
  },
  {
   "cell_type": "markdown",
   "metadata": {},
   "source": [
    "### IncomeDebtRatios\n",
    "Would be a really useful feature if we had more data. We'll get rid of this one. "
   ]
  },
  {
   "cell_type": "code",
   "execution_count": 94,
   "metadata": {
    "scrolled": true
   },
   "outputs": [
    {
     "name": "stdout",
     "output_type": "stream",
     "text": [
      "Count of NaNs:  17867\n"
     ]
    }
   ],
   "source": [
    "print('Count of NaNs: ',df['IncomeDebtRatios'].isna().sum())"
   ]
  },
  {
   "cell_type": "code",
   "execution_count": 95,
   "metadata": {},
   "outputs": [],
   "source": [
    "cols_remove_2.append('IncomeDebtRatios')"
   ]
  },
  {
   "cell_type": "markdown",
   "metadata": {},
   "source": [
    "### IncomeMaxID\n",
    "Again too sparse. We'll remove this feature. "
   ]
  },
  {
   "cell_type": "code",
   "execution_count": 96,
   "metadata": {},
   "outputs": [
    {
     "name": "stdout",
     "output_type": "stream",
     "text": [
      "Count of NaNs:  18198\n"
     ]
    }
   ],
   "source": [
    "print('Count of NaNs: ',df['IncomeMaxID'].isna().sum())"
   ]
  },
  {
   "cell_type": "code",
   "execution_count": 97,
   "metadata": {},
   "outputs": [],
   "source": [
    "cols_remove_2.append('IncomeMaxID')"
   ]
  },
  {
   "cell_type": "markdown",
   "metadata": {},
   "source": [
    "### IndebtednessScore\n",
    "Again too sparse. We'll remove this feature. "
   ]
  },
  {
   "cell_type": "code",
   "execution_count": 98,
   "metadata": {},
   "outputs": [
    {
     "name": "stdout",
     "output_type": "stream",
     "text": [
      "Count of NaNs:  17823\n"
     ]
    }
   ],
   "source": [
    "print('Count of NaNs: ',df['IndebtednessScore'].isna().sum())"
   ]
  },
  {
   "cell_type": "code",
   "execution_count": 99,
   "metadata": {},
   "outputs": [],
   "source": [
    "cols_remove_2.append('IndebtednessScore')"
   ]
  },
  {
   "cell_type": "markdown",
   "metadata": {},
   "source": [
    "### IPAddress\n",
    "If we knew a bit more about networking we might be able to extract more from this feature. We can see there is something interesting happening where two IP addresses are being recorded for some records. So we'll map the IP Address to validated or non_validated. Non validated IPs will be mapped to 0 and validated to 1.\n",
    "\n",
    "A potential thing to do in future is extract the class of IP address too."
   ]
  },
  {
   "cell_type": "code",
   "execution_count": 100,
   "metadata": {},
   "outputs": [
    {
     "name": "stdout",
     "output_type": "stream",
     "text": [
      " Number of non-validated IP Addresses:  44\n"
     ]
    }
   ],
   "source": [
    "non_validated_idx = [] # For the indexes of non validated IP Addresses\n",
    "non_validated_val = [] # For the values of non validated IP Addresses\n",
    "\n",
    "for idx, val in enumerate(df['IPAddress']):\n",
    "    try:\n",
    "        ipaddress.ip_address(val)\n",
    "    except:\n",
    "        non_validated_idx.append(idx)\n",
    "        non_validated_val.append(val)\n",
    "\n",
    "print(' Number of non-validated IP Addresses: ', len(non_validated_val))"
   ]
  },
  {
   "cell_type": "code",
   "execution_count": 101,
   "metadata": {},
   "outputs": [
    {
     "data": {
      "text/plain": [
       "mean      0.113636\n",
       "count    44.000000\n",
       "Name: bad_case, dtype: float64"
      ]
     },
     "execution_count": 101,
     "metadata": {},
     "output_type": "execute_result"
    }
   ],
   "source": [
    "df.iloc[non_validated_idx].bad_case.agg(['mean', 'count'])"
   ]
  },
  {
   "cell_type": "markdown",
   "metadata": {},
   "source": [
    "### MatchLevel\n",
    "This feature is quite sparse, keeping it in will probably add to overfitting. We'll exclude it. "
   ]
  },
  {
   "cell_type": "code",
   "execution_count": 102,
   "metadata": {
    "scrolled": true
   },
   "outputs": [
    {
     "data": {
      "text/html": [
       "<div>\n",
       "<style scoped>\n",
       "    .dataframe tbody tr th:only-of-type {\n",
       "        vertical-align: middle;\n",
       "    }\n",
       "\n",
       "    .dataframe tbody tr th {\n",
       "        vertical-align: top;\n",
       "    }\n",
       "\n",
       "    .dataframe thead th {\n",
       "        text-align: right;\n",
       "    }\n",
       "</style>\n",
       "<table border=\"1\" class=\"dataframe\">\n",
       "  <thead>\n",
       "    <tr style=\"text-align: right;\">\n",
       "      <th></th>\n",
       "      <th>mean</th>\n",
       "      <th>count</th>\n",
       "    </tr>\n",
       "    <tr>\n",
       "      <th>MatchLevel</th>\n",
       "      <th></th>\n",
       "      <th></th>\n",
       "    </tr>\n",
       "  </thead>\n",
       "  <tbody>\n",
       "    <tr>\n",
       "      <th>AddressReport</th>\n",
       "      <td>0.000000</td>\n",
       "      <td>2</td>\n",
       "    </tr>\n",
       "    <tr>\n",
       "      <th>IndividualReport</th>\n",
       "      <td>0.062783</td>\n",
       "      <td>21885</td>\n",
       "    </tr>\n",
       "    <tr>\n",
       "      <th>Picklist</th>\n",
       "      <td>0.000000</td>\n",
       "      <td>5</td>\n",
       "    </tr>\n",
       "    <tr>\n",
       "      <th>SurnameReport</th>\n",
       "      <td>0.000000</td>\n",
       "      <td>2</td>\n",
       "    </tr>\n",
       "  </tbody>\n",
       "</table>\n",
       "</div>"
      ],
      "text/plain": [
       "                      mean  count\n",
       "MatchLevel                       \n",
       "AddressReport     0.000000      2\n",
       "IndividualReport  0.062783  21885\n",
       "Picklist          0.000000      5\n",
       "SurnameReport     0.000000      2"
      ]
     },
     "execution_count": 102,
     "metadata": {},
     "output_type": "execute_result"
    }
   ],
   "source": [
    "df.bad_case.groupby(df.MatchLevel).agg(['mean', 'count'])"
   ]
  },
  {
   "cell_type": "code",
   "execution_count": 103,
   "metadata": {},
   "outputs": [],
   "source": [
    "cols_remove_2.append('MatchLevel')"
   ]
  },
  {
   "cell_type": "markdown",
   "metadata": {},
   "source": [
    "### MobileRiskNumStatus\n",
    "Could be a potentially useful feature. We'll map this to ACTIVE = 2, Unknown = 1, DISCONNECTED = 0."
   ]
  },
  {
   "cell_type": "code",
   "execution_count": 104,
   "metadata": {},
   "outputs": [],
   "source": [
    "df['MobileRiskNumStatus'].fillna('Unknown', inplace = True)"
   ]
  },
  {
   "cell_type": "code",
   "execution_count": 105,
   "metadata": {},
   "outputs": [
    {
     "data": {
      "text/html": [
       "<div>\n",
       "<style scoped>\n",
       "    .dataframe tbody tr th:only-of-type {\n",
       "        vertical-align: middle;\n",
       "    }\n",
       "\n",
       "    .dataframe tbody tr th {\n",
       "        vertical-align: top;\n",
       "    }\n",
       "\n",
       "    .dataframe thead th {\n",
       "        text-align: right;\n",
       "    }\n",
       "</style>\n",
       "<table border=\"1\" class=\"dataframe\">\n",
       "  <thead>\n",
       "    <tr style=\"text-align: right;\">\n",
       "      <th></th>\n",
       "      <th>mean</th>\n",
       "      <th>count</th>\n",
       "    </tr>\n",
       "    <tr>\n",
       "      <th>MobileRiskNumStatus</th>\n",
       "      <th></th>\n",
       "      <th></th>\n",
       "    </tr>\n",
       "  </thead>\n",
       "  <tbody>\n",
       "    <tr>\n",
       "      <th>ACTIVE</th>\n",
       "      <td>0.060696</td>\n",
       "      <td>21616</td>\n",
       "    </tr>\n",
       "    <tr>\n",
       "      <th>DISCONNECTED</th>\n",
       "      <td>0.275229</td>\n",
       "      <td>218</td>\n",
       "    </tr>\n",
       "    <tr>\n",
       "      <th>Unknown</th>\n",
       "      <td>0.047337</td>\n",
       "      <td>169</td>\n",
       "    </tr>\n",
       "  </tbody>\n",
       "</table>\n",
       "</div>"
      ],
      "text/plain": [
       "                         mean  count\n",
       "MobileRiskNumStatus                 \n",
       "ACTIVE               0.060696  21616\n",
       "DISCONNECTED         0.275229    218\n",
       "Unknown              0.047337    169"
      ]
     },
     "execution_count": 105,
     "metadata": {},
     "output_type": "execute_result"
    }
   ],
   "source": [
    "df.bad_case.groupby(df.MobileRiskNumStatus).agg(['mean', 'count'])"
   ]
  },
  {
   "cell_type": "code",
   "execution_count": 106,
   "metadata": {},
   "outputs": [
    {
     "data": {
      "text/plain": [
       "<matplotlib.axes._subplots.AxesSubplot at 0x1841efe8cc0>"
      ]
     },
     "execution_count": 106,
     "metadata": {},
     "output_type": "execute_result"
    },
    {
     "data": {
      "image/png": "[encoded data removed]",
      "text/plain": [
       "<Figure size 432x288 with 1 Axes>"
      ]
     },
     "metadata": {
      "needs_background": "light"
     },
     "output_type": "display_data"
    }
   ],
   "source": [
    "sns.countplot(df['MobileRiskNumStatus'], hue = df['bad_case'])"
   ]
  },
  {
   "cell_type": "markdown",
   "metadata": {},
   "source": [
    "### MobileRiskPhoneType\n",
    "This feature might be useful, although we can't really see any specific relationship with the values and bad cases. The decision tree might be able to find more useful relationships. "
   ]
  },
  {
   "cell_type": "code",
   "execution_count": 107,
   "metadata": {},
   "outputs": [],
   "source": [
    "df['MobileRiskPhoneType'].fillna(0, inplace = True)"
   ]
  },
  {
   "cell_type": "code",
   "execution_count": 108,
   "metadata": {},
   "outputs": [
    {
     "data": {
      "text/html": [
       "<div>\n",
       "<style scoped>\n",
       "    .dataframe tbody tr th:only-of-type {\n",
       "        vertical-align: middle;\n",
       "    }\n",
       "\n",
       "    .dataframe tbody tr th {\n",
       "        vertical-align: top;\n",
       "    }\n",
       "\n",
       "    .dataframe thead th {\n",
       "        text-align: right;\n",
       "    }\n",
       "</style>\n",
       "<table border=\"1\" class=\"dataframe\">\n",
       "  <thead>\n",
       "    <tr style=\"text-align: right;\">\n",
       "      <th></th>\n",
       "      <th>mean</th>\n",
       "      <th>count</th>\n",
       "    </tr>\n",
       "    <tr>\n",
       "      <th>MobileRiskPhoneType</th>\n",
       "      <th></th>\n",
       "      <th></th>\n",
       "    </tr>\n",
       "  </thead>\n",
       "  <tbody>\n",
       "    <tr>\n",
       "      <th>0.0</th>\n",
       "      <td>0.027273</td>\n",
       "      <td>110</td>\n",
       "    </tr>\n",
       "    <tr>\n",
       "      <th>1.0</th>\n",
       "      <td>0.042929</td>\n",
       "      <td>1188</td>\n",
       "    </tr>\n",
       "    <tr>\n",
       "      <th>2.0</th>\n",
       "      <td>0.064010</td>\n",
       "      <td>20653</td>\n",
       "    </tr>\n",
       "    <tr>\n",
       "      <th>3.0</th>\n",
       "      <td>0.000000</td>\n",
       "      <td>1</td>\n",
       "    </tr>\n",
       "    <tr>\n",
       "      <th>5.0</th>\n",
       "      <td>0.117647</td>\n",
       "      <td>17</td>\n",
       "    </tr>\n",
       "    <tr>\n",
       "      <th>8.0</th>\n",
       "      <td>0.058824</td>\n",
       "      <td>34</td>\n",
       "    </tr>\n",
       "  </tbody>\n",
       "</table>\n",
       "</div>"
      ],
      "text/plain": [
       "                         mean  count\n",
       "MobileRiskPhoneType                 \n",
       "0.0                  0.027273    110\n",
       "1.0                  0.042929   1188\n",
       "2.0                  0.064010  20653\n",
       "3.0                  0.000000      1\n",
       "5.0                  0.117647     17\n",
       "8.0                  0.058824     34"
      ]
     },
     "execution_count": 108,
     "metadata": {},
     "output_type": "execute_result"
    }
   ],
   "source": [
    "df.bad_case.groupby(df.MobileRiskPhoneType).agg(['mean', 'count'])"
   ]
  },
  {
   "cell_type": "markdown",
   "metadata": {},
   "source": [
    "### MobileRiskRegLocation\n",
    "Sparse feature - we'll remove this. "
   ]
  },
  {
   "cell_type": "code",
   "execution_count": 109,
   "metadata": {},
   "outputs": [
    {
     "data": {
      "text/html": [
       "<div>\n",
       "<style scoped>\n",
       "    .dataframe tbody tr th:only-of-type {\n",
       "        vertical-align: middle;\n",
       "    }\n",
       "\n",
       "    .dataframe tbody tr th {\n",
       "        vertical-align: top;\n",
       "    }\n",
       "\n",
       "    .dataframe thead th {\n",
       "        text-align: right;\n",
       "    }\n",
       "</style>\n",
       "<table border=\"1\" class=\"dataframe\">\n",
       "  <thead>\n",
       "    <tr style=\"text-align: right;\">\n",
       "      <th></th>\n",
       "      <th>mean</th>\n",
       "      <th>count</th>\n",
       "    </tr>\n",
       "    <tr>\n",
       "      <th>MobileRiskRegLocation</th>\n",
       "      <th></th>\n",
       "      <th></th>\n",
       "    </tr>\n",
       "  </thead>\n",
       "  <tbody>\n",
       "    <tr>\n",
       "      <th>AU</th>\n",
       "      <td>1.000000</td>\n",
       "      <td>1</td>\n",
       "    </tr>\n",
       "    <tr>\n",
       "      <th>BB</th>\n",
       "      <td>0.000000</td>\n",
       "      <td>1</td>\n",
       "    </tr>\n",
       "    <tr>\n",
       "      <th>GB</th>\n",
       "      <td>0.062863</td>\n",
       "      <td>21889</td>\n",
       "    </tr>\n",
       "    <tr>\n",
       "      <th>RU</th>\n",
       "      <td>0.000000</td>\n",
       "      <td>2</td>\n",
       "    </tr>\n",
       "  </tbody>\n",
       "</table>\n",
       "</div>"
      ],
      "text/plain": [
       "                           mean  count\n",
       "MobileRiskRegLocation                 \n",
       "AU                     1.000000      1\n",
       "BB                     0.000000      1\n",
       "GB                     0.062863  21889\n",
       "RU                     0.000000      2"
      ]
     },
     "execution_count": 109,
     "metadata": {},
     "output_type": "execute_result"
    }
   ],
   "source": [
    "df.bad_case.groupby(df.MobileRiskRegLocation).agg(['mean', 'count'])"
   ]
  },
  {
   "cell_type": "code",
   "execution_count": 110,
   "metadata": {},
   "outputs": [],
   "source": [
    "cols_remove_2.append('MobileRiskRegLocation')"
   ]
  },
  {
   "cell_type": "markdown",
   "metadata": {},
   "source": [
    "### MobileRiskScore\n",
    "This could be a useful feature, but the values are not distributed well. We'll round the score to the nearest 100. "
   ]
  },
  {
   "cell_type": "code",
   "execution_count": 111,
   "metadata": {},
   "outputs": [],
   "source": [
    "df['MobileRiskScore'].fillna(0, inplace = True)"
   ]
  },
  {
   "cell_type": "code",
   "execution_count": 112,
   "metadata": {},
   "outputs": [
    {
     "data": {
      "text/html": [
       "<div>\n",
       "<style scoped>\n",
       "    .dataframe tbody tr th:only-of-type {\n",
       "        vertical-align: middle;\n",
       "    }\n",
       "\n",
       "    .dataframe tbody tr th {\n",
       "        vertical-align: top;\n",
       "    }\n",
       "\n",
       "    .dataframe thead th {\n",
       "        text-align: right;\n",
       "    }\n",
       "</style>\n",
       "<table border=\"1\" class=\"dataframe\">\n",
       "  <thead>\n",
       "    <tr style=\"text-align: right;\">\n",
       "      <th></th>\n",
       "      <th>mean</th>\n",
       "      <th>count</th>\n",
       "    </tr>\n",
       "    <tr>\n",
       "      <th>MobileRiskScore</th>\n",
       "      <th></th>\n",
       "      <th></th>\n",
       "    </tr>\n",
       "  </thead>\n",
       "  <tbody>\n",
       "    <tr>\n",
       "      <th>0.0</th>\n",
       "      <td>0.027273</td>\n",
       "      <td>110</td>\n",
       "    </tr>\n",
       "    <tr>\n",
       "      <th>11.0</th>\n",
       "      <td>0.142857</td>\n",
       "      <td>14</td>\n",
       "    </tr>\n",
       "    <tr>\n",
       "      <th>49.0</th>\n",
       "      <td>0.000000</td>\n",
       "      <td>1</td>\n",
       "    </tr>\n",
       "    <tr>\n",
       "      <th>251.0</th>\n",
       "      <td>0.062850</td>\n",
       "      <td>19634</td>\n",
       "    </tr>\n",
       "    <tr>\n",
       "      <th>252.0</th>\n",
       "      <td>0.050267</td>\n",
       "      <td>1313</td>\n",
       "    </tr>\n",
       "  </tbody>\n",
       "</table>\n",
       "</div>"
      ],
      "text/plain": [
       "                     mean  count\n",
       "MobileRiskScore                 \n",
       "0.0              0.027273    110\n",
       "11.0             0.142857     14\n",
       "49.0             0.000000      1\n",
       "251.0            0.062850  19634\n",
       "252.0            0.050267   1313"
      ]
     },
     "execution_count": 112,
     "metadata": {},
     "output_type": "execute_result"
    }
   ],
   "source": [
    "df.bad_case.groupby(df.MobileRiskScore).agg(['mean', 'count']).head()"
   ]
  },
  {
   "cell_type": "markdown",
   "metadata": {},
   "source": [
    "### NumberofActiveCIFASRecords\n",
    "This could be a useful feature - but we'll transform it to a new feature `ActiveCifasRecords` with a value of 1 or zero denoting if there are CIFAS records or not."
   ]
  },
  {
   "cell_type": "code",
   "execution_count": 113,
   "metadata": {},
   "outputs": [
    {
     "name": "stdout",
     "output_type": "stream",
     "text": [
      "Count of NaNs:  106\n"
     ]
    }
   ],
   "source": [
    "print('Count of NaNs: ',df['NumberofActiveCIFASRecords'].isna().sum())"
   ]
  },
  {
   "cell_type": "code",
   "execution_count": 114,
   "metadata": {},
   "outputs": [
    {
     "data": {
      "text/html": [
       "<div>\n",
       "<style scoped>\n",
       "    .dataframe tbody tr th:only-of-type {\n",
       "        vertical-align: middle;\n",
       "    }\n",
       "\n",
       "    .dataframe tbody tr th {\n",
       "        vertical-align: top;\n",
       "    }\n",
       "\n",
       "    .dataframe thead th {\n",
       "        text-align: right;\n",
       "    }\n",
       "</style>\n",
       "<table border=\"1\" class=\"dataframe\">\n",
       "  <thead>\n",
       "    <tr style=\"text-align: right;\">\n",
       "      <th></th>\n",
       "      <th>mean</th>\n",
       "      <th>count</th>\n",
       "    </tr>\n",
       "    <tr>\n",
       "      <th>NumberofActiveCIFASRecords</th>\n",
       "      <th></th>\n",
       "      <th></th>\n",
       "    </tr>\n",
       "  </thead>\n",
       "  <tbody>\n",
       "    <tr>\n",
       "      <th>0.0</th>\n",
       "      <td>0.061189</td>\n",
       "      <td>21360</td>\n",
       "    </tr>\n",
       "    <tr>\n",
       "      <th>1.0</th>\n",
       "      <td>0.095238</td>\n",
       "      <td>63</td>\n",
       "    </tr>\n",
       "    <tr>\n",
       "      <th>2.0</th>\n",
       "      <td>0.049587</td>\n",
       "      <td>121</td>\n",
       "    </tr>\n",
       "    <tr>\n",
       "      <th>3.0</th>\n",
       "      <td>0.257576</td>\n",
       "      <td>66</td>\n",
       "    </tr>\n",
       "    <tr>\n",
       "      <th>4.0</th>\n",
       "      <td>0.138889</td>\n",
       "      <td>72</td>\n",
       "    </tr>\n",
       "    <tr>\n",
       "      <th>5.0</th>\n",
       "      <td>0.119048</td>\n",
       "      <td>42</td>\n",
       "    </tr>\n",
       "    <tr>\n",
       "      <th>6.0</th>\n",
       "      <td>0.051282</td>\n",
       "      <td>39</td>\n",
       "    </tr>\n",
       "    <tr>\n",
       "      <th>7.0</th>\n",
       "      <td>0.076923</td>\n",
       "      <td>13</td>\n",
       "    </tr>\n",
       "    <tr>\n",
       "      <th>8.0</th>\n",
       "      <td>0.171429</td>\n",
       "      <td>35</td>\n",
       "    </tr>\n",
       "    <tr>\n",
       "      <th>9.0</th>\n",
       "      <td>0.041667</td>\n",
       "      <td>24</td>\n",
       "    </tr>\n",
       "    <tr>\n",
       "      <th>10.0</th>\n",
       "      <td>0.153846</td>\n",
       "      <td>13</td>\n",
       "    </tr>\n",
       "    <tr>\n",
       "      <th>11.0</th>\n",
       "      <td>0.000000</td>\n",
       "      <td>6</td>\n",
       "    </tr>\n",
       "    <tr>\n",
       "      <th>12.0</th>\n",
       "      <td>1.000000</td>\n",
       "      <td>1</td>\n",
       "    </tr>\n",
       "    <tr>\n",
       "      <th>13.0</th>\n",
       "      <td>0.333333</td>\n",
       "      <td>12</td>\n",
       "    </tr>\n",
       "    <tr>\n",
       "      <th>14.0</th>\n",
       "      <td>0.000000</td>\n",
       "      <td>3</td>\n",
       "    </tr>\n",
       "    <tr>\n",
       "      <th>15.0</th>\n",
       "      <td>0.000000</td>\n",
       "      <td>2</td>\n",
       "    </tr>\n",
       "    <tr>\n",
       "      <th>16.0</th>\n",
       "      <td>0.000000</td>\n",
       "      <td>8</td>\n",
       "    </tr>\n",
       "    <tr>\n",
       "      <th>17.0</th>\n",
       "      <td>0.750000</td>\n",
       "      <td>4</td>\n",
       "    </tr>\n",
       "    <tr>\n",
       "      <th>18.0</th>\n",
       "      <td>0.000000</td>\n",
       "      <td>2</td>\n",
       "    </tr>\n",
       "    <tr>\n",
       "      <th>22.0</th>\n",
       "      <td>0.500000</td>\n",
       "      <td>4</td>\n",
       "    </tr>\n",
       "    <tr>\n",
       "      <th>25.0</th>\n",
       "      <td>0.000000</td>\n",
       "      <td>2</td>\n",
       "    </tr>\n",
       "    <tr>\n",
       "      <th>26.0</th>\n",
       "      <td>1.000000</td>\n",
       "      <td>1</td>\n",
       "    </tr>\n",
       "    <tr>\n",
       "      <th>28.0</th>\n",
       "      <td>0.000000</td>\n",
       "      <td>1</td>\n",
       "    </tr>\n",
       "    <tr>\n",
       "      <th>31.0</th>\n",
       "      <td>0.000000</td>\n",
       "      <td>1</td>\n",
       "    </tr>\n",
       "    <tr>\n",
       "      <th>33.0</th>\n",
       "      <td>0.000000</td>\n",
       "      <td>1</td>\n",
       "    </tr>\n",
       "    <tr>\n",
       "      <th>41.0</th>\n",
       "      <td>0.000000</td>\n",
       "      <td>1</td>\n",
       "    </tr>\n",
       "  </tbody>\n",
       "</table>\n",
       "</div>"
      ],
      "text/plain": [
       "                                mean  count\n",
       "NumberofActiveCIFASRecords                 \n",
       "0.0                         0.061189  21360\n",
       "1.0                         0.095238     63\n",
       "2.0                         0.049587    121\n",
       "3.0                         0.257576     66\n",
       "4.0                         0.138889     72\n",
       "5.0                         0.119048     42\n",
       "6.0                         0.051282     39\n",
       "7.0                         0.076923     13\n",
       "8.0                         0.171429     35\n",
       "9.0                         0.041667     24\n",
       "10.0                        0.153846     13\n",
       "11.0                        0.000000      6\n",
       "12.0                        1.000000      1\n",
       "13.0                        0.333333     12\n",
       "14.0                        0.000000      3\n",
       "15.0                        0.000000      2\n",
       "16.0                        0.000000      8\n",
       "17.0                        0.750000      4\n",
       "18.0                        0.000000      2\n",
       "22.0                        0.500000      4\n",
       "25.0                        0.000000      2\n",
       "26.0                        1.000000      1\n",
       "28.0                        0.000000      1\n",
       "31.0                        0.000000      1\n",
       "33.0                        0.000000      1\n",
       "41.0                        0.000000      1"
      ]
     },
     "execution_count": 114,
     "metadata": {},
     "output_type": "execute_result"
    }
   ],
   "source": [
    "df.bad_case.groupby(df.NumberofActiveCIFASRecords).agg(['mean', 'count'])"
   ]
  },
  {
   "cell_type": "markdown",
   "metadata": {},
   "source": [
    "### NumberOfActivePaydayLoans\n",
    "Sparse feature - we'll remove this."
   ]
  },
  {
   "cell_type": "code",
   "execution_count": 115,
   "metadata": {},
   "outputs": [
    {
     "data": {
      "text/html": [
       "<div>\n",
       "<style scoped>\n",
       "    .dataframe tbody tr th:only-of-type {\n",
       "        vertical-align: middle;\n",
       "    }\n",
       "\n",
       "    .dataframe tbody tr th {\n",
       "        vertical-align: top;\n",
       "    }\n",
       "\n",
       "    .dataframe thead th {\n",
       "        text-align: right;\n",
       "    }\n",
       "</style>\n",
       "<table border=\"1\" class=\"dataframe\">\n",
       "  <thead>\n",
       "    <tr style=\"text-align: right;\">\n",
       "      <th></th>\n",
       "      <th>mean</th>\n",
       "      <th>count</th>\n",
       "    </tr>\n",
       "    <tr>\n",
       "      <th>NumberOfActivePaydayLoans</th>\n",
       "      <th></th>\n",
       "      <th></th>\n",
       "    </tr>\n",
       "  </thead>\n",
       "  <tbody>\n",
       "    <tr>\n",
       "      <th>0.0</th>\n",
       "      <td>0.062809</td>\n",
       "      <td>21844</td>\n",
       "    </tr>\n",
       "  </tbody>\n",
       "</table>\n",
       "</div>"
      ],
      "text/plain": [
       "                               mean  count\n",
       "NumberOfActivePaydayLoans                 \n",
       "0.0                        0.062809  21844"
      ]
     },
     "execution_count": 115,
     "metadata": {},
     "output_type": "execute_result"
    }
   ],
   "source": [
    "df.bad_case.groupby(df.NumberOfActivePaydayLoans).agg(['mean', 'count'])"
   ]
  },
  {
   "cell_type": "code",
   "execution_count": 116,
   "metadata": {},
   "outputs": [],
   "source": [
    "cols_remove_2.append('NumberOfActivePaydayLoans')"
   ]
  },
  {
   "cell_type": "markdown",
   "metadata": {},
   "source": [
    "### NumberofNoticesofCorrection\n",
    "Sparse feature - we'll remove this too."
   ]
  },
  {
   "cell_type": "code",
   "execution_count": 117,
   "metadata": {},
   "outputs": [
    {
     "data": {
      "text/html": [
       "<div>\n",
       "<style scoped>\n",
       "    .dataframe tbody tr th:only-of-type {\n",
       "        vertical-align: middle;\n",
       "    }\n",
       "\n",
       "    .dataframe tbody tr th {\n",
       "        vertical-align: top;\n",
       "    }\n",
       "\n",
       "    .dataframe thead th {\n",
       "        text-align: right;\n",
       "    }\n",
       "</style>\n",
       "<table border=\"1\" class=\"dataframe\">\n",
       "  <thead>\n",
       "    <tr style=\"text-align: right;\">\n",
       "      <th></th>\n",
       "      <th>mean</th>\n",
       "      <th>count</th>\n",
       "    </tr>\n",
       "    <tr>\n",
       "      <th>NumberofNoticesofCorrection</th>\n",
       "      <th></th>\n",
       "      <th></th>\n",
       "    </tr>\n",
       "  </thead>\n",
       "  <tbody>\n",
       "    <tr>\n",
       "      <th>0.0</th>\n",
       "      <td>0.062852</td>\n",
       "      <td>21829</td>\n",
       "    </tr>\n",
       "    <tr>\n",
       "      <th>1.0</th>\n",
       "      <td>0.000000</td>\n",
       "      <td>3</td>\n",
       "    </tr>\n",
       "    <tr>\n",
       "      <th>2.0</th>\n",
       "      <td>0.000000</td>\n",
       "      <td>2</td>\n",
       "    </tr>\n",
       "    <tr>\n",
       "      <th>3.0</th>\n",
       "      <td>0.000000</td>\n",
       "      <td>8</td>\n",
       "    </tr>\n",
       "    <tr>\n",
       "      <th>4.0</th>\n",
       "      <td>0.000000</td>\n",
       "      <td>2</td>\n",
       "    </tr>\n",
       "  </tbody>\n",
       "</table>\n",
       "</div>"
      ],
      "text/plain": [
       "                                 mean  count\n",
       "NumberofNoticesofCorrection                 \n",
       "0.0                          0.062852  21829\n",
       "1.0                          0.000000      3\n",
       "2.0                          0.000000      2\n",
       "3.0                          0.000000      8\n",
       "4.0                          0.000000      2"
      ]
     },
     "execution_count": 117,
     "metadata": {},
     "output_type": "execute_result"
    }
   ],
   "source": [
    "df.bad_case.groupby(df.NumberofNoticesofCorrection).agg(['mean', 'count'])"
   ]
  },
  {
   "cell_type": "code",
   "execution_count": 118,
   "metadata": {},
   "outputs": [],
   "source": [
    "cols_remove_2.append('NumberofNoticesofCorrection')"
   ]
  },
  {
   "cell_type": "markdown",
   "metadata": {},
   "source": [
    "### NumberofNoticesofDispute\n",
    "Sparse feature - we'll remove this."
   ]
  },
  {
   "cell_type": "code",
   "execution_count": 119,
   "metadata": {},
   "outputs": [
    {
     "data": {
      "text/html": [
       "<div>\n",
       "<style scoped>\n",
       "    .dataframe tbody tr th:only-of-type {\n",
       "        vertical-align: middle;\n",
       "    }\n",
       "\n",
       "    .dataframe tbody tr th {\n",
       "        vertical-align: top;\n",
       "    }\n",
       "\n",
       "    .dataframe thead th {\n",
       "        text-align: right;\n",
       "    }\n",
       "</style>\n",
       "<table border=\"1\" class=\"dataframe\">\n",
       "  <thead>\n",
       "    <tr style=\"text-align: right;\">\n",
       "      <th></th>\n",
       "      <th>mean</th>\n",
       "      <th>count</th>\n",
       "    </tr>\n",
       "    <tr>\n",
       "      <th>NumberofNoticesofDispute</th>\n",
       "      <th></th>\n",
       "      <th></th>\n",
       "    </tr>\n",
       "  </thead>\n",
       "  <tbody>\n",
       "    <tr>\n",
       "      <th>0.0</th>\n",
       "      <td>0.062818</td>\n",
       "      <td>21841</td>\n",
       "    </tr>\n",
       "    <tr>\n",
       "      <th>1.0</th>\n",
       "      <td>0.000000</td>\n",
       "      <td>2</td>\n",
       "    </tr>\n",
       "    <tr>\n",
       "      <th>2.0</th>\n",
       "      <td>0.000000</td>\n",
       "      <td>1</td>\n",
       "    </tr>\n",
       "  </tbody>\n",
       "</table>\n",
       "</div>"
      ],
      "text/plain": [
       "                              mean  count\n",
       "NumberofNoticesofDispute                 \n",
       "0.0                       0.062818  21841\n",
       "1.0                       0.000000      2\n",
       "2.0                       0.000000      1"
      ]
     },
     "execution_count": 119,
     "metadata": {},
     "output_type": "execute_result"
    }
   ],
   "source": [
    "df.bad_case.groupby(df.NumberofNoticesofDispute).agg(['mean', 'count'])"
   ]
  },
  {
   "cell_type": "code",
   "execution_count": 120,
   "metadata": {},
   "outputs": [],
   "source": [
    "cols_remove_2.append('NumberofNoticesofDispute')"
   ]
  },
  {
   "cell_type": "markdown",
   "metadata": {},
   "source": [
    "### OccupancyStatus\n",
    "Looks like this feature could be really useful. We'll one-hot encode this. "
   ]
  },
  {
   "cell_type": "code",
   "execution_count": 121,
   "metadata": {},
   "outputs": [
    {
     "data": {
      "text/html": [
       "<div>\n",
       "<style scoped>\n",
       "    .dataframe tbody tr th:only-of-type {\n",
       "        vertical-align: middle;\n",
       "    }\n",
       "\n",
       "    .dataframe tbody tr th {\n",
       "        vertical-align: top;\n",
       "    }\n",
       "\n",
       "    .dataframe thead th {\n",
       "        text-align: right;\n",
       "    }\n",
       "</style>\n",
       "<table border=\"1\" class=\"dataframe\">\n",
       "  <thead>\n",
       "    <tr style=\"text-align: right;\">\n",
       "      <th></th>\n",
       "      <th>mean</th>\n",
       "      <th>count</th>\n",
       "    </tr>\n",
       "    <tr>\n",
       "      <th>OccupancyStatus</th>\n",
       "      <th></th>\n",
       "      <th></th>\n",
       "    </tr>\n",
       "  </thead>\n",
       "  <tbody>\n",
       "    <tr>\n",
       "      <th>council</th>\n",
       "      <td>0.146366</td>\n",
       "      <td>1954</td>\n",
       "    </tr>\n",
       "    <tr>\n",
       "      <th>home_owner</th>\n",
       "      <td>0.031071</td>\n",
       "      <td>9945</td>\n",
       "    </tr>\n",
       "    <tr>\n",
       "      <th>joint_owner</th>\n",
       "      <td>0.023145</td>\n",
       "      <td>1469</td>\n",
       "    </tr>\n",
       "    <tr>\n",
       "      <th>living_with_parents</th>\n",
       "      <td>0.078743</td>\n",
       "      <td>2705</td>\n",
       "    </tr>\n",
       "    <tr>\n",
       "      <th>other</th>\n",
       "      <td>0.082474</td>\n",
       "      <td>388</td>\n",
       "    </tr>\n",
       "    <tr>\n",
       "      <th>tenant</th>\n",
       "      <td>0.091303</td>\n",
       "      <td>5542</td>\n",
       "    </tr>\n",
       "  </tbody>\n",
       "</table>\n",
       "</div>"
      ],
      "text/plain": [
       "                         mean  count\n",
       "OccupancyStatus                     \n",
       "council              0.146366   1954\n",
       "home_owner           0.031071   9945\n",
       "joint_owner          0.023145   1469\n",
       "living_with_parents  0.078743   2705\n",
       "other                0.082474    388\n",
       "tenant               0.091303   5542"
      ]
     },
     "execution_count": 121,
     "metadata": {},
     "output_type": "execute_result"
    }
   ],
   "source": [
    "df.bad_case.groupby(df.OccupancyStatus).agg(['mean', 'count'])"
   ]
  },
  {
   "cell_type": "code",
   "execution_count": 122,
   "metadata": {},
   "outputs": [
    {
     "data": {
      "text/plain": [
       "<matplotlib.axes._subplots.AxesSubplot at 0x1841ef21128>"
      ]
     },
     "execution_count": 122,
     "metadata": {},
     "output_type": "execute_result"
    },
    {
     "data": {
      "image/png": "[encoded data removed]",
      "text/plain": [
       "<Figure size 432x288 with 1 Axes>"
      ]
     },
     "metadata": {
      "needs_background": "light"
     },
     "output_type": "display_data"
    }
   ],
   "source": [
    "sns.countplot(df['OccupancyStatus'], hue = df['bad_case'])"
   ]
  },
  {
   "cell_type": "markdown",
   "metadata": {},
   "source": [
    "### PepWarning\n",
    "Sparse feature - we'll remove this."
   ]
  },
  {
   "cell_type": "code",
   "execution_count": 123,
   "metadata": {},
   "outputs": [
    {
     "name": "stdout",
     "output_type": "stream",
     "text": [
      "Count of NaNs:  106\n"
     ]
    }
   ],
   "source": [
    "print('Count of NaNs: ',df['PepWarning'].isna().sum())"
   ]
  },
  {
   "cell_type": "code",
   "execution_count": 124,
   "metadata": {},
   "outputs": [
    {
     "data": {
      "text/html": [
       "<div>\n",
       "<style scoped>\n",
       "    .dataframe tbody tr th:only-of-type {\n",
       "        vertical-align: middle;\n",
       "    }\n",
       "\n",
       "    .dataframe tbody tr th {\n",
       "        vertical-align: top;\n",
       "    }\n",
       "\n",
       "    .dataframe thead th {\n",
       "        text-align: right;\n",
       "    }\n",
       "</style>\n",
       "<table border=\"1\" class=\"dataframe\">\n",
       "  <thead>\n",
       "    <tr style=\"text-align: right;\">\n",
       "      <th></th>\n",
       "      <th>mean</th>\n",
       "      <th>count</th>\n",
       "    </tr>\n",
       "    <tr>\n",
       "      <th>PepWarning</th>\n",
       "      <th></th>\n",
       "      <th></th>\n",
       "    </tr>\n",
       "  </thead>\n",
       "  <tbody>\n",
       "    <tr>\n",
       "      <th>False</th>\n",
       "      <td>0.062964</td>\n",
       "      <td>21822</td>\n",
       "    </tr>\n",
       "    <tr>\n",
       "      <th>True</th>\n",
       "      <td>0.000000</td>\n",
       "      <td>75</td>\n",
       "    </tr>\n",
       "  </tbody>\n",
       "</table>\n",
       "</div>"
      ],
      "text/plain": [
       "                mean  count\n",
       "PepWarning                 \n",
       "False       0.062964  21822\n",
       "True        0.000000     75"
      ]
     },
     "execution_count": 124,
     "metadata": {},
     "output_type": "execute_result"
    }
   ],
   "source": [
    "df.bad_case.groupby(df.PepWarning).agg(['mean', 'count'])"
   ]
  },
  {
   "cell_type": "code",
   "execution_count": 125,
   "metadata": {},
   "outputs": [],
   "source": [
    "cols_remove_2.append('PepWarning')"
   ]
  },
  {
   "cell_type": "markdown",
   "metadata": {},
   "source": [
    "### PercentageOfTotalPayments\n",
    "Sparse feature - we'll remove this."
   ]
  },
  {
   "cell_type": "code",
   "execution_count": 126,
   "metadata": {},
   "outputs": [
    {
     "name": "stdout",
     "output_type": "stream",
     "text": [
      "Count of NaNs:  17823\n"
     ]
    }
   ],
   "source": [
    "print('Count of NaNs: ',df['PercentageOfTotalPayments'].isna().sum())"
   ]
  },
  {
   "cell_type": "code",
   "execution_count": 127,
   "metadata": {},
   "outputs": [
    {
     "data": {
      "text/html": [
       "<div>\n",
       "<style scoped>\n",
       "    .dataframe tbody tr th:only-of-type {\n",
       "        vertical-align: middle;\n",
       "    }\n",
       "\n",
       "    .dataframe tbody tr th {\n",
       "        vertical-align: top;\n",
       "    }\n",
       "\n",
       "    .dataframe thead th {\n",
       "        text-align: right;\n",
       "    }\n",
       "</style>\n",
       "<table border=\"1\" class=\"dataframe\">\n",
       "  <thead>\n",
       "    <tr style=\"text-align: right;\">\n",
       "      <th></th>\n",
       "      <th>mean</th>\n",
       "      <th>count</th>\n",
       "    </tr>\n",
       "    <tr>\n",
       "      <th>PercentageOfTotalPayments</th>\n",
       "      <th></th>\n",
       "      <th></th>\n",
       "    </tr>\n",
       "  </thead>\n",
       "  <tbody>\n",
       "    <tr>\n",
       "      <th>False</th>\n",
       "      <td>0.071121</td>\n",
       "      <td>4176</td>\n",
       "    </tr>\n",
       "    <tr>\n",
       "      <th>True</th>\n",
       "      <td>0.000000</td>\n",
       "      <td>4</td>\n",
       "    </tr>\n",
       "  </tbody>\n",
       "</table>\n",
       "</div>"
      ],
      "text/plain": [
       "                               mean  count\n",
       "PercentageOfTotalPayments                 \n",
       "False                      0.071121   4176\n",
       "True                       0.000000      4"
      ]
     },
     "execution_count": 127,
     "metadata": {},
     "output_type": "execute_result"
    }
   ],
   "source": [
    "df.bad_case.groupby(df.PercentageOfTotalPayments).agg(['mean', 'count'])"
   ]
  },
  {
   "cell_type": "code",
   "execution_count": 128,
   "metadata": {},
   "outputs": [],
   "source": [
    "cols_remove_2.append('PercentageOfTotalPayments')"
   ]
  },
  {
   "cell_type": "markdown",
   "metadata": {},
   "source": [
    "### PrimaryChecksReturned\n",
    "This could be a useful feature, maybe consider any rounding or general transforming though if prone to overfitting."
   ]
  },
  {
   "cell_type": "code",
   "execution_count": 129,
   "metadata": {},
   "outputs": [
    {
     "name": "stdout",
     "output_type": "stream",
     "text": [
      "Count of NaNs:  114\n"
     ]
    }
   ],
   "source": [
    "print('Count of NaNs: ',df['PrimaryChecksReturned'].isna().sum())"
   ]
  },
  {
   "cell_type": "code",
   "execution_count": 130,
   "metadata": {},
   "outputs": [],
   "source": [
    "df['PrimaryChecksReturned'].fillna(0, inplace = True)"
   ]
  },
  {
   "cell_type": "code",
   "execution_count": 131,
   "metadata": {},
   "outputs": [
    {
     "data": {
      "text/html": [
       "<div>\n",
       "<style scoped>\n",
       "    .dataframe tbody tr th:only-of-type {\n",
       "        vertical-align: middle;\n",
       "    }\n",
       "\n",
       "    .dataframe tbody tr th {\n",
       "        vertical-align: top;\n",
       "    }\n",
       "\n",
       "    .dataframe thead th {\n",
       "        text-align: right;\n",
       "    }\n",
       "</style>\n",
       "<table border=\"1\" class=\"dataframe\">\n",
       "  <thead>\n",
       "    <tr style=\"text-align: right;\">\n",
       "      <th></th>\n",
       "      <th>mean</th>\n",
       "      <th>count</th>\n",
       "    </tr>\n",
       "    <tr>\n",
       "      <th>PrimaryChecksReturned</th>\n",
       "      <th></th>\n",
       "      <th></th>\n",
       "    </tr>\n",
       "  </thead>\n",
       "  <tbody>\n",
       "    <tr>\n",
       "      <th>0.0</th>\n",
       "      <td>0.056911</td>\n",
       "      <td>123</td>\n",
       "    </tr>\n",
       "    <tr>\n",
       "      <th>1.0</th>\n",
       "      <td>0.171687</td>\n",
       "      <td>332</td>\n",
       "    </tr>\n",
       "    <tr>\n",
       "      <th>2.0</th>\n",
       "      <td>0.107975</td>\n",
       "      <td>1417</td>\n",
       "    </tr>\n",
       "    <tr>\n",
       "      <th>3.0</th>\n",
       "      <td>0.085827</td>\n",
       "      <td>1771</td>\n",
       "    </tr>\n",
       "    <tr>\n",
       "      <th>4.0</th>\n",
       "      <td>0.067070</td>\n",
       "      <td>2147</td>\n",
       "    </tr>\n",
       "  </tbody>\n",
       "</table>\n",
       "</div>"
      ],
      "text/plain": [
       "                           mean  count\n",
       "PrimaryChecksReturned                 \n",
       "0.0                    0.056911    123\n",
       "1.0                    0.171687    332\n",
       "2.0                    0.107975   1417\n",
       "3.0                    0.085827   1771\n",
       "4.0                    0.067070   2147"
      ]
     },
     "execution_count": 131,
     "metadata": {},
     "output_type": "execute_result"
    }
   ],
   "source": [
    "df.bad_case.groupby(df.PrimaryChecksReturned).agg(['mean', 'count']).head()"
   ]
  },
  {
   "cell_type": "markdown",
   "metadata": {},
   "source": [
    "### RatioOfIncomeChangeOverThreeMonths\n",
    "Sparse feature - we'll remove this."
   ]
  },
  {
   "cell_type": "code",
   "execution_count": 132,
   "metadata": {},
   "outputs": [
    {
     "name": "stdout",
     "output_type": "stream",
     "text": [
      "Count of NaNs:  18263\n"
     ]
    }
   ],
   "source": [
    "print('Count of NaNs: ',df['RatioOfIncomeChangeOverThreeMonths'].isna().sum())"
   ]
  },
  {
   "cell_type": "code",
   "execution_count": 133,
   "metadata": {},
   "outputs": [],
   "source": [
    "cols_remove_2.append('RatioOfIncomeChangeOverThreeMonths')"
   ]
  },
  {
   "cell_type": "markdown",
   "metadata": {},
   "source": [
    "### SanctionsWarning\n",
    "Sparse feature - we'll remove this."
   ]
  },
  {
   "cell_type": "code",
   "execution_count": 134,
   "metadata": {},
   "outputs": [
    {
     "name": "stdout",
     "output_type": "stream",
     "text": [
      "Count of NaNs:  106\n"
     ]
    }
   ],
   "source": [
    "print('Count of NaNs: ',df['SanctionsWarning'].isna().sum())"
   ]
  },
  {
   "cell_type": "code",
   "execution_count": 135,
   "metadata": {
    "scrolled": true
   },
   "outputs": [
    {
     "data": {
      "text/html": [
       "<div>\n",
       "<style scoped>\n",
       "    .dataframe tbody tr th:only-of-type {\n",
       "        vertical-align: middle;\n",
       "    }\n",
       "\n",
       "    .dataframe tbody tr th {\n",
       "        vertical-align: top;\n",
       "    }\n",
       "\n",
       "    .dataframe thead th {\n",
       "        text-align: right;\n",
       "    }\n",
       "</style>\n",
       "<table border=\"1\" class=\"dataframe\">\n",
       "  <thead>\n",
       "    <tr style=\"text-align: right;\">\n",
       "      <th></th>\n",
       "      <th>mean</th>\n",
       "      <th>count</th>\n",
       "    </tr>\n",
       "    <tr>\n",
       "      <th>SanctionsWarning</th>\n",
       "      <th></th>\n",
       "      <th></th>\n",
       "    </tr>\n",
       "  </thead>\n",
       "  <tbody>\n",
       "    <tr>\n",
       "      <th>False</th>\n",
       "      <td>0.062720</td>\n",
       "      <td>21891</td>\n",
       "    </tr>\n",
       "    <tr>\n",
       "      <th>True</th>\n",
       "      <td>0.166667</td>\n",
       "      <td>6</td>\n",
       "    </tr>\n",
       "  </tbody>\n",
       "</table>\n",
       "</div>"
      ],
      "text/plain": [
       "                      mean  count\n",
       "SanctionsWarning                 \n",
       "False             0.062720  21891\n",
       "True              0.166667      6"
      ]
     },
     "execution_count": 135,
     "metadata": {},
     "output_type": "execute_result"
    }
   ],
   "source": [
    "df.bad_case.groupby(df.SanctionsWarning).agg(['mean', 'count'])"
   ]
  },
  {
   "cell_type": "code",
   "execution_count": 136,
   "metadata": {},
   "outputs": [],
   "source": [
    "cols_remove_2.append('SanctionsWarning')"
   ]
  },
  {
   "cell_type": "markdown",
   "metadata": {},
   "source": [
    "### SDNWarning\n",
    "Sparse feature - we'll remove this."
   ]
  },
  {
   "cell_type": "code",
   "execution_count": 137,
   "metadata": {},
   "outputs": [
    {
     "name": "stdout",
     "output_type": "stream",
     "text": [
      "Count of NaNs:  106\n"
     ]
    }
   ],
   "source": [
    "print('Count of NaNs: ',df['SDNWarning'].isna().sum())"
   ]
  },
  {
   "cell_type": "code",
   "execution_count": 138,
   "metadata": {},
   "outputs": [
    {
     "data": {
      "text/html": [
       "<div>\n",
       "<style scoped>\n",
       "    .dataframe tbody tr th:only-of-type {\n",
       "        vertical-align: middle;\n",
       "    }\n",
       "\n",
       "    .dataframe tbody tr th {\n",
       "        vertical-align: top;\n",
       "    }\n",
       "\n",
       "    .dataframe thead th {\n",
       "        text-align: right;\n",
       "    }\n",
       "</style>\n",
       "<table border=\"1\" class=\"dataframe\">\n",
       "  <thead>\n",
       "    <tr style=\"text-align: right;\">\n",
       "      <th></th>\n",
       "      <th>mean</th>\n",
       "      <th>count</th>\n",
       "    </tr>\n",
       "    <tr>\n",
       "      <th>SDNWarning</th>\n",
       "      <th></th>\n",
       "      <th></th>\n",
       "    </tr>\n",
       "  </thead>\n",
       "  <tbody>\n",
       "    <tr>\n",
       "      <th>False</th>\n",
       "      <td>0.062706</td>\n",
       "      <td>21896</td>\n",
       "    </tr>\n",
       "    <tr>\n",
       "      <th>True</th>\n",
       "      <td>1.000000</td>\n",
       "      <td>1</td>\n",
       "    </tr>\n",
       "  </tbody>\n",
       "</table>\n",
       "</div>"
      ],
      "text/plain": [
       "                mean  count\n",
       "SDNWarning                 \n",
       "False       0.062706  21896\n",
       "True        1.000000      1"
      ]
     },
     "execution_count": 138,
     "metadata": {},
     "output_type": "execute_result"
    }
   ],
   "source": [
    "df.bad_case.groupby(df.SDNWarning).agg(['mean', 'count'])"
   ]
  },
  {
   "cell_type": "code",
   "execution_count": 139,
   "metadata": {},
   "outputs": [],
   "source": [
    "cols_remove_2.append('SDNWarning')"
   ]
  },
  {
   "cell_type": "markdown",
   "metadata": {},
   "source": [
    "### MerchantName\n",
    "There are a lot of Merchants, and varying counts for each. We want to be able to capture some information here, but if we one-hot encode every Merchant this would definitely lead to over fitting (and be super inefficient computationally). \n",
    "\n",
    "Merchants like Adaptation Station LTD have high bad case rate, but only because there are 3 records in total. Simba Sleep on the other hand has a high bad case rate and a lot of records - we want to capture this distinction. \n",
    "\n",
    "I think for now let's just take a handful of the most active merchants to one-hot encode and leave the rest. We might want to come back to this feature, but between this one and the sector feature (which we need to add ourselves) most of the information should be captured. "
   ]
  },
  {
   "cell_type": "code",
   "execution_count": 140,
   "metadata": {},
   "outputs": [
    {
     "data": {
      "text/html": [
       "<div>\n",
       "<style scoped>\n",
       "    .dataframe tbody tr th:only-of-type {\n",
       "        vertical-align: middle;\n",
       "    }\n",
       "\n",
       "    .dataframe tbody tr th {\n",
       "        vertical-align: top;\n",
       "    }\n",
       "\n",
       "    .dataframe thead th {\n",
       "        text-align: right;\n",
       "    }\n",
       "</style>\n",
       "<table border=\"1\" class=\"dataframe\">\n",
       "  <thead>\n",
       "    <tr style=\"text-align: right;\">\n",
       "      <th></th>\n",
       "      <th>mean</th>\n",
       "      <th>count</th>\n",
       "    </tr>\n",
       "    <tr>\n",
       "      <th>MerchantName</th>\n",
       "      <th></th>\n",
       "      <th></th>\n",
       "    </tr>\n",
       "  </thead>\n",
       "  <tbody>\n",
       "    <tr>\n",
       "      <th>SIMBA SLEEP LIMITED</th>\n",
       "      <td>0.072366</td>\n",
       "      <td>10516</td>\n",
       "    </tr>\n",
       "    <tr>\n",
       "      <th>PurpleBricks  Payment Services</th>\n",
       "      <td>0.038771</td>\n",
       "      <td>1367</td>\n",
       "    </tr>\n",
       "    <tr>\n",
       "      <th>SPECIALISED TRAINING SERVICES LTD</th>\n",
       "      <td>0.092891</td>\n",
       "      <td>1055</td>\n",
       "    </tr>\n",
       "    <tr>\n",
       "      <th>EBS SYSTEMS LIMITED</th>\n",
       "      <td>0.106931</td>\n",
       "      <td>1010</td>\n",
       "    </tr>\n",
       "    <tr>\n",
       "      <th>OSC LIMITED T/A OPEN STUDY COLLEGE</th>\n",
       "      <td>0.024631</td>\n",
       "      <td>609</td>\n",
       "    </tr>\n",
       "    <tr>\n",
       "      <th>THE MOBILITY FURNITURE COMPANY LTD</th>\n",
       "      <td>0.055462</td>\n",
       "      <td>595</td>\n",
       "    </tr>\n",
       "    <tr>\n",
       "      <th>SHERMIN FINANCE LIMITED SMI</th>\n",
       "      <td>0.005464</td>\n",
       "      <td>549</td>\n",
       "    </tr>\n",
       "    <tr>\n",
       "      <th>EVE SLEEP PLC</th>\n",
       "      <td>0.013072</td>\n",
       "      <td>459</td>\n",
       "    </tr>\n",
       "    <tr>\n",
       "      <th>JUST PAINTBALL</th>\n",
       "      <td>0.067797</td>\n",
       "      <td>295</td>\n",
       "    </tr>\n",
       "    <tr>\n",
       "      <th>RUGSTACK.COM LTD</th>\n",
       "      <td>0.035587</td>\n",
       "      <td>281</td>\n",
       "    </tr>\n",
       "  </tbody>\n",
       "</table>\n",
       "</div>"
      ],
      "text/plain": [
       "                                        mean  count\n",
       "MerchantName                                       \n",
       "SIMBA SLEEP LIMITED                 0.072366  10516\n",
       "PurpleBricks  Payment Services      0.038771   1367\n",
       "SPECIALISED TRAINING SERVICES LTD   0.092891   1055\n",
       "EBS SYSTEMS LIMITED                 0.106931   1010\n",
       "OSC LIMITED T/A OPEN STUDY COLLEGE  0.024631    609\n",
       "THE MOBILITY FURNITURE COMPANY LTD  0.055462    595\n",
       "SHERMIN FINANCE LIMITED SMI         0.005464    549\n",
       "EVE SLEEP PLC                       0.013072    459\n",
       "JUST PAINTBALL                      0.067797    295\n",
       "RUGSTACK.COM LTD                    0.035587    281"
      ]
     },
     "execution_count": 140,
     "metadata": {},
     "output_type": "execute_result"
    }
   ],
   "source": [
    "df.bad_case.groupby(df.MerchantName).agg(['mean', 'count']).sort_values(by=['count'], ascending=False).head(10)"
   ]
  },
  {
   "cell_type": "code",
   "execution_count": 141,
   "metadata": {},
   "outputs": [
    {
     "name": "stdout",
     "output_type": "stream",
     "text": [
      "Number of Merchants:  237\n"
     ]
    }
   ],
   "source": [
    "print('Number of Merchants: ',len(df.MerchantName.unique()))"
   ]
  },
  {
   "cell_type": "markdown",
   "metadata": {},
   "source": [
    "### Country\n",
    "Sparse feature - get rid of this. "
   ]
  },
  {
   "cell_type": "code",
   "execution_count": 142,
   "metadata": {},
   "outputs": [
    {
     "data": {
      "text/html": [
       "<div>\n",
       "<style scoped>\n",
       "    .dataframe tbody tr th:only-of-type {\n",
       "        vertical-align: middle;\n",
       "    }\n",
       "\n",
       "    .dataframe tbody tr th {\n",
       "        vertical-align: top;\n",
       "    }\n",
       "\n",
       "    .dataframe thead th {\n",
       "        text-align: right;\n",
       "    }\n",
       "</style>\n",
       "<table border=\"1\" class=\"dataframe\">\n",
       "  <thead>\n",
       "    <tr style=\"text-align: right;\">\n",
       "      <th></th>\n",
       "      <th>mean</th>\n",
       "      <th>count</th>\n",
       "    </tr>\n",
       "    <tr>\n",
       "      <th>Country</th>\n",
       "      <th></th>\n",
       "      <th></th>\n",
       "    </tr>\n",
       "  </thead>\n",
       "  <tbody>\n",
       "    <tr>\n",
       "      <th>GB</th>\n",
       "      <td>0.062719</td>\n",
       "      <td>22003</td>\n",
       "    </tr>\n",
       "  </tbody>\n",
       "</table>\n",
       "</div>"
      ],
      "text/plain": [
       "             mean  count\n",
       "Country                 \n",
       "GB       0.062719  22003"
      ]
     },
     "execution_count": 142,
     "metadata": {},
     "output_type": "execute_result"
    }
   ],
   "source": [
    "df.bad_case.groupby(df.Country).agg(['mean', 'count'])"
   ]
  },
  {
   "cell_type": "code",
   "execution_count": 143,
   "metadata": {},
   "outputs": [],
   "source": [
    "cols_remove_2.append('Country')"
   ]
  },
  {
   "cell_type": "markdown",
   "metadata": {},
   "source": [
    "### Currency\n",
    "Sparse feature - get rid of this."
   ]
  },
  {
   "cell_type": "code",
   "execution_count": 144,
   "metadata": {},
   "outputs": [
    {
     "data": {
      "text/html": [
       "<div>\n",
       "<style scoped>\n",
       "    .dataframe tbody tr th:only-of-type {\n",
       "        vertical-align: middle;\n",
       "    }\n",
       "\n",
       "    .dataframe tbody tr th {\n",
       "        vertical-align: top;\n",
       "    }\n",
       "\n",
       "    .dataframe thead th {\n",
       "        text-align: right;\n",
       "    }\n",
       "</style>\n",
       "<table border=\"1\" class=\"dataframe\">\n",
       "  <thead>\n",
       "    <tr style=\"text-align: right;\">\n",
       "      <th></th>\n",
       "      <th>mean</th>\n",
       "      <th>count</th>\n",
       "    </tr>\n",
       "    <tr>\n",
       "      <th>Currency</th>\n",
       "      <th></th>\n",
       "      <th></th>\n",
       "    </tr>\n",
       "  </thead>\n",
       "  <tbody>\n",
       "    <tr>\n",
       "      <th>GBP</th>\n",
       "      <td>0.062719</td>\n",
       "      <td>22003</td>\n",
       "    </tr>\n",
       "  </tbody>\n",
       "</table>\n",
       "</div>"
      ],
      "text/plain": [
       "              mean  count\n",
       "Currency                 \n",
       "GBP       0.062719  22003"
      ]
     },
     "execution_count": 144,
     "metadata": {},
     "output_type": "execute_result"
    }
   ],
   "source": [
    "df.bad_case.groupby(df.Currency).agg(['mean', 'count'])"
   ]
  },
  {
   "cell_type": "code",
   "execution_count": 145,
   "metadata": {},
   "outputs": [],
   "source": [
    "cols_remove_2.append('Currency')"
   ]
  },
  {
   "cell_type": "markdown",
   "metadata": {},
   "source": [
    "### CreatedAt\n",
    "This could be a useful feature - we'll transform the datetime into an 'app_age' feature (minusing the CreatedDate from the Current Date).\n",
    "\n",
    "We'll map to new features:\n",
    " - `day_of_week`\n",
    " - `is_weekend`\n",
    " - `day_of_month`\n",
    " - `day_of_year`\n",
    " - `month_of_year`\n",
    " - `year`\n",
    " - `absolute_time`\n",
    " - `hour_of_day`\n",
    " - `minute_of_day`\n",
    "\n",
    "Other features we'll extract are:\n",
    " - `is_holiday`\n",
    " - `is_payday`"
   ]
  },
  {
   "cell_type": "code",
   "execution_count": 146,
   "metadata": {},
   "outputs": [],
   "source": [
    "# Convert string to datetime obj\n",
    "df['CreatedAt'] = pd.to_datetime(df['CreatedAt'], format='%Y-%m-%d %H:%M:%S')\n",
    "df['CreatedDate'] = df['CreatedAt'].dt.date"
   ]
  },
  {
   "cell_type": "markdown",
   "metadata": {},
   "source": [
    "### AcceptedAt\n",
    "We'll extract a new feature called `days_between_create_accept` that shows the number of days between app creation and app acceptance. "
   ]
  },
  {
   "cell_type": "code",
   "execution_count": 147,
   "metadata": {},
   "outputs": [],
   "source": [
    "# Convert string to datetime obj\n",
    "df['AcceptedAt'] = pd.to_datetime(df['AcceptedAt'], format = '%Y-%m-%d %H:%M:%S')"
   ]
  },
  {
   "cell_type": "markdown",
   "metadata": {},
   "source": [
    "### Channel\n",
    "We'll remove this feature in favour of the `ChannelType` feature."
   ]
  },
  {
   "cell_type": "code",
   "execution_count": 148,
   "metadata": {},
   "outputs": [
    {
     "data": {
      "text/html": [
       "<div>\n",
       "<style scoped>\n",
       "    .dataframe tbody tr th:only-of-type {\n",
       "        vertical-align: middle;\n",
       "    }\n",
       "\n",
       "    .dataframe tbody tr th {\n",
       "        vertical-align: top;\n",
       "    }\n",
       "\n",
       "    .dataframe thead th {\n",
       "        text-align: right;\n",
       "    }\n",
       "</style>\n",
       "<table border=\"1\" class=\"dataframe\">\n",
       "  <thead>\n",
       "    <tr style=\"text-align: right;\">\n",
       "      <th></th>\n",
       "      <th>mean</th>\n",
       "      <th>count</th>\n",
       "    </tr>\n",
       "    <tr>\n",
       "      <th>Channel</th>\n",
       "      <th></th>\n",
       "      <th></th>\n",
       "    </tr>\n",
       "  </thead>\n",
       "  <tbody>\n",
       "    <tr>\n",
       "      <th>ABC - Harley Street</th>\n",
       "      <td>0.000000</td>\n",
       "      <td>6</td>\n",
       "    </tr>\n",
       "    <tr>\n",
       "      <th>Aylesbury</th>\n",
       "      <td>0.000000</td>\n",
       "      <td>2</td>\n",
       "    </tr>\n",
       "    <tr>\n",
       "      <th>BH Solutions Ltd</th>\n",
       "      <td>0.000000</td>\n",
       "      <td>36</td>\n",
       "    </tr>\n",
       "    <tr>\n",
       "      <th>BMW</th>\n",
       "      <td>0.000000</td>\n",
       "      <td>196</td>\n",
       "    </tr>\n",
       "    <tr>\n",
       "      <th>Barking Store</th>\n",
       "      <td>0.000000</td>\n",
       "      <td>24</td>\n",
       "    </tr>\n",
       "    <tr>\n",
       "      <th>Basi Home Improvements Limited</th>\n",
       "      <td>0.000000</td>\n",
       "      <td>3</td>\n",
       "    </tr>\n",
       "    <tr>\n",
       "      <th>Bath Concessions</th>\n",
       "      <td>0.000000</td>\n",
       "      <td>2</td>\n",
       "    </tr>\n",
       "    <tr>\n",
       "      <th>Belfast Heating Services Ltd</th>\n",
       "      <td>0.000000</td>\n",
       "      <td>2</td>\n",
       "    </tr>\n",
       "    <tr>\n",
       "      <th>Bexleyheath Store</th>\n",
       "      <td>0.000000</td>\n",
       "      <td>23</td>\n",
       "    </tr>\n",
       "    <tr>\n",
       "      <th>Birmingham</th>\n",
       "      <td>0.035714</td>\n",
       "      <td>28</td>\n",
       "    </tr>\n",
       "    <tr>\n",
       "      <th>Borthwick Heating Insulations UK Ltd</th>\n",
       "      <td>0.000000</td>\n",
       "      <td>24</td>\n",
       "    </tr>\n",
       "    <tr>\n",
       "      <th>Brian McAllister t/a BMA Gas</th>\n",
       "      <td>0.000000</td>\n",
       "      <td>5</td>\n",
       "    </tr>\n",
       "    <tr>\n",
       "      <th>Bristol</th>\n",
       "      <td>0.000000</td>\n",
       "      <td>5</td>\n",
       "    </tr>\n",
       "    <tr>\n",
       "      <th>Bristol Store</th>\n",
       "      <td>0.000000</td>\n",
       "      <td>51</td>\n",
       "    </tr>\n",
       "    <tr>\n",
       "      <th>Brixton Store</th>\n",
       "      <td>0.058824</td>\n",
       "      <td>68</td>\n",
       "    </tr>\n",
       "    <tr>\n",
       "      <th>Bromley Store</th>\n",
       "      <td>0.111111</td>\n",
       "      <td>9</td>\n",
       "    </tr>\n",
       "    <tr>\n",
       "      <th>CRW Trade Centre Limited</th>\n",
       "      <td>0.000000</td>\n",
       "      <td>3</td>\n",
       "    </tr>\n",
       "    <tr>\n",
       "      <th>Carbon Catch Ltd</th>\n",
       "      <td>0.000000</td>\n",
       "      <td>49</td>\n",
       "    </tr>\n",
       "    <tr>\n",
       "      <th>Cardiff Store</th>\n",
       "      <td>0.062500</td>\n",
       "      <td>16</td>\n",
       "    </tr>\n",
       "    <tr>\n",
       "      <th>Centiam Home Improvements Ltd</th>\n",
       "      <td>0.000000</td>\n",
       "      <td>2</td>\n",
       "    </tr>\n",
       "    <tr>\n",
       "      <th>Clinic</th>\n",
       "      <td>0.000000</td>\n",
       "      <td>1</td>\n",
       "    </tr>\n",
       "    <tr>\n",
       "      <th>Cool Shutters Limited</th>\n",
       "      <td>0.000000</td>\n",
       "      <td>19</td>\n",
       "    </tr>\n",
       "    <tr>\n",
       "      <th>Crawley Store</th>\n",
       "      <td>0.000000</td>\n",
       "      <td>27</td>\n",
       "    </tr>\n",
       "    <tr>\n",
       "      <th>D.Glavin Plumbing &amp; Heating</th>\n",
       "      <td>0.000000</td>\n",
       "      <td>4</td>\n",
       "    </tr>\n",
       "    <tr>\n",
       "      <th>D.McCartney t/a Action Plumbing and Heating</th>\n",
       "      <td>0.000000</td>\n",
       "      <td>1</td>\n",
       "    </tr>\n",
       "    <tr>\n",
       "      <th>Dalston</th>\n",
       "      <td>0.378378</td>\n",
       "      <td>37</td>\n",
       "    </tr>\n",
       "    <tr>\n",
       "      <th>East Ham Store</th>\n",
       "      <td>0.000000</td>\n",
       "      <td>24</td>\n",
       "    </tr>\n",
       "    <tr>\n",
       "      <th>Energy Shield Protection Limited</th>\n",
       "      <td>0.033898</td>\n",
       "      <td>59</td>\n",
       "    </tr>\n",
       "    <tr>\n",
       "      <th>Fishing Spares</th>\n",
       "      <td>0.111111</td>\n",
       "      <td>18</td>\n",
       "    </tr>\n",
       "    <tr>\n",
       "      <th>Furniture Store - North</th>\n",
       "      <td>0.044944</td>\n",
       "      <td>89</td>\n",
       "    </tr>\n",
       "    <tr>\n",
       "      <th>...</th>\n",
       "      <td>...</td>\n",
       "      <td>...</td>\n",
       "    </tr>\n",
       "    <tr>\n",
       "      <th>Peckham</th>\n",
       "      <td>0.000000</td>\n",
       "      <td>4</td>\n",
       "    </tr>\n",
       "    <tr>\n",
       "      <th>Peckham Store</th>\n",
       "      <td>0.021277</td>\n",
       "      <td>47</td>\n",
       "    </tr>\n",
       "    <tr>\n",
       "      <th>Prestige Property Improvements Ltd</th>\n",
       "      <td>0.000000</td>\n",
       "      <td>16</td>\n",
       "    </tr>\n",
       "    <tr>\n",
       "      <th>Priory Paving (NE) Limited</th>\n",
       "      <td>0.000000</td>\n",
       "      <td>4</td>\n",
       "    </tr>\n",
       "    <tr>\n",
       "      <th>Reading Store</th>\n",
       "      <td>0.032258</td>\n",
       "      <td>31</td>\n",
       "    </tr>\n",
       "    <tr>\n",
       "      <th>Ross Concessions</th>\n",
       "      <td>0.000000</td>\n",
       "      <td>1</td>\n",
       "    </tr>\n",
       "    <tr>\n",
       "      <th>STORE</th>\n",
       "      <td>0.000000</td>\n",
       "      <td>4</td>\n",
       "    </tr>\n",
       "    <tr>\n",
       "      <th>Safe Gas NI Ltd</th>\n",
       "      <td>0.000000</td>\n",
       "      <td>21</td>\n",
       "    </tr>\n",
       "    <tr>\n",
       "      <th>Sales</th>\n",
       "      <td>0.018349</td>\n",
       "      <td>109</td>\n",
       "    </tr>\n",
       "    <tr>\n",
       "      <th>South End Store</th>\n",
       "      <td>0.250000</td>\n",
       "      <td>8</td>\n",
       "    </tr>\n",
       "    <tr>\n",
       "      <th>Southern</th>\n",
       "      <td>0.088000</td>\n",
       "      <td>125</td>\n",
       "    </tr>\n",
       "    <tr>\n",
       "      <th>Southview Nurseries</th>\n",
       "      <td>0.000000</td>\n",
       "      <td>1</td>\n",
       "    </tr>\n",
       "    <tr>\n",
       "      <th>St Pauls</th>\n",
       "      <td>0.041667</td>\n",
       "      <td>24</td>\n",
       "    </tr>\n",
       "    <tr>\n",
       "      <th>Stephen Mcneeley Gs &amp; Plumbing Ltd</th>\n",
       "      <td>0.000000</td>\n",
       "      <td>12</td>\n",
       "    </tr>\n",
       "    <tr>\n",
       "      <th>Stoke</th>\n",
       "      <td>0.000000</td>\n",
       "      <td>1</td>\n",
       "    </tr>\n",
       "    <tr>\n",
       "      <th>Store</th>\n",
       "      <td>0.051282</td>\n",
       "      <td>39</td>\n",
       "    </tr>\n",
       "    <tr>\n",
       "      <th>Stratford Store</th>\n",
       "      <td>0.000000</td>\n",
       "      <td>4</td>\n",
       "    </tr>\n",
       "    <tr>\n",
       "      <th>Sunrise Windows (Plymouth) Limited</th>\n",
       "      <td>0.000000</td>\n",
       "      <td>1</td>\n",
       "    </tr>\n",
       "    <tr>\n",
       "      <th>Swansea Store</th>\n",
       "      <td>0.000000</td>\n",
       "      <td>24</td>\n",
       "    </tr>\n",
       "    <tr>\n",
       "      <th>TZM Solutions Limited</th>\n",
       "      <td>0.000000</td>\n",
       "      <td>1</td>\n",
       "    </tr>\n",
       "    <tr>\n",
       "      <th>Telesales</th>\n",
       "      <td>0.028455</td>\n",
       "      <td>246</td>\n",
       "    </tr>\n",
       "    <tr>\n",
       "      <th>Tickhill Garden Centre</th>\n",
       "      <td>0.000000</td>\n",
       "      <td>2</td>\n",
       "    </tr>\n",
       "    <tr>\n",
       "      <th>Walworth</th>\n",
       "      <td>0.083333</td>\n",
       "      <td>12</td>\n",
       "    </tr>\n",
       "    <tr>\n",
       "      <th>Webshop</th>\n",
       "      <td>0.012848</td>\n",
       "      <td>467</td>\n",
       "    </tr>\n",
       "    <tr>\n",
       "      <th>Website</th>\n",
       "      <td>0.000000</td>\n",
       "      <td>3</td>\n",
       "    </tr>\n",
       "    <tr>\n",
       "      <th>Wimbledon</th>\n",
       "      <td>0.000000</td>\n",
       "      <td>14</td>\n",
       "    </tr>\n",
       "    <tr>\n",
       "      <th>Woolwich</th>\n",
       "      <td>0.000000</td>\n",
       "      <td>5</td>\n",
       "    </tr>\n",
       "    <tr>\n",
       "      <th>Yarnton Concessions</th>\n",
       "      <td>0.000000</td>\n",
       "      <td>1</td>\n",
       "    </tr>\n",
       "    <tr>\n",
       "      <th>store</th>\n",
       "      <td>0.000000</td>\n",
       "      <td>2</td>\n",
       "    </tr>\n",
       "    <tr>\n",
       "      <th>web</th>\n",
       "      <td>0.000000</td>\n",
       "      <td>41</td>\n",
       "    </tr>\n",
       "  </tbody>\n",
       "</table>\n",
       "<p>105 rows × 2 columns</p>\n",
       "</div>"
      ],
      "text/plain": [
       "                                                 mean  count\n",
       "Channel                                                     \n",
       "ABC - Harley Street                          0.000000      6\n",
       "Aylesbury                                    0.000000      2\n",
       "BH Solutions Ltd                             0.000000     36\n",
       "BMW                                          0.000000    196\n",
       "Barking Store                                0.000000     24\n",
       "Basi Home Improvements Limited               0.000000      3\n",
       "Bath Concessions                             0.000000      2\n",
       "Belfast Heating Services Ltd                 0.000000      2\n",
       "Bexleyheath Store                            0.000000     23\n",
       "Birmingham                                   0.035714     28\n",
       "Borthwick Heating Insulations UK Ltd         0.000000     24\n",
       "Brian McAllister t/a BMA Gas                 0.000000      5\n",
       "Bristol                                      0.000000      5\n",
       "Bristol Store                                0.000000     51\n",
       "Brixton Store                                0.058824     68\n",
       "Bromley Store                                0.111111      9\n",
       "CRW Trade Centre Limited                     0.000000      3\n",
       "Carbon Catch Ltd                             0.000000     49\n",
       "Cardiff Store                                0.062500     16\n",
       "Centiam Home Improvements Ltd                0.000000      2\n",
       "Clinic                                       0.000000      1\n",
       "Cool Shutters Limited                        0.000000     19\n",
       "Crawley Store                                0.000000     27\n",
       "D.Glavin Plumbing & Heating                  0.000000      4\n",
       "D.McCartney t/a Action Plumbing and Heating  0.000000      1\n",
       "Dalston                                      0.378378     37\n",
       "East Ham Store                               0.000000     24\n",
       "Energy Shield Protection Limited             0.033898     59\n",
       "Fishing Spares                               0.111111     18\n",
       "Furniture Store - North                      0.044944     89\n",
       "...                                               ...    ...\n",
       "Peckham                                      0.000000      4\n",
       "Peckham Store                                0.021277     47\n",
       "Prestige Property Improvements Ltd           0.000000     16\n",
       "Priory Paving (NE) Limited                   0.000000      4\n",
       "Reading Store                                0.032258     31\n",
       "Ross Concessions                             0.000000      1\n",
       "STORE                                        0.000000      4\n",
       "Safe Gas NI Ltd                              0.000000     21\n",
       "Sales                                        0.018349    109\n",
       "South End Store                              0.250000      8\n",
       "Southern                                     0.088000    125\n",
       "Southview Nurseries                          0.000000      1\n",
       "St Pauls                                     0.041667     24\n",
       "Stephen Mcneeley Gs & Plumbing Ltd           0.000000     12\n",
       "Stoke                                        0.000000      1\n",
       "Store                                        0.051282     39\n",
       "Stratford Store                              0.000000      4\n",
       "Sunrise Windows (Plymouth) Limited           0.000000      1\n",
       "Swansea Store                                0.000000     24\n",
       "TZM Solutions Limited                        0.000000      1\n",
       "Telesales                                    0.028455    246\n",
       "Tickhill Garden Centre                       0.000000      2\n",
       "Walworth                                     0.083333     12\n",
       "Webshop                                      0.012848    467\n",
       "Website                                      0.000000      3\n",
       "Wimbledon                                    0.000000     14\n",
       "Woolwich                                     0.000000      5\n",
       "Yarnton Concessions                          0.000000      1\n",
       "store                                        0.000000      2\n",
       "web                                          0.000000     41\n",
       "\n",
       "[105 rows x 2 columns]"
      ]
     },
     "execution_count": 148,
     "metadata": {},
     "output_type": "execute_result"
    }
   ],
   "source": [
    "df.bad_case.groupby(df.Channel).agg(['mean', 'count'])"
   ]
  },
  {
   "cell_type": "code",
   "execution_count": 149,
   "metadata": {},
   "outputs": [],
   "source": [
    "cols_remove_2.append('Channel')"
   ]
  },
  {
   "cell_type": "markdown",
   "metadata": {},
   "source": [
    "### ChannelType\n",
    "We'll remove this."
   ]
  },
  {
   "cell_type": "code",
   "execution_count": null,
   "metadata": {},
   "outputs": [],
   "source": [
    "cols_remove_2.append('ChannelType')"
   ]
  },
  {
   "cell_type": "markdown",
   "metadata": {},
   "source": [
    "### FinanceDescription\n",
    "This is a complex feature to work with. For now we will extract into new features:\n",
    " - Term\n",
    " - BNPL\n",
    " - Interest Rate\n",
    " - Subsidised"
   ]
  },
  {
   "cell_type": "code",
   "execution_count": 152,
   "metadata": {},
   "outputs": [
    {
     "name": "stdout",
     "output_type": "stream",
     "text": [
      "144 unique finance descriptions\n"
     ]
    }
   ],
   "source": [
    "# Just take the unique finance descriptions\n",
    "finances = pd.Series(df['FinanceDescription'].unique()).sort_values().reset_index(drop=True)\n",
    "print(str(len(finances)) + \" unique finance descriptions\")"
   ]
  },
  {
   "cell_type": "code",
   "execution_count": 153,
   "metadata": {
    "scrolled": false
   },
   "outputs": [
    {
     "data": {
      "text/plain": [
       "array(['10 Months 0% APR', '10 Months Interest Free 0% APR',\n",
       "       '11 Months 0% APR', '12 Mon Part Sub 14.9% APR',\n",
       "       '12 Mon Part Sub 15.9% APR', '12 Mon Part Sub. 14.9% APR',\n",
       "       '12 Mon Part Sub. 7.5% APR', '12 Mon Part Sub. 9.9% APR',\n",
       "       '12 Month 0% APR', '12 Months 0% APR', '12 Months 14.9% APR',\n",
       "       '12 Months 17.9% APR', '12 Months 19.5% APR',\n",
       "       '12 Months 19.9% APR', '12 Months 29.9% APR', '12 Months 9.9% APR',\n",
       "       '12 Months Interest Bearing  14.9% APR',\n",
       "       '12 Months Interest Bearing  15.9% APR',\n",
       "       '12 Months Interest Bearing  16.9% APR',\n",
       "       '12 Months Interest Bearing  19.5% APR',\n",
       "       '12 Months Interest Free  0% APR',\n",
       "       '12 Months Interest Free 0% APR', '12 Months Part Sub 14.9% APR',\n",
       "       '12 Months Part Subsidised 14.9% APR',\n",
       "       '12 Months Part Subsidised 9.9% APR', '18 Months 0% APR',\n",
       "       '18 Months 16.5% APR', '18 Months 19.5% APR',\n",
       "       '18 Months Interest Bearing  15.9% APR',\n",
       "       '18 Months Interest Free 0% APR', '24 Mon Part Sub 11.9% APR',\n",
       "       '24 Mon Part Sub 14.9%', '24 Mon Part Sub 14.9% APR',\n",
       "       '24 Mon Part Sub 15.9% APR', '24 Mon Part Sub 4.9% APR',\n",
       "       '24 Mon Part Sub 9.9% APR', '24 Mon Part Sub. 9.9% APR',\n",
       "       '24 Months 0% APR', '24 Months 14.9% APR', '24 Months 16.5% APR',\n",
       "       '24 Months 17.9% APR', '24 Months 18.9% APR',\n",
       "       '24 Months 19.5% APR', '24 Months 19.9% APR',\n",
       "       '24 Months 29.9% APR', '24 Months 9.9% APR',\n",
       "       '24 Months Interest Bearing 14.9% APR',\n",
       "       '24 Months Interest Bearing 15.9% APR',\n",
       "       '24 Months Interest Bearing 16.9% APR',\n",
       "       '24 Months Interest Bearing 17.9% APR',\n",
       "       '24 Months Interest Bearing 19.5% APR',\n",
       "       '24 Months Interest Free 0% APR', '24 Months Part Sub 9.9% APR',\n",
       "       '24 Months Part Subsidised 9.9% APR', '24 Months14.9% APR',\n",
       "       '24 Months17.9% APR', '3 Months 0% APR',\n",
       "       '3 Months Interest Bearing 18.9 % APR',\n",
       "       '3 Months Interest Free 0% APR', '36 Mon 19.9% APR',\n",
       "       '36 Mon Part Sub 14.9% APR', '36 Mon Part Sub 4.9% APR',\n",
       "       '36 Mon Part Sub 9.9% APR', '36 Months 0% APR',\n",
       "       '36 Months 14.9% APR', '36 Months 16% APR', '36 Months 16.5% APR',\n",
       "       '36 Months 17.9% APR', '36 Months 18.5% APR',\n",
       "       '36 Months 18.9% APR', '36 Months 19.5% APR',\n",
       "       '36 Months 19.9% APR', '36 Months 9.9% APR',\n",
       "       '36 Months Interest Bearing  14.9% APR',\n",
       "       '36 Months Interest Bearing  16.9% APR',\n",
       "       '36 Months Interest Bearing  17.9% APR',\n",
       "       '36 Months Interest Bearing  19.5% APR',\n",
       "       '36 Months Interest Free 0% APR',\n",
       "       '36 Months Part Subsidised 14.9% APR',\n",
       "       '36 Months Part Subsidised 9.9% APR', '48 Mon 19.9% APR',\n",
       "       '48 Mon Part Sub 14.9% APR', '48 Mon Part Sub. 14.9% APR',\n",
       "       '48 Months 0% APR', '48 Months 14.9% APR', '48 Months 15.9% APR',\n",
       "       '48 Months 16.5% APR', '48 Months 16.9% APR',\n",
       "       '48 Months 17.9% APR', '48 Months 18.5% APR',\n",
       "       '48 Months 19.5% APR', '48 Months 19.9% APR',\n",
       "       '48 Months 29.9% APR', '48 Months 9.9% APR',\n",
       "       '48 Months Interest Bearing 14.9% APR',\n",
       "       '48 Months Part Sub 14.9% APR',\n",
       "       '48 Months Part Subsidised 9.9% APR', '6 Month 0% APR',\n",
       "       '6 Months 0% APR', '6 Months Interest Bearing 18.9 % APR',\n",
       "       '6 Months Interest Free 0% APR', '60 Mon 19.9% APR',\n",
       "       '60 Mon Part Sub 4.9% APR', '60 Months 0% APR',\n",
       "       '60 Months 14.9% APR', '60 Months 17.9% APR',\n",
       "       '60 Months 18.9% APR', '60 Months 19.5% APR',\n",
       "       '60 Months 19.9% APR', '60 Months 29.9% APR', '60 Months 9.9% APR',\n",
       "       '60 Months Interest Bearing 14.9% APR',\n",
       "       '60 Months Interest Bearing 19.5% APR',\n",
       "       '60 Months Part Subsidised 14.9% APR',\n",
       "       '60 Months Part Subsidised 9.9% APR', '84 Months 13.9% APR',\n",
       "       '9 Months 0% APR', '9 Months Interest Bearing 18.9% APR',\n",
       "       '9 Months Interest Free 0% APR', 'BNPL 12 + 48 18.9% APR',\n",
       "       'BNPL 12 + 48 Mon 16.9% APR', 'BNPL 12 + 48 Mon 18.9% APR',\n",
       "       'BNPL 12 + 48 Mon 20.9% APR', 'BNPL 12 + 48 Months 18.9%',\n",
       "       'BNPL 12 + 48 Months 18.9% APR', 'BNPL 12 + 60 Months 18.9%',\n",
       "       'BNPL 12 + 72 Months 18.9%', 'BNPL 12 +48 Mon 20.9% APR',\n",
       "       'BNPL 12 Months + 36 Months', 'BNPL 12 Months + 48 Months',\n",
       "       'BNPL 12+36 Mon 18.9%APR', 'BNPL 12+48 Mon 16.9% APR',\n",
       "       'BNPL 12+48 Mon 18.9% APR', 'BNPL 12+48 Mon 20.9% APR',\n",
       "       'BNPL 12+48 Months 16.9% APR', 'BNPL 12+48 Months 17.9% APR',\n",
       "       'BNPL 12+48 Months 20.9% APR', 'BNPL 12+60 Mon 20.9% APR',\n",
       "       'BNPL 6 +42 Mon 20.9% APR', 'BNPL 6 Months + 6 Months',\n",
       "       'BNPL 6+18 Months 20.9% APR', 'BNPL 6+30 Mon 20.9% APR',\n",
       "       'BNPL 6+30 Months 20.9% APR', 'BNPL 6+42 Months 20.9% APR'],\n",
       "      dtype=object)"
      ]
     },
     "execution_count": 153,
     "metadata": {},
     "output_type": "execute_result"
    }
   ],
   "source": [
    "finances.values"
   ]
  },
  {
   "cell_type": "markdown",
   "metadata": {},
   "source": [
    "### Lender\n",
    "Sparse feature - we'll get rid of this."
   ]
  },
  {
   "cell_type": "code",
   "execution_count": 155,
   "metadata": {},
   "outputs": [],
   "source": [
    "cols_remove_2.append('Lender')"
   ]
  },
  {
   "cell_type": "markdown",
   "metadata": {},
   "source": [
    "### CreditAmount\n",
    "Obviously will be a useful feature. We'll log transform this for better performance.\n",
    "\n",
    "\n",
    "`fcc_survey_df['Income_log'] = np.log((1+ fcc_survey_df['Income'])`\n",
    "\n",
    "`income_log_mean = np.round(np.mean(fcc_survey_df['Income_log']), 2)`\n",
    "`fig, ax = plt.subplots()\n",
    "fcc_survey_df['Income_log'].hist(bins=30, color='#A9C5D3', \n",
    "                                 edgecolor='black', grid=False)\n",
    "plt.axvline(income_log_mean, color='r')\n",
    "ax.set_title('Developer Income Histogram after Log Transform', \n",
    "             fontsize=12)\n",
    "ax.set_xlabel('Developer Income (log scale)', fontsize=12)\n",
    "ax.set_ylabel('Frequency', fontsize=12)\n",
    "ax.text(11.5, 450, r'$\\mu$='+str(income_log_mean), fontsize=10)`"
   ]
  },
  {
   "cell_type": "code",
   "execution_count": 156,
   "metadata": {
    "scrolled": true
   },
   "outputs": [
    {
     "data": {
      "text/plain": [
       "CreditAmount\n",
       "(-0.001, 599.0]      0.062934\n",
       "(599.0, 699.0]       0.059537\n",
       "(699.0, 849.6]       0.045839\n",
       "(849.6, 2000.0]      0.063113\n",
       "(2000.0, 19800.0]    0.079027\n",
       "Name: bad_case, dtype: float64"
      ]
     },
     "execution_count": 156,
     "metadata": {},
     "output_type": "execute_result"
    }
   ],
   "source": [
    "df['bad_case'].groupby(pd.qcut(df['CreditAmount'],5)).mean()"
   ]
  },
  {
   "cell_type": "code",
   "execution_count": 157,
   "metadata": {
    "scrolled": true
   },
   "outputs": [
    {
     "data": {
      "text/plain": [
       "(-0.001, 599.0]      5911\n",
       "(849.6, 2000.0]      4484\n",
       "(2000.0, 19800.0]    4315\n",
       "(699.0, 849.6]       3665\n",
       "(599.0, 699.0]       3628\n",
       "Name: CreditAmount, dtype: int64"
      ]
     },
     "execution_count": 157,
     "metadata": {},
     "output_type": "execute_result"
    }
   ],
   "source": [
    "pd.qcut(df['CreditAmount'],5).value_counts()"
   ]
  },
  {
   "cell_type": "markdown",
   "metadata": {},
   "source": [
    "### DepositAmount\n",
    "Another useful feature - we'll log transform this and also create a new feature of `depost_credit_ratio`"
   ]
  },
  {
   "cell_type": "markdown",
   "metadata": {},
   "source": [
    "### DepositStatus\n",
    "Not sure if this one is useful beyond the DepositAmount. We'll just extract a new feature called `no_deposit` to mark the ones where there was none. "
   ]
  },
  {
   "cell_type": "code",
   "execution_count": 158,
   "metadata": {
    "scrolled": true
   },
   "outputs": [
    {
     "data": {
      "text/html": [
       "<div>\n",
       "<style scoped>\n",
       "    .dataframe tbody tr th:only-of-type {\n",
       "        vertical-align: middle;\n",
       "    }\n",
       "\n",
       "    .dataframe tbody tr th {\n",
       "        vertical-align: top;\n",
       "    }\n",
       "\n",
       "    .dataframe thead th {\n",
       "        text-align: right;\n",
       "    }\n",
       "</style>\n",
       "<table border=\"1\" class=\"dataframe\">\n",
       "  <thead>\n",
       "    <tr style=\"text-align: right;\">\n",
       "      <th></th>\n",
       "      <th>mean</th>\n",
       "      <th>count</th>\n",
       "    </tr>\n",
       "    <tr>\n",
       "      <th>DepositStatus</th>\n",
       "      <th></th>\n",
       "      <th></th>\n",
       "    </tr>\n",
       "  </thead>\n",
       "  <tbody>\n",
       "    <tr>\n",
       "      <th>NO-DEPOSIT</th>\n",
       "      <td>0.066968</td>\n",
       "      <td>12185</td>\n",
       "    </tr>\n",
       "    <tr>\n",
       "      <th>PAID-BY-CARD</th>\n",
       "      <td>0.056638</td>\n",
       "      <td>8881</td>\n",
       "    </tr>\n",
       "    <tr>\n",
       "      <th>PAID-IN-STORE</th>\n",
       "      <td>0.145238</td>\n",
       "      <td>420</td>\n",
       "    </tr>\n",
       "    <tr>\n",
       "      <th>UNPAID</th>\n",
       "      <td>0.000000</td>\n",
       "      <td>125</td>\n",
       "    </tr>\n",
       "    <tr>\n",
       "      <th>UNPAID-COLLECT-MANUALLY</th>\n",
       "      <td>0.000000</td>\n",
       "      <td>167</td>\n",
       "    </tr>\n",
       "  </tbody>\n",
       "</table>\n",
       "</div>"
      ],
      "text/plain": [
       "                             mean  count\n",
       "DepositStatus                           \n",
       "NO-DEPOSIT               0.066968  12185\n",
       "PAID-BY-CARD             0.056638   8881\n",
       "PAID-IN-STORE            0.145238    420\n",
       "UNPAID                   0.000000    125\n",
       "UNPAID-COLLECT-MANUALLY  0.000000    167"
      ]
     },
     "execution_count": 158,
     "metadata": {},
     "output_type": "execute_result"
    }
   ],
   "source": [
    "df.bad_case.groupby(df.DepositStatus).agg(['mean', 'count'])"
   ]
  },
  {
   "cell_type": "markdown",
   "metadata": {},
   "source": [
    "### CustomerName\n",
    "\n",
    "For this feature we will transform it to remove whitespace and punctuation. Then we'll extract a feature that shows the number of characters in the customer name. This may or may not prove useful...\n"
   ]
  },
  {
   "cell_type": "code",
   "execution_count": 159,
   "metadata": {},
   "outputs": [
    {
     "name": "stdout",
     "output_type": "stream",
     "text": [
      "Count of NaNs:  0\n"
     ]
    }
   ],
   "source": [
    "print('Count of NaNs: ',df['CustomerName'].isna().sum())"
   ]
  },
  {
   "cell_type": "markdown",
   "metadata": {},
   "source": [
    "### DOB\n",
    "We'll minus this date from the current date to create a new 'age' feature, then remove this one."
   ]
  },
  {
   "cell_type": "code",
   "execution_count": 160,
   "metadata": {},
   "outputs": [],
   "source": [
    "# Convert string to datetime obj\n",
    "df['DOB'] = pd.to_datetime(df['DOB'], format='%Y-%m-%d')\n",
    "df['DOB'] = df['DOB'].dt.date"
   ]
  },
  {
   "cell_type": "markdown",
   "metadata": {},
   "source": [
    "### Email\n",
    "\n",
    "Similar to CustomerName, we'll extract the length of the email address to a new feature. But first we will split the email address into name and domain. The length will be computed on the name part of the string, and we'll map the domain to another feature. "
   ]
  },
  {
   "cell_type": "code",
   "execution_count": 161,
   "metadata": {},
   "outputs": [
    {
     "name": "stdout",
     "output_type": "stream",
     "text": [
      "Count of NaNs:  0\n"
     ]
    }
   ],
   "source": [
    "print('Count of NaNs: ',df['Email'].isna().sum())"
   ]
  },
  {
   "cell_type": "markdown",
   "metadata": {},
   "source": [
    "### PhoneNumber\n",
    "This feature doesn't tell us an awful lot - we'll get rid of it. "
   ]
  },
  {
   "cell_type": "code",
   "execution_count": 162,
   "metadata": {},
   "outputs": [
    {
     "data": {
      "text/plain": [
       "0    +4407939009720\n",
       "1    +4407972893075\n",
       "2    +4407490389434\n",
       "3    +4407446267192\n",
       "4    +4407908169739\n",
       "5    +4407780003191\n",
       "6    +4407402732790\n",
       "7    +4407553833162\n",
       "8    +4407550388747\n",
       "9     4407949751892\n",
       "Name: PhoneNumber, dtype: object"
      ]
     },
     "execution_count": 162,
     "metadata": {},
     "output_type": "execute_result"
    }
   ],
   "source": [
    "df['PhoneNumber'].head(10)"
   ]
  },
  {
   "cell_type": "code",
   "execution_count": 163,
   "metadata": {},
   "outputs": [],
   "source": [
    "cols_remove_2.append('PhoneNumber')"
   ]
  },
  {
   "cell_type": "markdown",
   "metadata": {},
   "source": [
    "### BuildingNumber\n",
    "We'll extract whether the record is numeric or not in an attempt to remove flat names, street names and errors then map all these records to 0, and adding a new feature `is_numeric_building_num` (this will also include NaNs). That way we have a numeric feature that might be useful. "
   ]
  },
  {
   "cell_type": "code",
   "execution_count": 164,
   "metadata": {},
   "outputs": [
    {
     "name": "stdout",
     "output_type": "stream",
     "text": [
      "Count of NaNs:  2906\n"
     ]
    }
   ],
   "source": [
    "print('Count of NaNs: ',df['BuildingNumber'].isna().sum())"
   ]
  },
  {
   "cell_type": "code",
   "execution_count": 165,
   "metadata": {},
   "outputs": [
    {
     "name": "stdout",
     "output_type": "stream",
     "text": [
      "Number of non-numeric Building Numbers:  2979\n",
      "[nan, nan, nan, nan, nan, nan, nan, nan, nan, nan]\n"
     ]
    }
   ],
   "source": [
    "not_building_num_idx = [] # For the indexes of non numeric building numbers\n",
    "not_building_num_val = [] # For the values of non numeric building numbers\n",
    "\n",
    "for idx, val in enumerate(df['BuildingNumber']):\n",
    "    try:\n",
    "        if val.isnumeric():\n",
    "            continue\n",
    "        else:\n",
    "            not_building_num_idx.append(idx)\n",
    "            not_building_num_val.append(val)\n",
    "    except:\n",
    "        not_building_num_idx.append(idx)\n",
    "        not_building_num_val.append(val)\n",
    "\n",
    "print('Number of non-numeric Building Numbers: ',len(not_building_num_val))\n",
    "print(not_building_num_val[45:55])"
   ]
  },
  {
   "cell_type": "code",
   "execution_count": 166,
   "metadata": {},
   "outputs": [
    {
     "name": "stdout",
     "output_type": "stream",
     "text": [
      "Non-numerical building numbers\n"
     ]
    },
    {
     "data": {
      "text/plain": [
       "mean        0.068479\n",
       "count    2979.000000\n",
       "Name: bad_case, dtype: float64"
      ]
     },
     "execution_count": 166,
     "metadata": {},
     "output_type": "execute_result"
    }
   ],
   "source": [
    "print('Non-numerical building numbers')\n",
    "df.iloc[not_building_num_idx].bad_case.agg(['mean', 'count'])"
   ]
  },
  {
   "cell_type": "code",
   "execution_count": 167,
   "metadata": {
    "scrolled": false
   },
   "outputs": [
    {
     "name": "stdout",
     "output_type": "stream",
     "text": [
      "Numerical building numbers\n"
     ]
    },
    {
     "data": {
      "text/plain": [
       "mean         0.061817\n",
       "count    19024.000000\n",
       "Name: bad_case, dtype: float64"
      ]
     },
     "execution_count": 167,
     "metadata": {},
     "output_type": "execute_result"
    }
   ],
   "source": [
    "print('Numerical building numbers')\n",
    "not_building_num_df = df.index.isin(not_building_num_idx)\n",
    "df[~not_building_num_df].bad_case.agg(['mean', 'count'])"
   ]
  },
  {
   "cell_type": "markdown",
   "metadata": {},
   "source": [
    "### Street\n",
    "We'll get rid of this feature in favour of a looked up region feature."
   ]
  },
  {
   "cell_type": "code",
   "execution_count": 168,
   "metadata": {},
   "outputs": [],
   "source": [
    "cols_remove_2.append('Street')"
   ]
  },
  {
   "cell_type": "markdown",
   "metadata": {},
   "source": [
    "### City\n",
    "We'll get rid of this feature in favour of a looked up region feature."
   ]
  },
  {
   "cell_type": "code",
   "execution_count": 169,
   "metadata": {},
   "outputs": [],
   "source": [
    "cols_remove_2.append('City')"
   ]
  },
  {
   "cell_type": "markdown",
   "metadata": {},
   "source": [
    "### Postcode\n",
    "We map the geographies to region instead so we can prevent overfitting. WE'll then one-hot encode the region."
   ]
  },
  {
   "cell_type": "code",
   "execution_count": 170,
   "metadata": {},
   "outputs": [],
   "source": [
    "pcd_lookup = pd.read_csv('input/pcd_lookup.csv')"
   ]
  },
  {
   "cell_type": "code",
   "execution_count": 171,
   "metadata": {
    "scrolled": false
   },
   "outputs": [
    {
     "data": {
      "text/html": [
       "<div>\n",
       "<style scoped>\n",
       "    .dataframe tbody tr th:only-of-type {\n",
       "        vertical-align: middle;\n",
       "    }\n",
       "\n",
       "    .dataframe tbody tr th {\n",
       "        vertical-align: top;\n",
       "    }\n",
       "\n",
       "    .dataframe thead th {\n",
       "        text-align: right;\n",
       "    }\n",
       "</style>\n",
       "<table border=\"1\" class=\"dataframe\">\n",
       "  <thead>\n",
       "    <tr style=\"text-align: right;\">\n",
       "      <th></th>\n",
       "      <th>pcd_no_space</th>\n",
       "      <th>reg_name</th>\n",
       "    </tr>\n",
       "  </thead>\n",
       "  <tbody>\n",
       "    <tr>\n",
       "      <th>0</th>\n",
       "      <td>CA67BB</td>\n",
       "      <td>North East</td>\n",
       "    </tr>\n",
       "    <tr>\n",
       "      <th>1</th>\n",
       "      <td>CA67BD</td>\n",
       "      <td>North East</td>\n",
       "    </tr>\n",
       "    <tr>\n",
       "      <th>2</th>\n",
       "      <td>CA67BE</td>\n",
       "      <td>North East</td>\n",
       "    </tr>\n",
       "    <tr>\n",
       "      <th>3</th>\n",
       "      <td>CA67BG</td>\n",
       "      <td>North East</td>\n",
       "    </tr>\n",
       "    <tr>\n",
       "      <th>4</th>\n",
       "      <td>CA67BH</td>\n",
       "      <td>North East</td>\n",
       "    </tr>\n",
       "  </tbody>\n",
       "</table>\n",
       "</div>"
      ],
      "text/plain": [
       "  pcd_no_space    reg_name\n",
       "0       CA67BB  North East\n",
       "1       CA67BD  North East\n",
       "2       CA67BE  North East\n",
       "3       CA67BG  North East\n",
       "4       CA67BH  North East"
      ]
     },
     "execution_count": 171,
     "metadata": {},
     "output_type": "execute_result"
    }
   ],
   "source": [
    "pcd_lookup.head()"
   ]
  },
  {
   "cell_type": "code",
   "execution_count": 172,
   "metadata": {},
   "outputs": [],
   "source": [
    "df['Postcode'] = df.Postcode.str.replace(' ', '') # Remove whitespace from Postcode for lookup\n",
    "df.rename(columns = {'Postcode':'pcd_no_space'}, inplace=True)\n",
    "\n",
    "df = df.merge(pcd_lookup, 'left')"
   ]
  },
  {
   "cell_type": "code",
   "execution_count": 173,
   "metadata": {},
   "outputs": [],
   "source": [
    "df['reg_name'].fillna('Unknown', inplace = True)"
   ]
  },
  {
   "cell_type": "code",
   "execution_count": 174,
   "metadata": {},
   "outputs": [
    {
     "data": {
      "text/html": [
       "<div>\n",
       "<style scoped>\n",
       "    .dataframe tbody tr th:only-of-type {\n",
       "        vertical-align: middle;\n",
       "    }\n",
       "\n",
       "    .dataframe tbody tr th {\n",
       "        vertical-align: top;\n",
       "    }\n",
       "\n",
       "    .dataframe thead th {\n",
       "        text-align: right;\n",
       "    }\n",
       "</style>\n",
       "<table border=\"1\" class=\"dataframe\">\n",
       "  <thead>\n",
       "    <tr style=\"text-align: right;\">\n",
       "      <th></th>\n",
       "      <th>mean</th>\n",
       "      <th>count</th>\n",
       "    </tr>\n",
       "    <tr>\n",
       "      <th>reg_name</th>\n",
       "      <th></th>\n",
       "      <th></th>\n",
       "    </tr>\n",
       "  </thead>\n",
       "  <tbody>\n",
       "    <tr>\n",
       "      <th>East Midlands</th>\n",
       "      <td>0.055917</td>\n",
       "      <td>1538</td>\n",
       "    </tr>\n",
       "    <tr>\n",
       "      <th>East of England</th>\n",
       "      <td>0.060914</td>\n",
       "      <td>1970</td>\n",
       "    </tr>\n",
       "    <tr>\n",
       "      <th>London</th>\n",
       "      <td>0.095408</td>\n",
       "      <td>3354</td>\n",
       "    </tr>\n",
       "    <tr>\n",
       "      <th>North East</th>\n",
       "      <td>0.058677</td>\n",
       "      <td>801</td>\n",
       "    </tr>\n",
       "    <tr>\n",
       "      <th>North West</th>\n",
       "      <td>0.057131</td>\n",
       "      <td>2363</td>\n",
       "    </tr>\n",
       "    <tr>\n",
       "      <th>Northern Ireland</th>\n",
       "      <td>0.035556</td>\n",
       "      <td>675</td>\n",
       "    </tr>\n",
       "    <tr>\n",
       "      <th>Scotland</th>\n",
       "      <td>0.084068</td>\n",
       "      <td>1701</td>\n",
       "    </tr>\n",
       "    <tr>\n",
       "      <th>South East</th>\n",
       "      <td>0.045777</td>\n",
       "      <td>3102</td>\n",
       "    </tr>\n",
       "    <tr>\n",
       "      <th>South West</th>\n",
       "      <td>0.043659</td>\n",
       "      <td>1924</td>\n",
       "    </tr>\n",
       "    <tr>\n",
       "      <th>Unknown</th>\n",
       "      <td>0.058824</td>\n",
       "      <td>187</td>\n",
       "    </tr>\n",
       "    <tr>\n",
       "      <th>Wales</th>\n",
       "      <td>0.045045</td>\n",
       "      <td>999</td>\n",
       "    </tr>\n",
       "    <tr>\n",
       "      <th>West Midlands</th>\n",
       "      <td>0.065882</td>\n",
       "      <td>1700</td>\n",
       "    </tr>\n",
       "    <tr>\n",
       "      <th>Yorkshire and The Humber</th>\n",
       "      <td>0.065719</td>\n",
       "      <td>1689</td>\n",
       "    </tr>\n",
       "  </tbody>\n",
       "</table>\n",
       "</div>"
      ],
      "text/plain": [
       "                              mean  count\n",
       "reg_name                                 \n",
       "East Midlands             0.055917   1538\n",
       "East of England           0.060914   1970\n",
       "London                    0.095408   3354\n",
       "North East                0.058677    801\n",
       "North West                0.057131   2363\n",
       "Northern Ireland          0.035556    675\n",
       "Scotland                  0.084068   1701\n",
       "South East                0.045777   3102\n",
       "South West                0.043659   1924\n",
       "Unknown                   0.058824    187\n",
       "Wales                     0.045045    999\n",
       "West Midlands             0.065882   1700\n",
       "Yorkshire and The Humber  0.065719   1689"
      ]
     },
     "execution_count": 174,
     "metadata": {},
     "output_type": "execute_result"
    }
   ],
   "source": [
    "df.bad_case.groupby(df.reg_name).agg(['mean', 'count'])"
   ]
  },
  {
   "cell_type": "code",
   "execution_count": 175,
   "metadata": {},
   "outputs": [
    {
     "data": {
      "text/plain": [
       "<matplotlib.axes._subplots.AxesSubplot at 0x1841f6635c0>"
      ]
     },
     "execution_count": 175,
     "metadata": {},
     "output_type": "execute_result"
    },
    {
     "data": {
      "image/png": "[encoded data removed]",
      "text/plain": [
       "<Figure size 432x288 with 1 Axes>"
      ]
     },
     "metadata": {
      "needs_background": "light"
     },
     "output_type": "display_data"
    }
   ],
   "source": [
    "sns.countplot(df['reg_name'], hue = df['bad_case'])"
   ]
  },
  {
   "cell_type": "code",
   "execution_count": 176,
   "metadata": {},
   "outputs": [],
   "source": [
    "cols_remove_2.append('pcd_no_space')"
   ]
  },
  {
   "cell_type": "markdown",
   "metadata": {},
   "source": [
    "### IsDuplicated\n",
    "Sparse feature - we'll get rid of this."
   ]
  },
  {
   "cell_type": "code",
   "execution_count": 177,
   "metadata": {},
   "outputs": [
    {
     "data": {
      "text/html": [
       "<div>\n",
       "<style scoped>\n",
       "    .dataframe tbody tr th:only-of-type {\n",
       "        vertical-align: middle;\n",
       "    }\n",
       "\n",
       "    .dataframe tbody tr th {\n",
       "        vertical-align: top;\n",
       "    }\n",
       "\n",
       "    .dataframe thead th {\n",
       "        text-align: right;\n",
       "    }\n",
       "</style>\n",
       "<table border=\"1\" class=\"dataframe\">\n",
       "  <thead>\n",
       "    <tr style=\"text-align: right;\">\n",
       "      <th></th>\n",
       "      <th>mean</th>\n",
       "      <th>count</th>\n",
       "    </tr>\n",
       "    <tr>\n",
       "      <th>IsDuplicated</th>\n",
       "      <th></th>\n",
       "      <th></th>\n",
       "    </tr>\n",
       "  </thead>\n",
       "  <tbody>\n",
       "    <tr>\n",
       "      <th>0</th>\n",
       "      <td>0.063385</td>\n",
       "      <td>20478</td>\n",
       "    </tr>\n",
       "    <tr>\n",
       "      <th>1</th>\n",
       "      <td>0.000000</td>\n",
       "      <td>2</td>\n",
       "    </tr>\n",
       "    <tr>\n",
       "      <th>4</th>\n",
       "      <td>0.400000</td>\n",
       "      <td>5</td>\n",
       "    </tr>\n",
       "    <tr>\n",
       "      <th>11</th>\n",
       "      <td>0.000000</td>\n",
       "      <td>8</td>\n",
       "    </tr>\n",
       "    <tr>\n",
       "      <th>16</th>\n",
       "      <td>0.075949</td>\n",
       "      <td>158</td>\n",
       "    </tr>\n",
       "    <tr>\n",
       "      <th>21</th>\n",
       "      <td>0.089286</td>\n",
       "      <td>56</td>\n",
       "    </tr>\n",
       "    <tr>\n",
       "      <th>32</th>\n",
       "      <td>0.094891</td>\n",
       "      <td>137</td>\n",
       "    </tr>\n",
       "    <tr>\n",
       "      <th>38</th>\n",
       "      <td>0.105263</td>\n",
       "      <td>19</td>\n",
       "    </tr>\n",
       "    <tr>\n",
       "      <th>48</th>\n",
       "      <td>0.000000</td>\n",
       "      <td>4</td>\n",
       "    </tr>\n",
       "    <tr>\n",
       "      <th>53</th>\n",
       "      <td>0.000000</td>\n",
       "      <td>3</td>\n",
       "    </tr>\n",
       "    <tr>\n",
       "      <th>56</th>\n",
       "      <td>0.032653</td>\n",
       "      <td>245</td>\n",
       "    </tr>\n",
       "    <tr>\n",
       "      <th>61</th>\n",
       "      <td>0.000000</td>\n",
       "      <td>2</td>\n",
       "    </tr>\n",
       "    <tr>\n",
       "      <th>63</th>\n",
       "      <td>0.045147</td>\n",
       "      <td>886</td>\n",
       "    </tr>\n",
       "  </tbody>\n",
       "</table>\n",
       "</div>"
      ],
      "text/plain": [
       "                  mean  count\n",
       "IsDuplicated                 \n",
       "0             0.063385  20478\n",
       "1             0.000000      2\n",
       "4             0.400000      5\n",
       "11            0.000000      8\n",
       "16            0.075949    158\n",
       "21            0.089286     56\n",
       "32            0.094891    137\n",
       "38            0.105263     19\n",
       "48            0.000000      4\n",
       "53            0.000000      3\n",
       "56            0.032653    245\n",
       "61            0.000000      2\n",
       "63            0.045147    886"
      ]
     },
     "execution_count": 177,
     "metadata": {},
     "output_type": "execute_result"
    }
   ],
   "source": [
    "df.bad_case.groupby(df.IsDuplicated).agg(['mean', 'count'])"
   ]
  },
  {
   "cell_type": "code",
   "execution_count": 178,
   "metadata": {},
   "outputs": [],
   "source": [
    "cols_remove_2.append('IsDuplicated')"
   ]
  },
  {
   "cell_type": "markdown",
   "metadata": {},
   "source": [
    "### Multi-Tier\n",
    "We don't have to change this variable."
   ]
  },
  {
   "cell_type": "code",
   "execution_count": 179,
   "metadata": {
    "scrolled": true
   },
   "outputs": [
    {
     "data": {
      "text/plain": [
       "<matplotlib.axes._subplots.AxesSubplot at 0x1841f16e2b0>"
      ]
     },
     "execution_count": 179,
     "metadata": {},
     "output_type": "execute_result"
    },
    {
     "data": {
      "image/png": "[encoded data removed]",
      "text/plain": [
       "<Figure size 432x288 with 1 Axes>"
      ]
     },
     "metadata": {
      "needs_background": "light"
     },
     "output_type": "display_data"
    }
   ],
   "source": [
    "sns.countplot(df['mtier'], hue = df['bad_case'])"
   ]
  },
  {
   "cell_type": "markdown",
   "metadata": {},
   "source": [
    "# Feature Engineering\n",
    "Having done our cursory exploration of the variables, we now have a pretty good idea of how we want to transform our variables in preparation for our final dataset. We will perform our feature engineering through a series of helper functions that each serve a specific purpose.\n",
    "\n",
    "We'll begin by removing the columns we found were not helpful to our algorithm. "
   ]
  },
  {
   "cell_type": "code",
   "execution_count": 180,
   "metadata": {},
   "outputs": [],
   "source": [
    "# Remove columns\n",
    "df = df.drop(cols_remove_2, 1)"
   ]
  },
  {
   "cell_type": "code",
   "execution_count": 181,
   "metadata": {},
   "outputs": [],
   "source": [
    "# BankruptcyInformationAssociate\n",
    "    \n",
    "def transform_bankruptcy_information_associate(df):\n",
    "    \"\"\"\"\n",
    "    Map BankruptcyInformationAssociate feature so shows 2 if \n",
    "    there are Bancrupcies, 1 if Unknown and 0 if there are none.\n",
    "    Then remove original BankruptcyInformationAssociate feature.\n",
    "    \"\"\"\n",
    "    df['is_bankruptcy_information_associate'] = df['BankruptcyInformationAssociate'].apply(lambda x: 2 if x > 0 else(0 if x == 0 else 1))\n",
    "    df = df.drop('BankruptcyInformationAssociate', 1)\n",
    "    return df"
   ]
  },
  {
   "cell_type": "code",
   "execution_count": 182,
   "metadata": {},
   "outputs": [],
   "source": [
    "# ConfirmatoryDobs\n",
    "\n",
    "def transform_confirmatory_dobs(df):\n",
    "    \"\"\"\n",
    "    Map ConfirmatoryDobs feature so shows 1 if is a \n",
    "    null record, and 0 if not. Then map NaNs to 0.\n",
    "    \"\"\"\n",
    "    df['is_null_confirmatory_dobs'] = df['ConfirmatoryDobs'].apply(lambda x: 1 if pd.isnull(x) else 0)\n",
    "    df['ConfirmatoryDobs'].fillna(0, inplace = True)\n",
    "    return df"
   ]
  },
  {
   "cell_type": "code",
   "execution_count": 183,
   "metadata": {},
   "outputs": [],
   "source": [
    "# CreditScore\n",
    "\n",
    "def transform_credit_score(df):\n",
    "    \"\"\"\"\n",
    "    Log transform credit score, then remove original \n",
    "    CreditScore feature.\n",
    "    \"\"\"\n",
    "    df['log_credit_score'] = np.log((1+ df['CreditScore']))\n",
    "    df['log_credit_score'].fillna(2.8, inplace = True)\n",
    "    df = df.drop('CreditScore', 1)\n",
    "    return df"
   ]
  },
  {
   "cell_type": "code",
   "execution_count": 184,
   "metadata": {},
   "outputs": [],
   "source": [
    "# EmailDomainStatusIsActive\n",
    "\n",
    "def transform_email_domain_status_is_active(df):\n",
    "    \"\"\"\n",
    "    Map EmailDomainStatusIsActive to 2 if Active, \n",
    "    1 if Unknown and 0 if Inactive.\n",
    "    \"\"\"\n",
    "    df['EmailDomainStatusIsActive'] = df['EmailDomainStatusIsActive'].apply(lambda x: 2 if x == 'Active' else(1 if x == 'Unknown' else 0))\n",
    "    return df"
   ]
  },
  {
   "cell_type": "code",
   "execution_count": 185,
   "metadata": {},
   "outputs": [],
   "source": [
    "# EmailStatusisActive\n",
    "\n",
    "def transform_email_status_is_active(df):\n",
    "    \"\"\"\n",
    "    Map EmailStatusisActive to 2 if Active, 1\n",
    "    if Unknown and 0 if Inactive.\n",
    "    \"\"\"\n",
    "    df['EmailStatusisActive'] = df['EmailStatusisActive'].apply(lambda x: 2 if x == 'Active' else(1 if x == 'Unknown' else 0))\n",
    "    return df"
   ]
  },
  {
   "cell_type": "code",
   "execution_count": 186,
   "metadata": {},
   "outputs": [],
   "source": [
    "# EmailageScore\n",
    "\n",
    "def impute_emailage_score(df):\n",
    "    \"\"\"\n",
    "    Create null flag feature for EmailageScore. \n",
    "    Divide EmailageScore by 10 and round.\n",
    "    Impute null values using the median.\n",
    "    \"\"\"\n",
    "    df['is_null_emailage_score'] = df['EmailageScore'].apply(lambda x: 1 if pd.isnull(x) else 0)\n",
    "    df['EmailageScore'] = round(df['EmailageScore'] / 10, 1)\n",
    "    df['EmailageScore'].fillna(df['EmailageScore'].median(), inplace = True)\n",
    "    return df"
   ]
  },
  {
   "cell_type": "code",
   "execution_count": 187,
   "metadata": {},
   "outputs": [],
   "source": [
    "# GrossIncome\n",
    "\n",
    "def transform_gross_income(df):\n",
    "    \"\"\"\n",
    "    Log transform GrossIncome. Then impute null\n",
    "    values using the median, remove GrossIncome.\n",
    "    \"\"\"\n",
    "    df['log_gross_income'] = np.log((1+ df['GrossIncome']))\n",
    "    df['log_gross_income'].fillna( np.log((df['GrossIncome'].median())), inplace = True)\n",
    "    df = df.drop('GrossIncome', 1)\n",
    "    return df"
   ]
  },
  {
   "cell_type": "code",
   "execution_count": 188,
   "metadata": {},
   "outputs": [],
   "source": [
    "# IPAddress\n",
    "\n",
    "def is_ip_validated(df):\n",
    "    \"\"\"\n",
    "    Map records to show 1 if IP address is\n",
    "    validated and 0 if not. Remove IPAddress feature.\n",
    "    \"\"\"\n",
    "    df['is_ip_validated'] = pd.Series(df.index.values).apply(lambda x: 1 if x in non_validated_idx else 0)\n",
    "    df = df.drop('IPAddress', 1)\n",
    "    return df"
   ]
  },
  {
   "cell_type": "code",
   "execution_count": 189,
   "metadata": {},
   "outputs": [],
   "source": [
    "# MobileRiskNumStatus\n",
    "\n",
    "def transform_mobile_risk_num_status(df):\n",
    "    \"\"\"\n",
    "    Map MobileRiskNumStatus to show 2 if Active, \n",
    "    1 if Unknown and 0 if Inactive.\n",
    "    \"\"\"\n",
    "    df['MobileRiskNumStatus'] = df['MobileRiskNumStatus'].apply(lambda x: 2 if x == 'Active' else(1 if x == 'Unknown' else 0))\n",
    "    return df"
   ]
  },
  {
   "cell_type": "code",
   "execution_count": 190,
   "metadata": {},
   "outputs": [],
   "source": [
    "# MobileRiskScore\n",
    "\n",
    "def transform_mobile_risk_score(df):\n",
    "    \"\"\"\n",
    "    Divide MobileRiskScore by 100 and round.\n",
    "    \"\"\"\n",
    "    df['MobileRiskScore'] = round(df['MobileRiskScore'] / 100)\n",
    "    return df"
   ]
  },
  {
   "cell_type": "code",
   "execution_count": 191,
   "metadata": {},
   "outputs": [],
   "source": [
    "# NumberofActiveCIFASRecords\n",
    "\n",
    "def transform_is_active_cifas(df):\n",
    "    \"\"\"\n",
    "    Map NumberofActiveCIFASRecords to show 1 if\n",
    "    there are active Cifas records and 0 if there\n",
    "    aren't. Also map another feature that shows 1\n",
    "    if the NumberofActiveCIFASRecords was originally null.\n",
    "    \"\"\"\n",
    "    df['is_null_number_of_active_cifas'] = df['NumberofActiveCIFASRecords'].apply(lambda x: 1 if pd.isnull(x) else 0)\n",
    "    df['is_active_cifas'] = df['NumberofActiveCIFASRecords'].apply(lambda x: 1 if x > 0 else 0)\n",
    "    df['NumberofActiveCIFASRecords'].fillna(0, inplace = True)\n",
    "    return df"
   ]
  },
  {
   "cell_type": "code",
   "execution_count": 192,
   "metadata": {},
   "outputs": [],
   "source": [
    "# MerchantName\n",
    "\n",
    "top_merchants = pd.Series(df['MerchantName'].value_counts().head(10).index.values)\n",
    "\n",
    "def is_top_merchant(df): \n",
    "    \"\"\"\n",
    "    Creates individaul encoded features for each\n",
    "    of the 10 most active merchants. Then maps all\n",
    "    records to a is_top_ten_merchant feature.\n",
    "    \"\"\"\n",
    "    df['is_top_10_merchant'] = df['MerchantName'].apply(lambda x: 1 if x in top_merchants else 0)\n",
    "    df = df.drop('MerchantName', 1)\n",
    "    return df"
   ]
  },
  {
   "cell_type": "code",
   "execution_count": 193,
   "metadata": {
    "scrolled": true
   },
   "outputs": [],
   "source": [
    "# CreatedAt\n",
    "\n",
    "def calculate_app_age(df):\n",
    "    \"\"\"\n",
    "    \n",
    "    \"\"\"\n",
    "    today = date.today()\n",
    "    #df['app_age'] = df['CreatedDate'].apply(lambda x: today - x).astype(str).str[:-24].astype(float)\n",
    "    \n",
    "    df['day_of_week'] = df['CreatedAt'].dt.dayofweek\n",
    "    df['is_weekend'] = df['CreatedAt'].dt.dayofweek.apply(lambda x: 1 if x > 4 else 0)\n",
    "    df['day_of_month'] = df['CreatedAt'].dt.day\n",
    "    #df['day_of_year'] = df['CreatedAt'].dt.dayofyear\n",
    "    #df['month_of_year'] = df['CreatedAt'].dt.month\n",
    "    #df['year'] = df['CreatedAt'].dt.year\n",
    "    df['hour_of_day'] = df['CreatedAt'].dt.hour\n",
    "    df['minute_of_day'] = df['CreatedAt'].dt.minute\n",
    "    \n",
    "    bmonth_ends = pd.Series(df['CreatedAt'].apply(lambda x: BMonthEnd().rollforward(x)))\n",
    "    df['is_payday'] = df['CreatedDate'].apply(lambda x: 1 if x in bmonth_ends else 0)\n",
    "    \n",
    "    df = df.drop(['CreatedDate'], 1)\n",
    "    return df"
   ]
  },
  {
   "cell_type": "code",
   "execution_count": 194,
   "metadata": {},
   "outputs": [],
   "source": [
    "# AcceptedAt\n",
    "\n",
    "def calculate_time_accept_create(df):\n",
    "    \"\"\"\n",
    "    \n",
    "    \"\"\"\n",
    "    df['time_between_accept_create'] = df['AcceptedAt'].apply(lambda x: time.mktime(x.timetuple())) - df['CreatedAt'].apply(lambda x: time.mktime(x.timetuple()))\n",
    "    df['log_time_between_accept_create'] = np.log((1 + df['time_between_accept_create']))\n",
    "    df['log_time_between_accept_create'].fillna( np.log((df['time_between_accept_create'].median())), inplace = True)\n",
    "    df = df.drop(['AcceptedAt', 'CreatedAt', 'time_between_accept_create'], 1)\n",
    "    return df"
   ]
  },
  {
   "cell_type": "code",
   "execution_count": 195,
   "metadata": {},
   "outputs": [],
   "source": [
    "# FinanceDescription\n",
    "\n",
    "def transform_finance_decription(df):\n",
    "    \"\"\"\n",
    "    Extract Interest Rate, Term, Subsidised, and BNPL\n",
    "    from string into new features.\n",
    "    \"\"\"\n",
    "    # Remove BNPL\n",
    "    df = df[~df['FinanceDescription'].str.contains(\"BNPL\")]\n",
    "    \n",
    "    def extract_term(df):\n",
    "        \"\"\"\n",
    "        Extract the loan term from string\n",
    "        \"\"\"\n",
    "        term = []\n",
    "        for i in df['FinanceDescription']:\n",
    "            if i.split(' Mon', 1)[0][-2:] == 'PR':\n",
    "                term.append(float(i.split(' 18', 1)[0][-2:]))\n",
    "            elif (len(i.replace(\" \", \"\").split('Mon')[0]) == 7 and '+' in i):\n",
    "                term.append(float(i.replace(\" \", \"\")[4:5]) + float(i.replace(\" \", \"\")[6:7]))\n",
    "                \n",
    "            elif (len(i.replace(\" \", \"\").split('Mon')[0]) == 8 and '+' in i):    \n",
    "                term.append(float(i.replace(\" \", \"\")[4:5]) + float(i.replace(\" \", \"\")[6:8]))\n",
    "                \n",
    "            elif (len(i.replace(\" \", \"\").split('Mon')[0]) == 9 and '+' in i):    \n",
    "                term.append(float(i.replace(\" \", \"\")[4:6]) + float(i.replace(\" \", \"\")[7:9]))\n",
    "                \n",
    "            else:\n",
    "                term.append(float(i.split(' Mon', 1)[0][-2:]))\n",
    "        return term\n",
    "    df['term'] = extract_term(df)\n",
    "    \n",
    "    def extract_apr(df):\n",
    "        \"\"\"\n",
    "        Extract the interest from string\n",
    "        \"\"\"\n",
    "        apr = []\n",
    "        for i in df['FinanceDescription']:\n",
    "            if \" 0%\" in i:\n",
    "                apr.append(float(0))\n",
    "            elif \"s \" in i.split('%', 1)[0][-4:]:\n",
    "                apr.append(float(i.split('%', 1)[0][-2:]))\n",
    "            elif \"nths\" in i.split('%', 1)[0][-4:]:\n",
    "                # Missing BNPL APRs are replaced with the BNPL APR mean\n",
    "                apr.append(float(sum([20.9,18.9,16.9])/len([20.9,18.9,16.9])))\n",
    "            else:\n",
    "                apr.append(float((i.split('%', 1)[0][-4:])))\n",
    "        return apr\n",
    "    df['apr'] = extract_apr(df)\n",
    "    \n",
    "    def extract_subsidised(df):\n",
    "        \"\"\"\n",
    "        Extract whether the finance is \n",
    "        subsidised from string\n",
    "        \"\"\"\n",
    "        is_subsidised_list = []\n",
    "        for i in df['FinanceDescription']:\n",
    "            if \"Sub\" in i:\n",
    "                is_subsidised_list.append(1)\n",
    "            elif \"sub\" in i:\n",
    "                is_subsidised_list.append(1)\n",
    "            else:\n",
    "                is_subsidised_list.append(0)\n",
    "        return is_subsidised_list\n",
    "    df['is_subsidised'] = extract_subsidised(df)\n",
    "    \n",
    "    df = df.drop(['FinanceDescription'], 1)\n",
    "    \n",
    "    return df"
   ]
  },
  {
   "cell_type": "code",
   "execution_count": 196,
   "metadata": {},
   "outputs": [],
   "source": [
    "# CreditAmount\n",
    "\n",
    "def credit_amount_transform(df):\n",
    "    \"\"\"\n",
    "    \n",
    "    \"\"\"\n",
    "    df['log_credit_amount'] = np.log((1+ df['CreditAmount']))\n",
    "    df['log_credit_amount'].fillna(2.8, inplace = True)\n",
    "    return df"
   ]
  },
  {
   "cell_type": "code",
   "execution_count": 197,
   "metadata": {},
   "outputs": [],
   "source": [
    "# DepositAmount\n",
    "\n",
    "def transform_deposit_amount(df):\n",
    "    \"\"\"\n",
    "    \n",
    "    \"\"\"\n",
    "    df['log_deposit_amount'] = np.log((1+ df['DepositAmount']))\n",
    "    df['log_deposit_amount'].fillna( np.log((df['DepositAmount'].median())), inplace = True)\n",
    "    df['deposit_credit_ratio'] = df['DepositAmount'] / df['CreditAmount']\n",
    "    df = df.drop('DepositAmount', 1)\n",
    "    return df"
   ]
  },
  {
   "cell_type": "code",
   "execution_count": 198,
   "metadata": {},
   "outputs": [],
   "source": [
    "# DepositStatus\n",
    "\n",
    "def is_no_depoist(df):\n",
    "    \"\"\"\n",
    "    \n",
    "    \"\"\"\n",
    "    df['is_no_deposit'] = df['DepositStatus'].apply(lambda x: 1 if x == 'NO-DEPOSIT' else 0)\n",
    "    df = df.drop('DepositStatus', 1)\n",
    "    return df"
   ]
  },
  {
   "cell_type": "code",
   "execution_count": 199,
   "metadata": {},
   "outputs": [],
   "source": [
    "# CustomerName\n",
    "\n",
    "def calculate_name_len(df):\n",
    "    \"\"\"\n",
    "    \n",
    "    \"\"\"\n",
    "    df['customer_name_len'] = df['CustomerName'].apply(lambda x: len(x))\n",
    "    df = df.drop('CustomerName', 1)\n",
    "    return df"
   ]
  },
  {
   "cell_type": "code",
   "execution_count": 200,
   "metadata": {},
   "outputs": [],
   "source": [
    "# DOB\n",
    "\n",
    "def calculate_customer_age(df):\n",
    "    \"\"\"\n",
    "    \n",
    "    \"\"\"\n",
    "    today = date.today()\n",
    "    df['customer_age'] = df['DOB'].apply(lambda x: today.year - x.year - ((today.month, today.day) < (x.month, x.day)))\n",
    "    df = df.drop('DOB', 1)\n",
    "    return df"
   ]
  },
  {
   "cell_type": "code",
   "execution_count": 201,
   "metadata": {},
   "outputs": [],
   "source": [
    "# Email\n",
    "\n",
    "def calculate_email_len(df):\n",
    "    \"\"\"\n",
    "    \n",
    "    \"\"\"\n",
    "    df['email_name_len'] = df['Email'].apply(lambda x: len(x.split('@', 1)[0]))\n",
    "    df = df.drop('Email', 1)\n",
    "    return df"
   ]
  },
  {
   "cell_type": "code",
   "execution_count": 202,
   "metadata": {},
   "outputs": [],
   "source": [
    "# BuildingNumber\n",
    "\n",
    "def is_building_name_numerical(df):\n",
    "    \"\"\"\n",
    "    \n",
    "    \"\"\"\n",
    "    df['BuildingNumber'] = df['BuildingNumber'].apply(lambda x: 0 if x in not_building_num_val else x).astype('float')\n",
    "    return df"
   ]
  },
  {
   "cell_type": "code",
   "execution_count": 203,
   "metadata": {},
   "outputs": [],
   "source": [
    "def dummies(df, columns = ['EmploymentStatus', 'Gender', 'HasCCJ', 'OccupancyStatus', 'ChannelType', 'reg_name']):\n",
    "    for column in columns:\n",
    "        df[column] = df[column].apply(lambda x: str(x))\n",
    "        df = pd.concat((df, pd.get_dummies(df[column], prefix = column)), axis = 1)\n",
    "        del df[column]\n",
    "    return df"
   ]
  },
  {
   "cell_type": "markdown",
   "metadata": {},
   "source": [
    "Having built our helper functions, we can now execute them in order to build our dataset that will be used in the model"
   ]
  },
  {
   "cell_type": "code",
   "execution_count": 204,
   "metadata": {},
   "outputs": [
    {
     "name": "stderr",
     "output_type": "stream",
     "text": [
      "C:\\Users\\Edward Sims\\Anaconda3\\lib\\site-packages\\ipykernel_launcher.py:8: RuntimeWarning: invalid value encountered in log\n",
      "  \n",
      "C:\\Users\\Edward Sims\\Anaconda3\\lib\\site-packages\\ipykernel_launcher.py:31: SettingWithCopyWarning: \n",
      "A value is trying to be set on a copy of a slice from a DataFrame.\n",
      "Try using .loc[row_indexer,col_indexer] = value instead\n",
      "\n",
      "See the caveats in the documentation: http://pandas.pydata.org/pandas-docs/stable/indexing.html#indexing-view-versus-copy\n",
      "C:\\Users\\Edward Sims\\Anaconda3\\lib\\site-packages\\ipykernel_launcher.py:49: SettingWithCopyWarning: \n",
      "A value is trying to be set on a copy of a slice from a DataFrame.\n",
      "Try using .loc[row_indexer,col_indexer] = value instead\n",
      "\n",
      "See the caveats in the documentation: http://pandas.pydata.org/pandas-docs/stable/indexing.html#indexing-view-versus-copy\n",
      "C:\\Users\\Edward Sims\\Anaconda3\\lib\\site-packages\\ipykernel_launcher.py:65: SettingWithCopyWarning: \n",
      "A value is trying to be set on a copy of a slice from a DataFrame.\n",
      "Try using .loc[row_indexer,col_indexer] = value instead\n",
      "\n",
      "See the caveats in the documentation: http://pandas.pydata.org/pandas-docs/stable/indexing.html#indexing-view-versus-copy\n",
      "C:\\Users\\Edward Sims\\Anaconda3\\lib\\site-packages\\ipykernel_launcher.py:8: RuntimeWarning: divide by zero encountered in log\n",
      "  \n"
     ]
    }
   ],
   "source": [
    "df = transform_bankruptcy_information_associate(df)\n",
    "df = transform_confirmatory_dobs(df)\n",
    "df = transform_credit_score(df)\n",
    "df = transform_email_domain_status_is_active(df)\n",
    "df = transform_email_status_is_active(df)\n",
    "df = impute_emailage_score(df)\n",
    "df = transform_gross_income(df)\n",
    "df = is_ip_validated(df)\n",
    "df = transform_mobile_risk_num_status(df)\n",
    "df = transform_mobile_risk_score(df)\n",
    "df = transform_is_active_cifas(df)\n",
    "df = is_top_merchant(df)\n",
    "df = calculate_app_age(df)\n",
    "df = calculate_time_accept_create(df)\n",
    "df = transform_finance_decription(df)\n",
    "df = credit_amount_transform(df)\n",
    "df = transform_deposit_amount(df)\n",
    "df = is_no_depoist(df)\n",
    "df = calculate_name_len(df)\n",
    "df = calculate_customer_age(df)\n",
    "df = calculate_email_len(df)\n",
    "df = is_building_name_numerical(df)\n",
    "df = dummies(df)"
   ]
  },
  {
   "cell_type": "markdown",
   "metadata": {},
   "source": [
    "We can see that our final dataset has 91 columns, composed of our target column and 90 predictor variables. Although highly dimensional datasets can result in high variance, I think we should be fine here."
   ]
  },
  {
   "cell_type": "code",
   "execution_count": 205,
   "metadata": {
    "scrolled": false
   },
   "outputs": [
    {
     "name": "stdout",
     "output_type": "stream",
     "text": [
      "Number of columns:  78\n",
      "Number of records:  21430\n"
     ]
    }
   ],
   "source": [
    "print('Number of columns: ', len(df.columns))\n",
    "print('Number of records: ', len(df))"
   ]
  },
  {
   "cell_type": "markdown",
   "metadata": {},
   "source": [
    "## Feature Selection & Sampling\n",
    "We will employ two sampling techniques. The first will be undersampling good cases.\n",
    "\n",
    "The second methodology will be Synthetic Minority Oversampling Technique (SMOTE). SMOTE uses a K-Nearest Neighbour algorithm to synthetically add new data to an imbalanced dataset. We'll try this method to correct our dataset and hope that it helps the recall value."
   ]
  },
  {
   "cell_type": "code",
   "execution_count": 206,
   "metadata": {},
   "outputs": [],
   "source": [
    "df_undersample = df.drop(df.query('bad_case == 0').sample(frac=.70).index)"
   ]
  },
  {
   "cell_type": "code",
   "execution_count": 207,
   "metadata": {},
   "outputs": [],
   "source": [
    "X = df.loc[:, df.columns != 'bad_case']\n",
    "y = df[['bad_case']] "
   ]
  },
  {
   "cell_type": "code",
   "execution_count": 208,
   "metadata": {},
   "outputs": [],
   "source": [
    "def rank_gauss(x):\n",
    "    from scipy.special import erfinv\n",
    "    N = x.shape[0]\n",
    "    temp = x.argsort()\n",
    "    rank_x = temp.argsort() / N\n",
    "    rank_x -= rank_x.mean()\n",
    "    rank_x *= 2\n",
    "    efi_x = erfinv(rank_x)\n",
    "    efi_x -= efi_x.mean()\n",
    "    return efi_x"
   ]
  },
  {
   "cell_type": "code",
   "execution_count": 209,
   "metadata": {},
   "outputs": [
    {
     "name": "stderr",
     "output_type": "stream",
     "text": [
      "C:\\Users\\Edward Sims\\Anaconda3\\lib\\site-packages\\ipykernel_launcher.py:3: SettingWithCopyWarning: \n",
      "A value is trying to be set on a copy of a slice from a DataFrame.\n",
      "Try using .loc[row_indexer,col_indexer] = value instead\n",
      "\n",
      "See the caveats in the documentation: http://pandas.pydata.org/pandas-docs/stable/indexing.html#indexing-view-versus-copy\n",
      "  This is separate from the ipykernel package so we can avoid doing imports until\n"
     ]
    }
   ],
   "source": [
    "for i in X.columns:\n",
    "    #print('Categorical: ',i)\n",
    "    X[i] = rank_gauss(X[i].values)"
   ]
  },
  {
   "cell_type": "code",
   "execution_count": 210,
   "metadata": {},
   "outputs": [
    {
     "data": {
      "text/plain": [
       "0"
      ]
     },
     "execution_count": 210,
     "metadata": {},
     "output_type": "execute_result"
    }
   ],
   "source": [
    "X_train, X_test, y_train, y_test = train_test_split(X, y, test_size=0.30, random_state = 10)\n",
    "gc.collect()"
   ]
  },
  {
   "cell_type": "code",
   "execution_count": 211,
   "metadata": {},
   "outputs": [
    {
     "name": "stderr",
     "output_type": "stream",
     "text": [
      "C:\\Users\\Edward Sims\\Anaconda3\\lib\\site-packages\\sklearn\\utils\\validation.py:578: DataConversionWarning: A column-vector y was passed when a 1d array was expected. Please change the shape of y to (n_samples, ), for example using ravel().\n",
      "  y = column_or_1d(y, warn=True)\n",
      "C:\\Users\\Edward Sims\\Anaconda3\\lib\\site-packages\\sklearn\\utils\\validation.py:578: DataConversionWarning: A column-vector y was passed when a 1d array was expected. Please change the shape of y to (n_samples, ), for example using ravel().\n",
      "  y = column_or_1d(y, warn=True)\n"
     ]
    }
   ],
   "source": [
    "sm = SMOTE(random_state = 12)\n",
    "X_train_res, y_train_res = sm.fit_sample(X_train, y_train)"
   ]
  },
  {
   "cell_type": "code",
   "execution_count": 212,
   "metadata": {},
   "outputs": [
    {
     "name": "stdout",
     "output_type": "stream",
     "text": [
      "Before SMOTE:\n",
      "---------------------\n",
      "X_train: 15001 records\n",
      "y_train: 15001 records\n",
      "X_test: 6429 records\n",
      "y_test: 6429 records\n"
     ]
    }
   ],
   "source": [
    "print(\"Before SMOTE:\")\n",
    "print(\"---------------------\")\n",
    "print(\"X_train: \" + str(len(X_train)) + \" records\")\n",
    "print(\"y_train: \" + str(len(y_train)) + \" records\")\n",
    "print(\"X_test: \" + str(len(X_test)) + \" records\")\n",
    "print(\"y_test: \" + str(len(y_test)) + \" records\")"
   ]
  },
  {
   "cell_type": "code",
   "execution_count": 213,
   "metadata": {
    "scrolled": true
   },
   "outputs": [
    {
     "name": "stdout",
     "output_type": "stream",
     "text": [
      "After SMOTE:\n",
      "---------------------\n",
      "X_train: 28054 records\n",
      "y_train: 28054 records\n",
      "X_test: 6429 records\n",
      "y_test: 6429 records\n"
     ]
    }
   ],
   "source": [
    "print(\"After SMOTE:\")\n",
    "print(\"---------------------\")\n",
    "print(\"X_train: \" + str(len(X_train_res)) + \" records\")\n",
    "print(\"y_train: \" + str(len(y_train_res)) + \" records\")\n",
    "print(\"X_test: \" + str(len(X_test)) + \" records\")\n",
    "print(\"y_test: \" + str(len(y_test)) + \" records\")"
   ]
  },
  {
   "cell_type": "markdown",
   "metadata": {},
   "source": [
    "## Hyperparameter Tuning\n",
    "\n",
    "We will use grid search to identify the optimal parameters of our random forest model. On my Windows 8GB machine, the process took quite a while so should consider upgrading to Azure computing. "
   ]
  },
  {
   "cell_type": "code",
   "execution_count": 214,
   "metadata": {},
   "outputs": [
    {
     "name": "stderr",
     "output_type": "stream",
     "text": [
      "Using TensorFlow backend.\n"
     ]
    }
   ],
   "source": [
    "from sklearn.preprocessing import MinMaxScaler\n",
    "from keras.models import Sequential\n",
    "from keras.layers import Dense\n",
    "from sklearn.metrics import roc_auc_score\n",
    "from keras.layers import Dropout, BatchNormalization\n",
    "from keras.layers.advanced_activations import PReLU, LeakyReLU\n",
    "from keras.optimizers import Adam\n",
    "from sklearn.model_selection import KFold\n",
    "from keras.callbacks import EarlyStopping, ModelCheckpoint\n",
    "from keras.models import load_model\n",
    "import tensorflow as tf\n",
    "from keras.callbacks import Callback\n",
    "import logging"
   ]
  },
  {
   "cell_type": "code",
   "execution_count": 215,
   "metadata": {},
   "outputs": [],
   "source": [
    "class IntervalEvaluation(Callback):\n",
    "    def __init__(self, validation_data=(), interval=10):\n",
    "        super(Callback, self).__init__()\n",
    "\n",
    "        self.interval = interval\n",
    "        self.X_val, self.y_val = validation_data\n",
    "\n",
    "    def on_epoch_end(self, epoch, logs={}):\n",
    "        y_pred = self.model.predict_proba(self.X_val, verbose=0)\n",
    "        score = roc_auc_score(self.y_val, y_pred)\n",
    "        \n",
    "        logging.info(\"interval evaluation - epoch: {:d} - score: {:.6f}\".format(epoch, score))\n",
    "        print(\"interval evaluation - epoch: {:d} - score: {:.6f}\".format(epoch, score))\n",
    "        logs['val_auc'] = score"
   ]
  },
  {
   "cell_type": "code",
   "execution_count": 216,
   "metadata": {},
   "outputs": [],
   "source": [
    "n_folds = 10\n",
    "folds = KFold(n_splits=n_folds, shuffle=True, random_state=42)\n",
    "sub_preds = np.zeros(X_test.shape[0])\n",
    "oof_preds = np.zeros(X_train_res.shape[0])"
   ]
  },
  {
   "cell_type": "code",
   "execution_count": 218,
   "metadata": {
    "scrolled": false
   },
   "outputs": [
    {
     "name": "stdout",
     "output_type": "stream",
     "text": [
      "Setting up neural network...\n",
      "Fitting neural network...\n",
      "WARNING:tensorflow:From C:\\Users\\Edward Sims\\Anaconda3\\lib\\site-packages\\tensorflow\\python\\ops\\math_ops.py:3066: to_int32 (from tensorflow.python.ops.math_ops) is deprecated and will be removed in a future version.\n",
      "Instructions for updating:\n",
      "Use tf.cast instead.\n",
      "interval evaluation - epoch: 0 - score: 0.903409\n",
      "\n",
      "Epoch 00001: val_auc improved from -inf to 0.90341, saving model to fold 1 best_model.hdf5\n",
      "interval evaluation - epoch: 1 - score: 0.925549\n",
      "\n",
      "Epoch 00002: val_auc improved from 0.90341 to 0.92555, saving model to fold 1 best_model.hdf5\n",
      "interval evaluation - epoch: 2 - score: 0.947660\n",
      "\n",
      "Epoch 00003: val_auc improved from 0.92555 to 0.94766, saving model to fold 1 best_model.hdf5\n",
      "interval evaluation - epoch: 3 - score: 0.961959\n",
      "\n",
      "Epoch 00004: val_auc improved from 0.94766 to 0.96196, saving model to fold 1 best_model.hdf5\n",
      "interval evaluation - epoch: 4 - score: 0.969892\n",
      "\n",
      "Epoch 00005: val_auc improved from 0.96196 to 0.96989, saving model to fold 1 best_model.hdf5\n",
      "interval evaluation - epoch: 5 - score: 0.972323\n",
      "\n",
      "Epoch 00006: val_auc improved from 0.96989 to 0.97232, saving model to fold 1 best_model.hdf5\n",
      "interval evaluation - epoch: 6 - score: 0.977348\n",
      "\n",
      "Epoch 00007: val_auc improved from 0.97232 to 0.97735, saving model to fold 1 best_model.hdf5\n",
      "interval evaluation - epoch: 7 - score: 0.982718\n",
      "\n",
      "Epoch 00008: val_auc improved from 0.97735 to 0.98272, saving model to fold 1 best_model.hdf5\n",
      "interval evaluation - epoch: 8 - score: 0.985208\n",
      "\n",
      "Epoch 00009: val_auc improved from 0.98272 to 0.98521, saving model to fold 1 best_model.hdf5\n",
      "interval evaluation - epoch: 9 - score: 0.984586\n",
      "\n",
      "Epoch 00010: val_auc did not improve from 0.98521\n",
      "interval evaluation - epoch: 10 - score: 0.984231\n",
      "\n",
      "Epoch 00011: val_auc did not improve from 0.98521\n",
      "interval evaluation - epoch: 11 - score: 0.988003\n",
      "\n",
      "Epoch 00012: val_auc improved from 0.98521 to 0.98800, saving model to fold 1 best_model.hdf5\n",
      "interval evaluation - epoch: 12 - score: 0.987573\n",
      "\n",
      "Epoch 00013: val_auc did not improve from 0.98800\n",
      "interval evaluation - epoch: 13 - score: 0.989567\n",
      "\n",
      "Epoch 00014: val_auc improved from 0.98800 to 0.98957, saving model to fold 1 best_model.hdf5\n",
      "interval evaluation - epoch: 14 - score: 0.990459\n",
      "\n",
      "Epoch 00015: val_auc improved from 0.98957 to 0.99046, saving model to fold 1 best_model.hdf5\n",
      "interval evaluation - epoch: 15 - score: 0.991942\n",
      "\n",
      "Epoch 00016: val_auc improved from 0.99046 to 0.99194, saving model to fold 1 best_model.hdf5\n",
      "interval evaluation - epoch: 16 - score: 0.991255\n",
      "\n",
      "Epoch 00017: val_auc did not improve from 0.99194\n",
      "interval evaluation - epoch: 17 - score: 0.992547\n",
      "\n",
      "Epoch 00018: val_auc improved from 0.99194 to 0.99255, saving model to fold 1 best_model.hdf5\n",
      "interval evaluation - epoch: 18 - score: 0.992342\n",
      "\n",
      "Epoch 00019: val_auc did not improve from 0.99255\n",
      "interval evaluation - epoch: 19 - score: 0.993366\n",
      "\n",
      "Epoch 00020: val_auc improved from 0.99255 to 0.99337, saving model to fold 1 best_model.hdf5\n",
      "0.9933660254298969\n",
      "Predicting...\n",
      "Setting up neural network...\n",
      "Fitting neural network...\n",
      "interval evaluation - epoch: 0 - score: 0.905305\n",
      "\n",
      "Epoch 00001: val_auc improved from -inf to 0.90530, saving model to fold 2 best_model.hdf5\n",
      "interval evaluation - epoch: 1 - score: 0.931443\n",
      "\n",
      "Epoch 00002: val_auc improved from 0.90530 to 0.93144, saving model to fold 2 best_model.hdf5\n",
      "interval evaluation - epoch: 2 - score: 0.947742\n",
      "\n",
      "Epoch 00003: val_auc improved from 0.93144 to 0.94774, saving model to fold 2 best_model.hdf5\n",
      "interval evaluation - epoch: 3 - score: 0.955491\n",
      "\n",
      "Epoch 00004: val_auc improved from 0.94774 to 0.95549, saving model to fold 2 best_model.hdf5\n",
      "interval evaluation - epoch: 4 - score: 0.963584\n",
      "\n",
      "Epoch 00005: val_auc improved from 0.95549 to 0.96358, saving model to fold 2 best_model.hdf5\n",
      "interval evaluation - epoch: 5 - score: 0.968480\n",
      "\n",
      "Epoch 00006: val_auc improved from 0.96358 to 0.96848, saving model to fold 2 best_model.hdf5\n",
      "interval evaluation - epoch: 6 - score: 0.974354\n",
      "\n",
      "Epoch 00007: val_auc improved from 0.96848 to 0.97435, saving model to fold 2 best_model.hdf5\n",
      "interval evaluation - epoch: 7 - score: 0.977291\n",
      "\n",
      "Epoch 00008: val_auc improved from 0.97435 to 0.97729, saving model to fold 2 best_model.hdf5\n",
      "interval evaluation - epoch: 8 - score: 0.979963\n",
      "\n",
      "Epoch 00009: val_auc improved from 0.97729 to 0.97996, saving model to fold 2 best_model.hdf5\n",
      "interval evaluation - epoch: 9 - score: 0.984761\n",
      "\n",
      "Epoch 00010: val_auc improved from 0.97996 to 0.98476, saving model to fold 2 best_model.hdf5\n",
      "interval evaluation - epoch: 10 - score: 0.985676\n",
      "\n",
      "Epoch 00011: val_auc improved from 0.98476 to 0.98568, saving model to fold 2 best_model.hdf5\n",
      "interval evaluation - epoch: 11 - score: 0.986034\n",
      "\n",
      "Epoch 00012: val_auc improved from 0.98568 to 0.98603, saving model to fold 2 best_model.hdf5\n",
      "interval evaluation - epoch: 12 - score: 0.985904\n",
      "\n",
      "Epoch 00013: val_auc did not improve from 0.98603\n",
      "interval evaluation - epoch: 13 - score: 0.986966\n",
      "\n",
      "Epoch 00014: val_auc improved from 0.98603 to 0.98697, saving model to fold 2 best_model.hdf5\n",
      "interval evaluation - epoch: 14 - score: 0.988282\n",
      "\n",
      "Epoch 00015: val_auc improved from 0.98697 to 0.98828, saving model to fold 2 best_model.hdf5\n",
      "interval evaluation - epoch: 15 - score: 0.990900\n",
      "\n",
      "Epoch 00016: val_auc improved from 0.98828 to 0.99090, saving model to fold 2 best_model.hdf5\n",
      "interval evaluation - epoch: 16 - score: 0.990795\n",
      "\n",
      "Epoch 00017: val_auc did not improve from 0.99090\n",
      "interval evaluation - epoch: 17 - score: 0.990156\n",
      "\n",
      "Epoch 00018: val_auc did not improve from 0.99090\n",
      "interval evaluation - epoch: 18 - score: 0.989595\n",
      "\n",
      "Epoch 00019: val_auc did not improve from 0.99090\n",
      "0.9908997470076295\n",
      "Predicting...\n",
      "Setting up neural network...\n",
      "Fitting neural network...\n",
      "interval evaluation - epoch: 0 - score: 0.909140\n",
      "\n",
      "Epoch 00001: val_auc improved from -inf to 0.90914, saving model to fold 3 best_model.hdf5\n",
      "interval evaluation - epoch: 1 - score: 0.939227\n",
      "\n",
      "Epoch 00002: val_auc improved from 0.90914 to 0.93923, saving model to fold 3 best_model.hdf5\n",
      "interval evaluation - epoch: 2 - score: 0.949165\n",
      "\n",
      "Epoch 00003: val_auc improved from 0.93923 to 0.94916, saving model to fold 3 best_model.hdf5\n",
      "interval evaluation - epoch: 3 - score: 0.957207\n",
      "\n",
      "Epoch 00004: val_auc improved from 0.94916 to 0.95721, saving model to fold 3 best_model.hdf5\n",
      "interval evaluation - epoch: 4 - score: 0.968423\n",
      "\n",
      "Epoch 00005: val_auc improved from 0.95721 to 0.96842, saving model to fold 3 best_model.hdf5\n",
      "interval evaluation - epoch: 5 - score: 0.976431\n",
      "\n",
      "Epoch 00006: val_auc improved from 0.96842 to 0.97643, saving model to fold 3 best_model.hdf5\n",
      "interval evaluation - epoch: 6 - score: 0.977939\n",
      "\n",
      "Epoch 00007: val_auc improved from 0.97643 to 0.97794, saving model to fold 3 best_model.hdf5\n",
      "interval evaluation - epoch: 7 - score: 0.981335\n",
      "\n",
      "Epoch 00008: val_auc improved from 0.97794 to 0.98134, saving model to fold 3 best_model.hdf5\n",
      "interval evaluation - epoch: 8 - score: 0.983135\n",
      "\n",
      "Epoch 00009: val_auc improved from 0.98134 to 0.98313, saving model to fold 3 best_model.hdf5\n",
      "interval evaluation - epoch: 9 - score: 0.986250\n",
      "\n",
      "Epoch 00010: val_auc improved from 0.98313 to 0.98625, saving model to fold 3 best_model.hdf5\n",
      "interval evaluation - epoch: 10 - score: 0.987221\n",
      "\n",
      "Epoch 00011: val_auc improved from 0.98625 to 0.98722, saving model to fold 3 best_model.hdf5\n",
      "interval evaluation - epoch: 11 - score: 0.988956\n",
      "\n",
      "Epoch 00012: val_auc improved from 0.98722 to 0.98896, saving model to fold 3 best_model.hdf5\n",
      "interval evaluation - epoch: 12 - score: 0.990661\n",
      "\n",
      "Epoch 00013: val_auc improved from 0.98896 to 0.99066, saving model to fold 3 best_model.hdf5\n",
      "interval evaluation - epoch: 13 - score: 0.991378\n",
      "\n",
      "Epoch 00014: val_auc improved from 0.99066 to 0.99138, saving model to fold 3 best_model.hdf5\n",
      "interval evaluation - epoch: 14 - score: 0.989582\n",
      "\n",
      "Epoch 00015: val_auc did not improve from 0.99138\n",
      "interval evaluation - epoch: 15 - score: 0.990390\n",
      "\n",
      "Epoch 00016: val_auc did not improve from 0.99138\n",
      "interval evaluation - epoch: 16 - score: 0.992115\n",
      "\n",
      "Epoch 00017: val_auc improved from 0.99138 to 0.99211, saving model to fold 3 best_model.hdf5\n",
      "interval evaluation - epoch: 17 - score: 0.992138\n",
      "\n",
      "Epoch 00018: val_auc improved from 0.99211 to 0.99214, saving model to fold 3 best_model.hdf5\n"
     ]
    },
    {
     "name": "stdout",
     "output_type": "stream",
     "text": [
      "interval evaluation - epoch: 18 - score: 0.994847\n",
      "\n",
      "Epoch 00019: val_auc improved from 0.99214 to 0.99485, saving model to fold 3 best_model.hdf5\n",
      "interval evaluation - epoch: 19 - score: 0.994111\n",
      "\n",
      "Epoch 00020: val_auc did not improve from 0.99485\n",
      "0.9948470839260314\n",
      "Predicting...\n",
      "Setting up neural network...\n",
      "Fitting neural network...\n",
      "interval evaluation - epoch: 0 - score: 0.900091\n",
      "\n",
      "Epoch 00001: val_auc improved from -inf to 0.90009, saving model to fold 4 best_model.hdf5\n",
      "interval evaluation - epoch: 1 - score: 0.941270\n",
      "\n",
      "Epoch 00002: val_auc improved from 0.90009 to 0.94127, saving model to fold 4 best_model.hdf5\n",
      "interval evaluation - epoch: 2 - score: 0.953370\n",
      "\n",
      "Epoch 00003: val_auc improved from 0.94127 to 0.95337, saving model to fold 4 best_model.hdf5\n",
      "interval evaluation - epoch: 3 - score: 0.957103\n",
      "\n",
      "Epoch 00004: val_auc improved from 0.95337 to 0.95710, saving model to fold 4 best_model.hdf5\n",
      "interval evaluation - epoch: 4 - score: 0.977002\n",
      "\n",
      "Epoch 00005: val_auc improved from 0.95710 to 0.97700, saving model to fold 4 best_model.hdf5\n",
      "interval evaluation - epoch: 5 - score: 0.975340\n",
      "\n",
      "Epoch 00006: val_auc did not improve from 0.97700\n",
      "interval evaluation - epoch: 6 - score: 0.981510\n",
      "\n",
      "Epoch 00007: val_auc improved from 0.97700 to 0.98151, saving model to fold 4 best_model.hdf5\n",
      "interval evaluation - epoch: 7 - score: 0.986424\n",
      "\n",
      "Epoch 00008: val_auc improved from 0.98151 to 0.98642, saving model to fold 4 best_model.hdf5\n",
      "interval evaluation - epoch: 8 - score: 0.987572\n",
      "\n",
      "Epoch 00009: val_auc improved from 0.98642 to 0.98757, saving model to fold 4 best_model.hdf5\n",
      "interval evaluation - epoch: 9 - score: 0.987933\n",
      "\n",
      "Epoch 00010: val_auc improved from 0.98757 to 0.98793, saving model to fold 4 best_model.hdf5\n",
      "interval evaluation - epoch: 10 - score: 0.991589\n",
      "\n",
      "Epoch 00011: val_auc improved from 0.98793 to 0.99159, saving model to fold 4 best_model.hdf5\n",
      "interval evaluation - epoch: 11 - score: 0.991918\n",
      "\n",
      "Epoch 00012: val_auc improved from 0.99159 to 0.99192, saving model to fold 4 best_model.hdf5\n",
      "interval evaluation - epoch: 12 - score: 0.992429\n",
      "\n",
      "Epoch 00013: val_auc improved from 0.99192 to 0.99243, saving model to fold 4 best_model.hdf5\n",
      "interval evaluation - epoch: 13 - score: 0.993863\n",
      "\n",
      "Epoch 00014: val_auc improved from 0.99243 to 0.99386, saving model to fold 4 best_model.hdf5\n",
      "interval evaluation - epoch: 14 - score: 0.993978\n",
      "\n",
      "Epoch 00015: val_auc improved from 0.99386 to 0.99398, saving model to fold 4 best_model.hdf5\n",
      "interval evaluation - epoch: 15 - score: 0.994776\n",
      "\n",
      "Epoch 00016: val_auc improved from 0.99398 to 0.99478, saving model to fold 4 best_model.hdf5\n",
      "interval evaluation - epoch: 16 - score: 0.994528\n",
      "\n",
      "Epoch 00017: val_auc did not improve from 0.99478\n",
      "interval evaluation - epoch: 17 - score: 0.995572\n",
      "\n",
      "Epoch 00018: val_auc improved from 0.99478 to 0.99557, saving model to fold 4 best_model.hdf5\n",
      "interval evaluation - epoch: 18 - score: 0.996321\n",
      "\n",
      "Epoch 00019: val_auc improved from 0.99557 to 0.99632, saving model to fold 4 best_model.hdf5\n",
      "interval evaluation - epoch: 19 - score: 0.996316\n",
      "\n",
      "Epoch 00020: val_auc did not improve from 0.99632\n",
      "0.9963206996462446\n",
      "Predicting...\n",
      "Setting up neural network...\n",
      "Fitting neural network...\n",
      "interval evaluation - epoch: 0 - score: 0.913489\n",
      "\n",
      "Epoch 00001: val_auc improved from -inf to 0.91349, saving model to fold 5 best_model.hdf5\n",
      "interval evaluation - epoch: 1 - score: 0.933421\n",
      "\n",
      "Epoch 00002: val_auc improved from 0.91349 to 0.93342, saving model to fold 5 best_model.hdf5\n",
      "interval evaluation - epoch: 2 - score: 0.950696\n",
      "\n",
      "Epoch 00003: val_auc improved from 0.93342 to 0.95070, saving model to fold 5 best_model.hdf5\n",
      "interval evaluation - epoch: 3 - score: 0.965379\n",
      "\n",
      "Epoch 00004: val_auc improved from 0.95070 to 0.96538, saving model to fold 5 best_model.hdf5\n",
      "interval evaluation - epoch: 4 - score: 0.966912\n",
      "\n",
      "Epoch 00005: val_auc improved from 0.96538 to 0.96691, saving model to fold 5 best_model.hdf5\n",
      "interval evaluation - epoch: 5 - score: 0.974261\n",
      "\n",
      "Epoch 00006: val_auc improved from 0.96691 to 0.97426, saving model to fold 5 best_model.hdf5\n",
      "interval evaluation - epoch: 6 - score: 0.978977\n",
      "\n",
      "Epoch 00007: val_auc improved from 0.97426 to 0.97898, saving model to fold 5 best_model.hdf5\n",
      "interval evaluation - epoch: 7 - score: 0.977989\n",
      "\n",
      "Epoch 00008: val_auc did not improve from 0.97898\n",
      "interval evaluation - epoch: 8 - score: 0.981946\n",
      "\n",
      "Epoch 00009: val_auc improved from 0.97898 to 0.98195, saving model to fold 5 best_model.hdf5\n",
      "interval evaluation - epoch: 9 - score: 0.985277\n",
      "\n",
      "Epoch 00010: val_auc improved from 0.98195 to 0.98528, saving model to fold 5 best_model.hdf5\n",
      "interval evaluation - epoch: 10 - score: 0.986165\n",
      "\n",
      "Epoch 00011: val_auc improved from 0.98528 to 0.98617, saving model to fold 5 best_model.hdf5\n",
      "interval evaluation - epoch: 11 - score: 0.989806\n",
      "\n",
      "Epoch 00012: val_auc improved from 0.98617 to 0.98981, saving model to fold 5 best_model.hdf5\n",
      "interval evaluation - epoch: 12 - score: 0.987491\n",
      "\n",
      "Epoch 00013: val_auc did not improve from 0.98981\n",
      "interval evaluation - epoch: 13 - score: 0.989476\n",
      "\n",
      "Epoch 00014: val_auc did not improve from 0.98981\n",
      "interval evaluation - epoch: 14 - score: 0.990229\n",
      "\n",
      "Epoch 00015: val_auc improved from 0.98981 to 0.99023, saving model to fold 5 best_model.hdf5\n",
      "interval evaluation - epoch: 15 - score: 0.991676\n",
      "\n",
      "Epoch 00016: val_auc improved from 0.99023 to 0.99168, saving model to fold 5 best_model.hdf5\n",
      "interval evaluation - epoch: 16 - score: 0.992604\n",
      "\n",
      "Epoch 00017: val_auc improved from 0.99168 to 0.99260, saving model to fold 5 best_model.hdf5\n",
      "interval evaluation - epoch: 17 - score: 0.992379\n",
      "\n",
      "Epoch 00018: val_auc did not improve from 0.99260\n",
      "interval evaluation - epoch: 18 - score: 0.991871\n",
      "\n",
      "Epoch 00019: val_auc did not improve from 0.99260\n",
      "interval evaluation - epoch: 19 - score: 0.992775\n",
      "\n",
      "Epoch 00020: val_auc improved from 0.99260 to 0.99277, saving model to fold 5 best_model.hdf5\n",
      "0.9927748119203399\n",
      "Predicting...\n",
      "Setting up neural network...\n",
      "Fitting neural network...\n",
      "interval evaluation - epoch: 0 - score: 0.919580\n",
      "\n",
      "Epoch 00001: val_auc improved from -inf to 0.91958, saving model to fold 6 best_model.hdf5\n",
      "interval evaluation - epoch: 1 - score: 0.944515\n",
      "\n",
      "Epoch 00002: val_auc improved from 0.91958 to 0.94452, saving model to fold 6 best_model.hdf5\n",
      "interval evaluation - epoch: 2 - score: 0.955481\n",
      "\n",
      "Epoch 00003: val_auc improved from 0.94452 to 0.95548, saving model to fold 6 best_model.hdf5\n",
      "interval evaluation - epoch: 3 - score: 0.965098\n",
      "\n",
      "Epoch 00004: val_auc improved from 0.95548 to 0.96510, saving model to fold 6 best_model.hdf5\n",
      "interval evaluation - epoch: 4 - score: 0.972074\n",
      "\n",
      "Epoch 00005: val_auc improved from 0.96510 to 0.97207, saving model to fold 6 best_model.hdf5\n",
      "interval evaluation - epoch: 5 - score: 0.978924\n",
      "\n",
      "Epoch 00006: val_auc improved from 0.97207 to 0.97892, saving model to fold 6 best_model.hdf5\n",
      "interval evaluation - epoch: 6 - score: 0.978281\n",
      "\n",
      "Epoch 00007: val_auc did not improve from 0.97892\n",
      "interval evaluation - epoch: 7 - score: 0.984126\n",
      "\n",
      "Epoch 00008: val_auc improved from 0.97892 to 0.98413, saving model to fold 6 best_model.hdf5\n",
      "interval evaluation - epoch: 8 - score: 0.984898\n",
      "\n",
      "Epoch 00009: val_auc improved from 0.98413 to 0.98490, saving model to fold 6 best_model.hdf5\n",
      "interval evaluation - epoch: 9 - score: 0.988369\n",
      "\n",
      "Epoch 00010: val_auc improved from 0.98490 to 0.98837, saving model to fold 6 best_model.hdf5\n",
      "interval evaluation - epoch: 10 - score: 0.991442\n",
      "\n",
      "Epoch 00011: val_auc improved from 0.98837 to 0.99144, saving model to fold 6 best_model.hdf5\n",
      "interval evaluation - epoch: 11 - score: 0.990937\n",
      "\n",
      "Epoch 00012: val_auc did not improve from 0.99144\n",
      "interval evaluation - epoch: 12 - score: 0.991538\n",
      "\n",
      "Epoch 00013: val_auc improved from 0.99144 to 0.99154, saving model to fold 6 best_model.hdf5\n",
      "interval evaluation - epoch: 13 - score: 0.991660\n",
      "\n",
      "Epoch 00014: val_auc improved from 0.99154 to 0.99166, saving model to fold 6 best_model.hdf5\n",
      "interval evaluation - epoch: 14 - score: 0.993957\n",
      "\n",
      "Epoch 00015: val_auc improved from 0.99166 to 0.99396, saving model to fold 6 best_model.hdf5\n",
      "interval evaluation - epoch: 15 - score: 0.992778\n",
      "\n",
      "Epoch 00016: val_auc did not improve from 0.99396\n",
      "interval evaluation - epoch: 16 - score: 0.994045\n",
      "\n",
      "Epoch 00017: val_auc improved from 0.99396 to 0.99404, saving model to fold 6 best_model.hdf5\n"
     ]
    },
    {
     "name": "stdout",
     "output_type": "stream",
     "text": [
      "interval evaluation - epoch: 17 - score: 0.993796\n",
      "\n",
      "Epoch 00018: val_auc did not improve from 0.99404\n",
      "interval evaluation - epoch: 18 - score: 0.994669\n",
      "\n",
      "Epoch 00019: val_auc improved from 0.99404 to 0.99467, saving model to fold 6 best_model.hdf5\n",
      "interval evaluation - epoch: 19 - score: 0.995214\n",
      "\n",
      "Epoch 00020: val_auc improved from 0.99467 to 0.99521, saving model to fold 6 best_model.hdf5\n",
      "0.9952144815188391\n",
      "Predicting...\n",
      "Setting up neural network...\n",
      "Fitting neural network...\n",
      "interval evaluation - epoch: 0 - score: 0.908511\n",
      "\n",
      "Epoch 00001: val_auc improved from -inf to 0.90851, saving model to fold 7 best_model.hdf5\n",
      "interval evaluation - epoch: 1 - score: 0.933293\n",
      "\n",
      "Epoch 00002: val_auc improved from 0.90851 to 0.93329, saving model to fold 7 best_model.hdf5\n",
      "interval evaluation - epoch: 2 - score: 0.946217\n",
      "\n",
      "Epoch 00003: val_auc improved from 0.93329 to 0.94622, saving model to fold 7 best_model.hdf5\n",
      "interval evaluation - epoch: 3 - score: 0.959829\n",
      "\n",
      "Epoch 00004: val_auc improved from 0.94622 to 0.95983, saving model to fold 7 best_model.hdf5\n",
      "interval evaluation - epoch: 4 - score: 0.963696\n",
      "\n",
      "Epoch 00005: val_auc improved from 0.95983 to 0.96370, saving model to fold 7 best_model.hdf5\n",
      "interval evaluation - epoch: 5 - score: 0.972269\n",
      "\n",
      "Epoch 00006: val_auc improved from 0.96370 to 0.97227, saving model to fold 7 best_model.hdf5\n",
      "interval evaluation - epoch: 6 - score: 0.976413\n",
      "\n",
      "Epoch 00007: val_auc improved from 0.97227 to 0.97641, saving model to fold 7 best_model.hdf5\n",
      "interval evaluation - epoch: 7 - score: 0.979463\n",
      "\n",
      "Epoch 00008: val_auc improved from 0.97641 to 0.97946, saving model to fold 7 best_model.hdf5\n",
      "interval evaluation - epoch: 8 - score: 0.986889\n",
      "\n",
      "Epoch 00009: val_auc improved from 0.97946 to 0.98689, saving model to fold 7 best_model.hdf5\n",
      "interval evaluation - epoch: 9 - score: 0.986775\n",
      "\n",
      "Epoch 00010: val_auc did not improve from 0.98689\n",
      "interval evaluation - epoch: 10 - score: 0.988214\n",
      "\n",
      "Epoch 00011: val_auc improved from 0.98689 to 0.98821, saving model to fold 7 best_model.hdf5\n",
      "interval evaluation - epoch: 11 - score: 0.990649\n",
      "\n",
      "Epoch 00012: val_auc improved from 0.98821 to 0.99065, saving model to fold 7 best_model.hdf5\n",
      "interval evaluation - epoch: 12 - score: 0.989069\n",
      "\n",
      "Epoch 00013: val_auc did not improve from 0.99065\n",
      "interval evaluation - epoch: 13 - score: 0.992074\n",
      "\n",
      "Epoch 00014: val_auc improved from 0.99065 to 0.99207, saving model to fold 7 best_model.hdf5\n",
      "interval evaluation - epoch: 14 - score: 0.992079\n",
      "\n",
      "Epoch 00015: val_auc improved from 0.99207 to 0.99208, saving model to fold 7 best_model.hdf5\n",
      "interval evaluation - epoch: 15 - score: 0.992506\n",
      "\n",
      "Epoch 00016: val_auc improved from 0.99208 to 0.99251, saving model to fold 7 best_model.hdf5\n",
      "interval evaluation - epoch: 16 - score: 0.992269\n",
      "\n",
      "Epoch 00017: val_auc did not improve from 0.99251\n",
      "interval evaluation - epoch: 17 - score: 0.993159\n",
      "\n",
      "Epoch 00018: val_auc improved from 0.99251 to 0.99316, saving model to fold 7 best_model.hdf5\n",
      "interval evaluation - epoch: 18 - score: 0.993613\n",
      "\n",
      "Epoch 00019: val_auc improved from 0.99316 to 0.99361, saving model to fold 7 best_model.hdf5\n",
      "interval evaluation - epoch: 19 - score: 0.993721\n",
      "\n",
      "Epoch 00020: val_auc improved from 0.99361 to 0.99372, saving model to fold 7 best_model.hdf5\n",
      "0.9937209642906542\n",
      "Predicting...\n",
      "Setting up neural network...\n",
      "Fitting neural network...\n",
      "interval evaluation - epoch: 0 - score: 0.904419\n",
      "\n",
      "Epoch 00001: val_auc improved from -inf to 0.90442, saving model to fold 8 best_model.hdf5\n",
      "interval evaluation - epoch: 1 - score: 0.936738\n",
      "\n",
      "Epoch 00002: val_auc improved from 0.90442 to 0.93674, saving model to fold 8 best_model.hdf5\n",
      "interval evaluation - epoch: 2 - score: 0.945671\n",
      "\n",
      "Epoch 00003: val_auc improved from 0.93674 to 0.94567, saving model to fold 8 best_model.hdf5\n",
      "interval evaluation - epoch: 3 - score: 0.957733\n",
      "\n",
      "Epoch 00004: val_auc improved from 0.94567 to 0.95773, saving model to fold 8 best_model.hdf5\n",
      "interval evaluation - epoch: 4 - score: 0.966923\n",
      "\n",
      "Epoch 00005: val_auc improved from 0.95773 to 0.96692, saving model to fold 8 best_model.hdf5\n",
      "interval evaluation - epoch: 5 - score: 0.975491\n",
      "\n",
      "Epoch 00006: val_auc improved from 0.96692 to 0.97549, saving model to fold 8 best_model.hdf5\n",
      "interval evaluation - epoch: 6 - score: 0.977295\n",
      "\n",
      "Epoch 00007: val_auc improved from 0.97549 to 0.97729, saving model to fold 8 best_model.hdf5\n",
      "interval evaluation - epoch: 7 - score: 0.979500\n",
      "\n",
      "Epoch 00008: val_auc improved from 0.97729 to 0.97950, saving model to fold 8 best_model.hdf5\n",
      "interval evaluation - epoch: 8 - score: 0.984420\n",
      "\n",
      "Epoch 00009: val_auc improved from 0.97950 to 0.98442, saving model to fold 8 best_model.hdf5\n",
      "interval evaluation - epoch: 9 - score: 0.985009\n",
      "\n",
      "Epoch 00010: val_auc improved from 0.98442 to 0.98501, saving model to fold 8 best_model.hdf5\n",
      "interval evaluation - epoch: 10 - score: 0.987230\n",
      "\n",
      "Epoch 00011: val_auc improved from 0.98501 to 0.98723, saving model to fold 8 best_model.hdf5\n",
      "interval evaluation - epoch: 11 - score: 0.990911\n",
      "\n",
      "Epoch 00012: val_auc improved from 0.98723 to 0.99091, saving model to fold 8 best_model.hdf5\n",
      "interval evaluation - epoch: 12 - score: 0.990262\n",
      "\n",
      "Epoch 00013: val_auc did not improve from 0.99091\n",
      "interval evaluation - epoch: 13 - score: 0.991672\n",
      "\n",
      "Epoch 00014: val_auc improved from 0.99091 to 0.99167, saving model to fold 8 best_model.hdf5\n",
      "interval evaluation - epoch: 14 - score: 0.990737\n",
      "\n",
      "Epoch 00015: val_auc did not improve from 0.99167\n",
      "interval evaluation - epoch: 15 - score: 0.990926\n",
      "\n",
      "Epoch 00016: val_auc did not improve from 0.99167\n",
      "interval evaluation - epoch: 16 - score: 0.992830\n",
      "\n",
      "Epoch 00017: val_auc improved from 0.99167 to 0.99283, saving model to fold 8 best_model.hdf5\n",
      "interval evaluation - epoch: 17 - score: 0.993004\n",
      "\n",
      "Epoch 00018: val_auc improved from 0.99283 to 0.99300, saving model to fold 8 best_model.hdf5\n",
      "interval evaluation - epoch: 18 - score: 0.995235\n",
      "\n",
      "Epoch 00019: val_auc improved from 0.99300 to 0.99523, saving model to fold 8 best_model.hdf5\n",
      "interval evaluation - epoch: 19 - score: 0.994290\n",
      "\n",
      "Epoch 00020: val_auc did not improve from 0.99523\n",
      "0.9952346570397113\n",
      "Predicting...\n",
      "Setting up neural network...\n",
      "Fitting neural network...\n",
      "interval evaluation - epoch: 0 - score: 0.913018\n",
      "\n",
      "Epoch 00001: val_auc improved from -inf to 0.91302, saving model to fold 9 best_model.hdf5\n",
      "interval evaluation - epoch: 1 - score: 0.941599\n",
      "\n",
      "Epoch 00002: val_auc improved from 0.91302 to 0.94160, saving model to fold 9 best_model.hdf5\n",
      "interval evaluation - epoch: 2 - score: 0.952854\n",
      "\n",
      "Epoch 00003: val_auc improved from 0.94160 to 0.95285, saving model to fold 9 best_model.hdf5\n",
      "interval evaluation - epoch: 3 - score: 0.963215\n",
      "\n",
      "Epoch 00004: val_auc improved from 0.95285 to 0.96321, saving model to fold 9 best_model.hdf5\n",
      "interval evaluation - epoch: 4 - score: 0.967445\n",
      "\n",
      "Epoch 00005: val_auc improved from 0.96321 to 0.96745, saving model to fold 9 best_model.hdf5\n",
      "interval evaluation - epoch: 5 - score: 0.971974\n",
      "\n",
      "Epoch 00006: val_auc improved from 0.96745 to 0.97197, saving model to fold 9 best_model.hdf5\n",
      "interval evaluation - epoch: 6 - score: 0.977568\n",
      "\n",
      "Epoch 00007: val_auc improved from 0.97197 to 0.97757, saving model to fold 9 best_model.hdf5\n",
      "interval evaluation - epoch: 7 - score: 0.982983\n",
      "\n",
      "Epoch 00008: val_auc improved from 0.97757 to 0.98298, saving model to fold 9 best_model.hdf5\n",
      "interval evaluation - epoch: 8 - score: 0.984666\n",
      "\n",
      "Epoch 00009: val_auc improved from 0.98298 to 0.98467, saving model to fold 9 best_model.hdf5\n",
      "interval evaluation - epoch: 9 - score: 0.984947\n",
      "\n",
      "Epoch 00010: val_auc improved from 0.98467 to 0.98495, saving model to fold 9 best_model.hdf5\n",
      "interval evaluation - epoch: 10 - score: 0.986528\n",
      "\n",
      "Epoch 00011: val_auc improved from 0.98495 to 0.98653, saving model to fold 9 best_model.hdf5\n",
      "interval evaluation - epoch: 11 - score: 0.987531\n",
      "\n",
      "Epoch 00012: val_auc improved from 0.98653 to 0.98753, saving model to fold 9 best_model.hdf5\n",
      "interval evaluation - epoch: 12 - score: 0.989404\n",
      "\n",
      "Epoch 00013: val_auc improved from 0.98753 to 0.98940, saving model to fold 9 best_model.hdf5\n",
      "interval evaluation - epoch: 13 - score: 0.990080\n",
      "\n",
      "Epoch 00014: val_auc improved from 0.98940 to 0.99008, saving model to fold 9 best_model.hdf5\n",
      "interval evaluation - epoch: 14 - score: 0.993118\n",
      "\n",
      "Epoch 00015: val_auc improved from 0.99008 to 0.99312, saving model to fold 9 best_model.hdf5\n"
     ]
    },
    {
     "name": "stdout",
     "output_type": "stream",
     "text": [
      "interval evaluation - epoch: 15 - score: 0.992452\n",
      "\n",
      "Epoch 00016: val_auc did not improve from 0.99312\n",
      "interval evaluation - epoch: 16 - score: 0.993882\n",
      "\n",
      "Epoch 00017: val_auc improved from 0.99312 to 0.99388, saving model to fold 9 best_model.hdf5\n",
      "interval evaluation - epoch: 17 - score: 0.992942\n",
      "\n",
      "Epoch 00018: val_auc did not improve from 0.99388\n",
      "interval evaluation - epoch: 18 - score: 0.993723\n",
      "\n",
      "Epoch 00019: val_auc did not improve from 0.99388\n",
      "interval evaluation - epoch: 19 - score: 0.993863\n",
      "\n",
      "Epoch 00020: val_auc did not improve from 0.99388\n",
      "0.9938823126833803\n",
      "Predicting...\n",
      "Setting up neural network...\n",
      "Fitting neural network...\n",
      "interval evaluation - epoch: 0 - score: 0.902669\n",
      "\n",
      "Epoch 00001: val_auc improved from -inf to 0.90267, saving model to fold 10 best_model.hdf5\n",
      "interval evaluation - epoch: 1 - score: 0.937261\n",
      "\n",
      "Epoch 00002: val_auc improved from 0.90267 to 0.93726, saving model to fold 10 best_model.hdf5\n",
      "interval evaluation - epoch: 2 - score: 0.953607\n",
      "\n",
      "Epoch 00003: val_auc improved from 0.93726 to 0.95361, saving model to fold 10 best_model.hdf5\n",
      "interval evaluation - epoch: 3 - score: 0.966633\n",
      "\n",
      "Epoch 00004: val_auc improved from 0.95361 to 0.96663, saving model to fold 10 best_model.hdf5\n",
      "interval evaluation - epoch: 4 - score: 0.967948\n",
      "\n",
      "Epoch 00005: val_auc improved from 0.96663 to 0.96795, saving model to fold 10 best_model.hdf5\n",
      "interval evaluation - epoch: 5 - score: 0.969941\n",
      "\n",
      "Epoch 00006: val_auc improved from 0.96795 to 0.96994, saving model to fold 10 best_model.hdf5\n",
      "interval evaluation - epoch: 6 - score: 0.977439\n",
      "\n",
      "Epoch 00007: val_auc improved from 0.96994 to 0.97744, saving model to fold 10 best_model.hdf5\n",
      "interval evaluation - epoch: 7 - score: 0.982364\n",
      "\n",
      "Epoch 00008: val_auc improved from 0.97744 to 0.98236, saving model to fold 10 best_model.hdf5\n",
      "interval evaluation - epoch: 8 - score: 0.983221\n",
      "\n",
      "Epoch 00009: val_auc improved from 0.98236 to 0.98322, saving model to fold 10 best_model.hdf5\n",
      "interval evaluation - epoch: 9 - score: 0.986949\n",
      "\n",
      "Epoch 00010: val_auc improved from 0.98322 to 0.98695, saving model to fold 10 best_model.hdf5\n",
      "interval evaluation - epoch: 10 - score: 0.987557\n",
      "\n",
      "Epoch 00011: val_auc improved from 0.98695 to 0.98756, saving model to fold 10 best_model.hdf5\n",
      "interval evaluation - epoch: 11 - score: 0.989562\n",
      "\n",
      "Epoch 00012: val_auc improved from 0.98756 to 0.98956, saving model to fold 10 best_model.hdf5\n",
      "interval evaluation - epoch: 12 - score: 0.989712\n",
      "\n",
      "Epoch 00013: val_auc improved from 0.98956 to 0.98971, saving model to fold 10 best_model.hdf5\n",
      "interval evaluation - epoch: 13 - score: 0.989812\n",
      "\n",
      "Epoch 00014: val_auc improved from 0.98971 to 0.98981, saving model to fold 10 best_model.hdf5\n",
      "interval evaluation - epoch: 14 - score: 0.991102\n",
      "\n",
      "Epoch 00015: val_auc improved from 0.98981 to 0.99110, saving model to fold 10 best_model.hdf5\n",
      "interval evaluation - epoch: 15 - score: 0.991970\n",
      "\n",
      "Epoch 00016: val_auc improved from 0.99110 to 0.99197, saving model to fold 10 best_model.hdf5\n",
      "interval evaluation - epoch: 16 - score: 0.990138\n",
      "\n",
      "Epoch 00017: val_auc did not improve from 0.99197\n",
      "interval evaluation - epoch: 17 - score: 0.991911\n",
      "\n",
      "Epoch 00018: val_auc did not improve from 0.99197\n",
      "interval evaluation - epoch: 18 - score: 0.993095\n",
      "\n",
      "Epoch 00019: val_auc improved from 0.99197 to 0.99310, saving model to fold 10 best_model.hdf5\n",
      "interval evaluation - epoch: 19 - score: 0.993540\n",
      "\n",
      "Epoch 00020: val_auc improved from 0.99310 to 0.99354, saving model to fold 10 best_model.hdf5\n",
      "0.99353974427413\n",
      "Predicting...\n",
      "FULL AUC: 0.9935597043799198\n"
     ]
    }
   ],
   "source": [
    "for n_fold, (trn_idx, val_idx) in enumerate(folds.split(X_train_res)):\n",
    "    trn_x, trn_y = X_train_res[trn_idx], y_train_res[trn_idx]\n",
    "    val_x, val_y = X_train_res[val_idx], y_train_res[val_idx]\n",
    "    earlystop = EarlyStopping(monitor='val_auc', min_delta=0, patience=3, verbose=0, mode='max')\n",
    "    file_path = \"fold \" + str(n_fold+1) + \" best_model.hdf5\"\n",
    "    check_point = ModelCheckpoint(file_path, monitor = \"val_auc\", verbose = 1, save_best_only = True, mode = \"max\")    \n",
    "    print( 'Setting up neural network...' )\n",
    "    nn = Sequential()\n",
    "    nn.add(Dense(units = 400 , kernel_initializer = 'normal', input_dim = X_train_res.shape[1]))\n",
    "    nn.add(PReLU())\n",
    "    nn.add(Dropout(.5))\n",
    "    nn.add(Dense(units = 160 , kernel_initializer = 'normal'))\n",
    "    nn.add(PReLU())\n",
    "    nn.add(BatchNormalization())\n",
    "    nn.add(Dropout(.5))\n",
    "    nn.add(Dense(units = 64 , kernel_initializer = 'normal'))\n",
    "    nn.add(PReLU())\n",
    "    nn.add(BatchNormalization())\n",
    "    nn.add(Dropout(.5))\n",
    "    nn.add(Dense(units = 26, kernel_initializer = 'normal'))\n",
    "    nn.add(PReLU())\n",
    "    nn.add(BatchNormalization())\n",
    "    nn.add(Dropout(.5))\n",
    "    nn.add(Dense(units = 12, kernel_initializer = 'normal'))\n",
    "    nn.add(PReLU())\n",
    "    nn.add(BatchNormalization())\n",
    "    nn.add(Dropout(.5))\n",
    "    nn.add(Dense(1, kernel_initializer='normal', activation='sigmoid'))\n",
    "    nn.compile(loss='binary_crossentropy', optimizer='adam')\n",
    "    \n",
    "    print( 'Fitting neural network...' )\n",
    "    ival = IntervalEvaluation(validation_data=(val_x, val_y), interval=10)\n",
    "    nn.fit(trn_x, trn_y, validation_data = (val_x, val_y), epochs=20, verbose=0, callbacks=[ival, earlystop, check_point], batch_size=128)\n",
    "    \n",
    "    best_model = load_model(file_path)\n",
    "    \n",
    "    oof_preds[val_idx] = best_model.predict(val_x).flatten()\n",
    "    \n",
    "    print(roc_auc_score(val_y, oof_preds[val_idx]))\n",
    "    \n",
    "    \n",
    "    print( 'Predicting...' )\n",
    "    sub_preds += best_model.predict(X_test).flatten().clip(0,1) / folds.n_splits\n",
    "    \n",
    "    gc.collect()\n",
    "print('FULL AUC: {}'.format(roc_auc_score(y_train_res, oof_preds)))"
   ]
  },
  {
   "cell_type": "code",
   "execution_count": 230,
   "metadata": {},
   "outputs": [
    {
     "name": "stdout",
     "output_type": "stream",
     "text": [
      "###########################\n",
      "#### Training Results ####\n",
      "###########################\n",
      "\n",
      "Accuracy score 0.9820702930063449\n",
      "Precision score:  0.9665378777425141\n",
      "Recall score:  0.9987167605332573\n"
     ]
    },
    {
     "ename": "NameError",
     "evalue": "name 'rf' is not defined",
     "output_type": "error",
     "traceback": [
      "\u001b[1;31m---------------------------------------------------------------------------\u001b[0m",
      "\u001b[1;31mNameError\u001b[0m                                 Traceback (most recent call last)",
      "\u001b[1;32m<ipython-input-230-2a4d4d989cbb>\u001b[0m in \u001b[0;36m<module>\u001b[1;34m\u001b[0m\n\u001b[0;32m     10\u001b[0m \u001b[0mprint\u001b[0m\u001b[1;33m(\u001b[0m\u001b[1;34m'Precision score: '\u001b[0m\u001b[1;33m,\u001b[0m \u001b[0mprecision_score\u001b[0m\u001b[1;33m(\u001b[0m\u001b[0my_true_train\u001b[0m\u001b[1;33m,\u001b[0m \u001b[0my_pred_train\u001b[0m\u001b[1;33m)\u001b[0m\u001b[1;33m)\u001b[0m\u001b[1;33m\u001b[0m\u001b[1;33m\u001b[0m\u001b[0m\n\u001b[0;32m     11\u001b[0m \u001b[0mprint\u001b[0m\u001b[1;33m(\u001b[0m\u001b[1;34m'Recall score: '\u001b[0m\u001b[1;33m,\u001b[0m \u001b[0mrecall_score\u001b[0m\u001b[1;33m(\u001b[0m\u001b[0my_true_train\u001b[0m\u001b[1;33m,\u001b[0m \u001b[0my_pred_train\u001b[0m\u001b[1;33m)\u001b[0m\u001b[1;33m)\u001b[0m\u001b[1;33m\u001b[0m\u001b[1;33m\u001b[0m\u001b[0m\n\u001b[1;32m---> 12\u001b[1;33m \u001b[0mprint\u001b[0m\u001b[1;33m(\u001b[0m\u001b[1;34m'OOB score: '\u001b[0m\u001b[1;33m,\u001b[0m \u001b[1;34m\"%.4f\"\u001b[0m \u001b[1;33m%\u001b[0m \u001b[0mrf\u001b[0m\u001b[1;33m.\u001b[0m\u001b[0moob_score_\u001b[0m\u001b[1;33m)\u001b[0m\u001b[1;33m\u001b[0m\u001b[1;33m\u001b[0m\u001b[0m\n\u001b[0m",
      "\u001b[1;31mNameError\u001b[0m: name 'rf' is not defined"
     ]
    }
   ],
   "source": [
    "y_pred_train = best_model.predict(X_train_res).flatten().round()\n",
    "y_true_train = y_train_res\n",
    "\n",
    "print(\"###########################\")\n",
    "print(\"#### Training Results ####\")\n",
    "print(\"###########################\")\n",
    "print(\"\")\n",
    "\n",
    "print('Accuracy score', accuracy_score(y_true_train, y_pred_train))\n",
    "print('Precision score: ', precision_score(y_true_train, y_pred_train))\n",
    "print('Recall score: ', recall_score(y_true_train, y_pred_train))"
   ]
  },
  {
   "cell_type": "markdown",
   "metadata": {},
   "source": [
    "Let's take a brief look at our variable importance according to our random forest model. We can see that some of the original columns we predicted would be important in fact were, including gender, fare, and age. But we also see title, name length, and ticket length feature prominently, so we can pat ourselves on the back for creating such useful variables."
   ]
  },
  {
   "cell_type": "code",
   "execution_count": null,
   "metadata": {},
   "outputs": [],
   "source": [
    "# Plot Confusion Matrix - VALIDATION RESULTS\n",
    "def plot_confusion_matrix(y_true_test, y_pred_test, classes,\n",
    "                          normalize = False,\n",
    "                          title = None,\n",
    "                          cmap = plt.cm.Blues):\n",
    "    \"\"\"\n",
    "    This function prints and plots the confusion matrix.\n",
    "    Normalization can be applied by setting `normalize=True`.\n",
    "    \"\"\"\n",
    "    if not title:\n",
    "        if normalize:\n",
    "            title = 'Normalized confusion matrix'\n",
    "        else:\n",
    "            title = 'Confusion matrix, without normalization'\n",
    "\n",
    "    # Compute confusion matrix\n",
    "    cm = confusion_matrix(y_true_train, y_pred_crossval)\n",
    "    # Only use the labels that appear in the data\n",
    "    classes = unique_labels(y_true_train, y_pred_crossval)\n",
    "    if normalize:\n",
    "        cm = cm.astype('float') / cm.sum(axis = 1)[:, np.newaxis]\n",
    "        print(\"Normalized confusion matrix\")\n",
    "    else:\n",
    "        print('Confusion matrix, without normalization')\n",
    "\n",
    "    print(cm)\n",
    "\n",
    "    fig, ax = plt.subplots()\n",
    "    im = ax.imshow(cm, interpolation='nearest', cmap=cmap)\n",
    "    ax.figure.colorbar(im, ax=ax)\n",
    "    # We want to show all ticks...\n",
    "    ax.set(xticks = np.arange(cm.shape[1]),\n",
    "           yticks = np.arange(cm.shape[0]),\n",
    "           # ... and label them with the respective list entries\n",
    "           xticklabels = classes, yticklabels = classes,\n",
    "           title = title,\n",
    "           ylabel = 'True label',\n",
    "           xlabel = 'Predicted label')\n",
    "\n",
    "    # Rotate the tick labels and set their alignment.\n",
    "    plt.setp(ax.get_xticklabels(), rotation=45, ha = \"right\",\n",
    "             rotation_mode = \"anchor\")\n",
    "\n",
    "    # Loop over data dimensions and create text annotations.\n",
    "    fmt = '.2f' if normalize else 'd'\n",
    "    thresh = cm.max() / 2.\n",
    "    for i in range(cm.shape[0]):\n",
    "        for j in range(cm.shape[1]):\n",
    "            ax.text(j, i, format(cm[i, j], fmt),\n",
    "                    ha=\"center\", va=\"center\",\n",
    "                    color=\"white\" if cm[i, j] > thresh else \"black\")\n",
    "    fig.tight_layout()\n",
    "    print(classes)\n",
    "    return ax\n",
    "\n",
    "\n",
    "np.set_printoptions(precision=2)\n",
    "\n",
    "# Plot non-normalized confusion matrix\n",
    "plot_confusion_matrix(y_train_res, y_pred_crossval, classes=y_true_train,\n",
    "                      title='Confusion matrix, without normalization')\n",
    "\n",
    "# Plot normalized confusion matrix\n",
    "plot_confusion_matrix(y_train_res, y_pred_crossval, classes=y_true_train, normalize=True,\n",
    "                      title='Normalized confusion matrix')"
   ]
  },
  {
   "cell_type": "code",
   "execution_count": null,
   "metadata": {},
   "outputs": [],
   "source": [
    "y_scores_crossval = gs.predict_proba(X_train_res)[:, 1]"
   ]
  },
  {
   "cell_type": "code",
   "execution_count": null,
   "metadata": {},
   "outputs": [],
   "source": [
    "# Plot ROC-AUC curve\n",
    "def plot_roc_curve(fpr, tpr, label=None):\n",
    "    \"\"\"\n",
    "    The ROC curve, modified from \n",
    "    Hands-On Machine learning with Scikit-Learn and TensorFlow; p.91\n",
    "    \"\"\"\n",
    "    plt.figure(figsize=(8,8))\n",
    "    plt.title('ROC Curve')\n",
    "    plt.plot(fpr, tpr, linewidth=2, label=label)\n",
    "    plt.plot([0, 1], [0, 1], 'k--')\n",
    "    plt.axis([-0.005, 1, 0, 1.005])\n",
    "    plt.xticks(np.arange(0,1, 0.05), rotation=90)\n",
    "    plt.xlabel(\"False Positive Rate\")\n",
    "    plt.ylabel(\"True Positive Rate (Recall)\")\n",
    "    plt.legend(loc='best')\n",
    "    \n",
    "fpr, tpr, auc_thresholds = roc_curve(y_true_train, y_scores_crossval)\n",
    "#print(auc(fpr, tpr)) # AUC of ROC\n",
    "plot_roc_curve(fpr, tpr, 'recall_optimized')"
   ]
  },
  {
   "cell_type": "markdown",
   "metadata": {},
   "source": [
    "## Final Results (Test Set)"
   ]
  },
  {
   "cell_type": "code",
   "execution_count": 231,
   "metadata": {},
   "outputs": [],
   "source": [
    "y_pred_test = best_model.predict(X_test).flatten().round()\n",
    "y_true_test = y_test"
   ]
  },
  {
   "cell_type": "code",
   "execution_count": null,
   "metadata": {},
   "outputs": [],
   "source": [
    "# Save results\n",
    "df.to_csv('rf_dataset_final.csv', index=False)\n",
    "\n",
    "rf_results_final = pd.concat([X_test.reset_index(drop = True),\n",
    "                              pd.DataFrame(y_pred_test, columns = ['bad_case_pred']),\n",
    "                              pd.DataFrame(y_true_test.values, columns = ['bad_case_true'])],\n",
    "                             axis = 1)\n",
    "pd.DataFrame.to_csv(rf_results_final, 'rf_results_final.csv', index = False)\n",
    "\n",
    "feature_importances_final = pd.concat((pd.DataFrame(X_test.columns, columns = ['variable']), \n",
    "                                           pd.DataFrame(rf.feature_importances_, columns = ['importance'])), \n",
    "                                          axis = 1).sort_values(by = 'importance', ascending = False)\n",
    "pd.DataFrame.to_csv(feature_importances_final, 'feature_importances_final.csv', index = False)"
   ]
  },
  {
   "cell_type": "code",
   "execution_count": 232,
   "metadata": {},
   "outputs": [
    {
     "name": "stdout",
     "output_type": "stream",
     "text": [
      "Confusion matrix, without normalization\n",
      "[[5527  496]\n",
      " [ 242  164]]\n",
      "[0. 1.]\n",
      "Normalized confusion matrix\n",
      "[[0.92 0.08]\n",
      " [0.6  0.4 ]]\n",
      "[0. 1.]\n"
     ]
    },
    {
     "data": {
      "text/plain": [
       "<matplotlib.axes._subplots.AxesSubplot at 0x184aecc3b70>"
      ]
     },
     "execution_count": 232,
     "metadata": {},
     "output_type": "execute_result"
    },
    {
     "data": {
      "image/png": "[encoded data removed]",
      "text/plain": [
       "<Figure size 432x288 with 2 Axes>"
      ]
     },
     "metadata": {
      "needs_background": "light"
     },
     "output_type": "display_data"
    },
    {
     "data": {
      "image/png": "[encoded data removed]",
      "text/plain": [
       "<Figure size 432x288 with 2 Axes>"
      ]
     },
     "metadata": {
      "needs_background": "light"
     },
     "output_type": "display_data"
    }
   ],
   "source": [
    "# Plot Confusion Matrix - TEST RESULTS\n",
    "def plot_confusion_matrix(y_true_test, y_pred_test, classes,\n",
    "                          normalize = False,\n",
    "                          title = None,\n",
    "                          cmap = plt.cm.Blues):\n",
    "    \"\"\"\n",
    "    This function prints and plots the confusion matrix.\n",
    "    Normalization can be applied by setting `normalize=True`.\n",
    "    \"\"\"\n",
    "    if not title:\n",
    "        if normalize:\n",
    "            title = 'Normalized confusion matrix'\n",
    "        else:\n",
    "            title = 'Confusion matrix, without normalization'\n",
    "\n",
    "    # Compute confusion matrix\n",
    "    cm = confusion_matrix(y_true_test, y_pred_test)\n",
    "    # Only use the labels that appear in the data\n",
    "    classes = unique_labels(y_true_test, y_pred_test)\n",
    "    if normalize:\n",
    "        cm = cm.astype('float') / cm.sum(axis = 1)[:, np.newaxis]\n",
    "        print(\"Normalized confusion matrix\")\n",
    "    else:\n",
    "        print('Confusion matrix, without normalization')\n",
    "\n",
    "    print(cm)\n",
    "\n",
    "    fig, ax = plt.subplots()\n",
    "    im = ax.imshow(cm, interpolation='nearest', cmap=cmap)\n",
    "    ax.figure.colorbar(im, ax=ax)\n",
    "    # We want to show all ticks...\n",
    "    ax.set(xticks = np.arange(cm.shape[1]),\n",
    "           yticks = np.arange(cm.shape[0]),\n",
    "           # ... and label them with the respective list entries\n",
    "           xticklabels = classes, yticklabels = classes,\n",
    "           title = title,\n",
    "           ylabel = 'True label',\n",
    "           xlabel = 'Predicted label')\n",
    "\n",
    "    # Rotate the tick labels and set their alignment.\n",
    "    plt.setp(ax.get_xticklabels(), rotation=45, ha = \"right\",\n",
    "             rotation_mode = \"anchor\")\n",
    "\n",
    "    # Loop over data dimensions and create text annotations.\n",
    "    fmt = '.2f' if normalize else 'd'\n",
    "    thresh = cm.max() / 2.\n",
    "    for i in range(cm.shape[0]):\n",
    "        for j in range(cm.shape[1]):\n",
    "            ax.text(j, i, format(cm[i, j], fmt),\n",
    "                    ha=\"center\", va=\"center\",\n",
    "                    color=\"white\" if cm[i, j] > thresh else \"black\")\n",
    "    fig.tight_layout()\n",
    "    print(classes)\n",
    "    return ax\n",
    "\n",
    "\n",
    "np.set_printoptions(precision=2)\n",
    "\n",
    "# Plot non-normalized confusion matrix\n",
    "plot_confusion_matrix(y_test, y_pred_test, classes=y_true_test,\n",
    "                      title='Confusion matrix, without normalization')\n",
    "\n",
    "# Plot normalized confusion matrix\n",
    "plot_confusion_matrix(y_test, y_pred_test, classes=y_true_test, normalize=True,\n",
    "                      title='Normalized confusion matrix')"
   ]
  },
  {
   "cell_type": "code",
   "execution_count": 233,
   "metadata": {},
   "outputs": [
    {
     "name": "stdout",
     "output_type": "stream",
     "text": [
      "###########################\n",
      "#### Testing Results ####\n",
      "###########################\n",
      "\n",
      "Accuracy score 0.8852076528231452\n",
      "Precision score:  0.24848484848484848\n",
      "Recall score:  0.4039408866995074\n"
     ]
    },
    {
     "ename": "NameError",
     "evalue": "name 'rf' is not defined",
     "output_type": "error",
     "traceback": [
      "\u001b[1;31m---------------------------------------------------------------------------\u001b[0m",
      "\u001b[1;31mNameError\u001b[0m                                 Traceback (most recent call last)",
      "\u001b[1;32m<ipython-input-233-d44bbfbfba27>\u001b[0m in \u001b[0;36m<module>\u001b[1;34m\u001b[0m\n\u001b[0;32m      7\u001b[0m \u001b[0mprint\u001b[0m\u001b[1;33m(\u001b[0m\u001b[1;34m'Precision score: '\u001b[0m\u001b[1;33m,\u001b[0m \u001b[0mprecision_score\u001b[0m\u001b[1;33m(\u001b[0m\u001b[0my_true_test\u001b[0m\u001b[1;33m,\u001b[0m \u001b[0my_pred_test\u001b[0m\u001b[1;33m)\u001b[0m\u001b[1;33m)\u001b[0m\u001b[1;33m\u001b[0m\u001b[1;33m\u001b[0m\u001b[0m\n\u001b[0;32m      8\u001b[0m \u001b[0mprint\u001b[0m\u001b[1;33m(\u001b[0m\u001b[1;34m'Recall score: '\u001b[0m\u001b[1;33m,\u001b[0m \u001b[0mrecall_score\u001b[0m\u001b[1;33m(\u001b[0m\u001b[0my_true_test\u001b[0m\u001b[1;33m,\u001b[0m \u001b[0my_pred_test\u001b[0m\u001b[1;33m)\u001b[0m\u001b[1;33m)\u001b[0m\u001b[1;33m\u001b[0m\u001b[1;33m\u001b[0m\u001b[0m\n\u001b[1;32m----> 9\u001b[1;33m \u001b[0mprint\u001b[0m\u001b[1;33m(\u001b[0m\u001b[1;34m'OOB score: '\u001b[0m\u001b[1;33m,\u001b[0m \u001b[1;34m\"%.4f\"\u001b[0m \u001b[1;33m%\u001b[0m \u001b[0mrf\u001b[0m\u001b[1;33m.\u001b[0m\u001b[0moob_score_\u001b[0m\u001b[1;33m)\u001b[0m\u001b[1;33m\u001b[0m\u001b[1;33m\u001b[0m\u001b[0m\n\u001b[0m",
      "\u001b[1;31mNameError\u001b[0m: name 'rf' is not defined"
     ]
    }
   ],
   "source": [
    "print(\"###########################\")\n",
    "print(\"#### Testing Results ####\")\n",
    "print(\"###########################\")\n",
    "print(\"\")\n",
    "\n",
    "print('Accuracy score', accuracy_score(y_true_test, y_pred_test))\n",
    "print('Precision score: ', precision_score(y_true_test, y_pred_test))\n",
    "print('Recall score: ', recall_score(y_true_test, y_pred_test))"
   ]
  },
  {
   "cell_type": "code",
   "execution_count": null,
   "metadata": {},
   "outputs": [],
   "source": [
    "# Find the correlation coefficients and list alongside the feature importance. Export .csv\n",
    "corr = pd.DataFrame(df.corr().loc[:,'bad_case'].to_frame()).reset_index()\n",
    "corr.columns = ['variable', 'corr']\n",
    "\n",
    "feature_importances_final.merge(corr).to_csv('feature_importances_final_with_corr.csv')"
   ]
  },
  {
   "cell_type": "code",
   "execution_count": null,
   "metadata": {
    "scrolled": false
   },
   "outputs": [],
   "source": [
    "# Display feature importances with correlations \n",
    "pd.concat((pd.DataFrame(X_train.columns, columns = ['variable']), \n",
    "           pd.DataFrame(rf.feature_importances_, columns = ['importance'])),\n",
    "          axis = 1).sort_values(by='importance', ascending = False)[:20]"
   ]
  },
  {
   "cell_type": "markdown",
   "metadata": {},
   "source": [
    "## Conclusion\n",
    "Between the two models we ran, our accuracy stayed the same at ~95% each time (before and after feature engineering). Our Recall score did improve after feature engineering, but only by ~2% on the test data.\n",
    "\n",
    "Next steps would be to hand pick the features a little more (maybe limit them), and to eventually try out different models. "
   ]
  }
 ],
 "metadata": {
  "kernelspec": {
   "display_name": "Python 3",
   "language": "python",
   "name": "python3"
  },
  "language_info": {
   "codemirror_mode": {
    "name": "ipython",
    "version": 3
   },
   "file_extension": ".py",
   "mimetype": "text/x-python",
   "name": "python",
   "nbconvert_exporter": "python",
   "pygments_lexer": "ipython3",
   "version": "3.7.1"
  }
 },
 "nbformat": 4,
 "nbformat_minor": 2
}
